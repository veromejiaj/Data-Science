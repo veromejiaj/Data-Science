{
 "cells": [
  {
   "cell_type": "markdown",
   "id": "5e485637",
   "metadata": {},
   "source": [
    "#EJERCICIO1"
   ]
  },
  {
   "cell_type": "code",
   "execution_count": 4,
   "id": "d0705553",
   "metadata": {},
   "outputs": [
    {
     "name": "stdout",
     "output_type": "stream",
     "text": [
      "['ener', 'febrero', 'marzo', 'abril', 'mayo', 'junio', 'julio', 'agosto', 'septiembre', 'octubre', 'noviembre', 'diciembre']\n"
     ]
    }
   ],
   "source": [
    "T1=[\"ener\",\"febrero\",\"marzo\"]\n",
    "T2=[\"abril\",\"mayo\",\"junio\"]\n",
    "T3=[\"julio\",\"agosto\",\"septiembre\"]\n",
    "T4=[\"octubre\",\"noviembre\",\"diciembre\"]\n",
    "\n",
    "Anual=T1+T2+T3+T4\n",
    "print(Anual)"
   ]
  },
  {
   "cell_type": "markdown",
   "id": "9de9d477",
   "metadata": {},
   "source": [
    "# correccion ejercicio 1"
   ]
  },
  {
   "cell_type": "code",
   "execution_count": 1,
   "id": "c9c41624",
   "metadata": {},
   "outputs": [
    {
     "name": "stdout",
     "output_type": "stream",
     "text": [
      "[['ener', 'febrero', 'marzo'], ['abril', 'mayo', 'junio'], ['julio', 'agosto', 'septiembre'], ['octubre', 'noviembre', 'diciembre']]\n"
     ]
    }
   ],
   "source": [
    "T1=[\"ener\",\"febrero\",\"marzo\"]\n",
    "T2=[\"abril\",\"mayo\",\"junio\"]\n",
    "T3=[\"julio\",\"agosto\",\"septiembre\"]\n",
    "T4=[\"octubre\",\"noviembre\",\"diciembre\"]\n",
    "\n",
    "Anual=[T1]+[T2]+[T3]+[T4]\n",
    "print(Anual)"
   ]
  },
  {
   "cell_type": "markdown",
   "id": "39681bad",
   "metadata": {},
   "source": [
    "#EJERCICIO2"
   ]
  },
  {
   "cell_type": "code",
   "execution_count": 2,
   "id": "49d84794",
   "metadata": {},
   "outputs": [
    {
     "name": "stdout",
     "output_type": "stream",
     "text": [
      "febrero\n"
     ]
    }
   ],
   "source": [
    "print(Anual[0][1])"
   ]
  },
  {
   "cell_type": "code",
   "execution_count": 10,
   "id": "73db36b5",
   "metadata": {},
   "outputs": [
    {
     "name": "stdout",
     "output_type": "stream",
     "text": [
      "['ener', 'febrero', 'marzo']\n"
     ]
    }
   ],
   "source": [
    "print(Anual[:3])"
   ]
  },
  {
   "cell_type": "code",
   "execution_count": 11,
   "id": "aca8b1b6",
   "metadata": {},
   "outputs": [
    {
     "name": "stdout",
     "output_type": "stream",
     "text": [
      "['septiembre', 'octubre']\n"
     ]
    }
   ],
   "source": [
    "print(Anual[8:10])"
   ]
  },
  {
   "cell_type": "markdown",
   "id": "ae849270",
   "metadata": {},
   "source": [
    "#EJERCICIO3"
   ]
  },
  {
   "cell_type": "code",
   "execution_count": 3,
   "id": "041a1078",
   "metadata": {},
   "outputs": [
    {
     "name": "stdout",
     "output_type": "stream",
     "text": [
      "hay 18 numeros\n",
      "el numero 3 aparece 2 veces\n",
      "el numero 3 y 4 aparecen 4 veces\n",
      "el valor maximo es el 10\n",
      "los valores mas pequeños son [0, 1, 2]\n",
      "el valor maximo es 10 y el minimo es 0\n",
      "el rango es  10\n"
     ]
    }
   ],
   "source": [
    "Numeros=[5,8,10,6,8,3,2,1,5,7,2,6,4,8,9,3,4,0]\n",
    "len(Numeros)\n",
    "x=Numeros.count(3)\n",
    "y=Numeros.count(4)\n",
    "z=max(Numeros)\n",
    "w=min(Numeros)\n",
    "m=(sorted(Numeros))\n",
    "n=(m[:3])\n",
    "print(\"hay\", len(Numeros),\"numeros\")\n",
    "print(\"el numero 3 aparece\",x, \"veces\")\n",
    "print(\"el numero 3 y 4 aparecen\",(x+y), \"veces\")\n",
    "print(\"el valor maximo es el\",z)\n",
    "print(\"los valores mas pequeños son\",n)\n",
    "print(\"el valor maximo es\", z, \"y el minimo es\", w)\n",
    "print (\"el rango es \", (z-w))"
   ]
  },
  {
   "cell_type": "markdown",
   "id": "134d4d50",
   "metadata": {},
   "source": [
    "# EJERCICIO4"
   ]
  },
  {
   "cell_type": "code",
   "execution_count": 5,
   "id": "3928de84",
   "metadata": {},
   "outputs": [
    {
     "name": "stdout",
     "output_type": "stream",
     "text": [
      "{'Pomes': {'Qty': 5, '€': 0.42}, 'Peres': {'Qty': 3, '€': 0.66}, 'maduixa': {'Qty': 20, '€': 0.05}}\n",
      "Las peras han costado 1.98\n"
     ]
    }
   ],
   "source": [
    "compra = { \"Pomes\" : {\"Qty\": 5, \"€\": 0.42 }, \"Peres\" : {\"Qty\": 3, \"€\": 0.66} }\n",
    "compra [\"maduixa\"]= {\n",
    "    \"Qty\": 20, \n",
    "    \"€\": 0.05 \n",
    "}\n",
    "x=compra.get(\"Peres\")\n",
    "y=x.get(\"Qty\")\n",
    "z=x.get(\"€\")\n",
    "print(compra)\n",
    "print(\"Las peras han costado\", (y*z))"
   ]
  },
  {
   "cell_type": "code",
   "execution_count": 43,
   "id": "9a11b51b",
   "metadata": {},
   "outputs": [
    {
     "name": "stdout",
     "output_type": "stream",
     "text": [
      "he comprado  28 frutas\n"
     ]
    }
   ],
   "source": [
    "k=[]\n",
    "for i in compra:\n",
    "    k.append (compra[i][\"Qty\"])\n",
    "print(\"he comprado \",(sum(k)), \"frutas\")\n"
   ]
  },
  {
   "cell_type": "code",
   "execution_count": 47,
   "id": "0475c12c",
   "metadata": {},
   "outputs": [],
   "source": [
    "frutas=list(compra.keys())"
   ]
  },
  {
   "cell_type": "code",
   "execution_count": 50,
   "id": "e0107eeb",
   "metadata": {},
   "outputs": [
    {
     "name": "stdout",
     "output_type": "stream",
     "text": [
      "la fruta mas cara han sido las  Peres\n"
     ]
    }
   ],
   "source": [
    "precios=[]\n",
    "for i in compra:\n",
    "    precios.append (compra[i][\"€\"])\n",
    "maximo=max(precios)\n",
    "indice=precios.index(maximo)\n",
    "print (\"la fruta mas cara han sido las \", frutas[indice])\n",
    "\n",
    "\n",
    "#maximo=max(precios)\n",
    "#indice=precios.index(maximo)\n",
    "#print (\"la fruta mas cara han sido las \", frutas[indice])"
   ]
  },
  {
   "cell_type": "code",
   "execution_count": null,
   "id": "d85e9ff1",
   "metadata": {},
   "outputs": [],
   "source": []
  }
 ],
 "metadata": {
  "kernelspec": {
   "display_name": "Python 3 (ipykernel)",
   "language": "python",
   "name": "python3"
  },
  "language_info": {
   "codemirror_mode": {
    "name": "ipython",
    "version": 3
   },
   "file_extension": ".py",
   "mimetype": "text/x-python",
   "name": "python",
   "nbconvert_exporter": "python",
   "pygments_lexer": "ipython3",
   "version": "3.9.7"
  }
 },
 "nbformat": 4,
 "nbformat_minor": 5
}
