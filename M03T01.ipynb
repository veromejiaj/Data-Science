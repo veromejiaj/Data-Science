{
 "cells": [
  {
   "cell_type": "code",
   "execution_count": 97,
   "id": "deaa3e0b",
   "metadata": {},
   "outputs": [],
   "source": [
    "from numpy import random\n",
    "import numpy as np # importando numpy\n",
    "from scipy import stats # importando scipy.stats\n",
    "import pandas as pd # importando pandas\n"
   ]
  },
  {
   "cell_type": "markdown",
   "id": "6a8e48b9",
   "metadata": {},
   "source": [
    "# ejercicio 1 "
   ]
  },
  {
   "cell_type": "markdown",
   "id": "0156084b",
   "metadata": {},
   "source": [
    "Crea una funció que donat un Array d’una dimensió, et faci un resum estadístic bàsic de les dades. Si detecta que l’array té més d’una dimensió, ha de mostrar un missatge d’error."
   ]
  },
  {
   "cell_type": "code",
   "execution_count": 98,
   "id": "f322f83e",
   "metadata": {},
   "outputs": [],
   "source": [
    "def dimension(arr):\n",
    "    x= (arr.shape) \n",
    "    y=len(x)\n",
    "    if y>1:\n",
    "        print (\"Error\")\n",
    "    else: \n",
    "        dff=pd.DataFrame(arr)\n",
    "        print (dff.describe())\n",
    "        print (\"la varianza es \", dff.var()) \n",
    "        print (\"la suma es \", dff.sum()) \n",
    "    "
   ]
  },
  {
   "cell_type": "code",
   "execution_count": 102,
   "id": "0da6f5bd",
   "metadata": {},
   "outputs": [],
   "source": [
    "arr=random.randint(100, size=(5,5))"
   ]
  },
  {
   "cell_type": "code",
   "execution_count": 103,
   "id": "43685cf9",
   "metadata": {},
   "outputs": [
    {
     "name": "stdout",
     "output_type": "stream",
     "text": [
      "Error\n"
     ]
    }
   ],
   "source": [
    "dimension(arr)"
   ]
  },
  {
   "cell_type": "markdown",
   "id": "6f29b463",
   "metadata": {},
   "source": [
    "# ejercicio 2"
   ]
  },
  {
   "cell_type": "markdown",
   "id": "1d1e490a",
   "metadata": {},
   "source": [
    "Crea una funció que et generi un quadrat NxN de nombres aleatoris entre el 0 i el 100."
   ]
  },
  {
   "cell_type": "code",
   "execution_count": 104,
   "id": "14031cf4",
   "metadata": {},
   "outputs": [],
   "source": [
    "def cuadricula (N):\n",
    "    a = random.randint(100, size=(N, N))\n",
    "    return a"
   ]
  },
  {
   "cell_type": "code",
   "execution_count": 105,
   "id": "1c546140",
   "metadata": {},
   "outputs": [
    {
     "data": {
      "text/plain": [
       "array([[42, 31, 37, 87, 14, 45, 21, 82, 18, 97],\n",
       "       [85, 29, 70, 33, 68, 28, 41, 13, 52, 24],\n",
       "       [43, 64, 29, 87, 24, 30, 23, 13, 77, 43],\n",
       "       [23, 15, 15, 30, 65, 10, 39, 38, 73, 46],\n",
       "       [91, 27, 31, 82, 55, 41, 32,  9, 16, 41],\n",
       "       [28, 44, 63, 35, 43, 52, 67, 34,  8, 80],\n",
       "       [99, 40, 20, 61, 81, 24, 97, 74, 20, 50],\n",
       "       [96, 79, 74, 40, 79, 84, 88, 68, 54, 36],\n",
       "       [27, 49, 37, 69, 25, 46, 63, 92, 76, 74],\n",
       "       [18, 80, 98, 47, 57,  0, 10, 83, 77, 80]])"
      ]
     },
     "execution_count": 105,
     "metadata": {},
     "output_type": "execute_result"
    }
   ],
   "source": [
    "cuadricula (10)"
   ]
  },
  {
   "cell_type": "markdown",
   "id": "4267a449",
   "metadata": {},
   "source": [
    "# ejercicio 3"
   ]
  },
  {
   "cell_type": "markdown",
   "id": "de63fe8e",
   "metadata": {},
   "source": [
    "Crea una funció que donada una taula de dues dimensions (NxM), et calculi els totals per fila i els totals per columna."
   ]
  },
  {
   "cell_type": "code",
   "execution_count": 65,
   "id": "25f08e67",
   "metadata": {},
   "outputs": [],
   "source": [
    "def tabla (N,M):\n",
    "    t = random.randint(100, size=(N, M))\n",
    "    fila=t.sum(axis=1) #cada fila\n",
    "    columna=t.sum(axis=0) # cada columna\n",
    "    return (t,\"los totales de las filas son , \", fila, \"y los totales de las columnas son \", columna)"
   ]
  },
  {
   "cell_type": "code",
   "execution_count": 66,
   "id": "d8d335ed",
   "metadata": {},
   "outputs": [
    {
     "data": {
      "text/plain": [
       "(array([[86,  2, 33, 40, 45],\n",
       "        [66, 20, 51, 58, 74],\n",
       "        [44, 54,  5, 51, 15],\n",
       "        [67, 87,  5, 59, 20],\n",
       "        [57, 31,  1,  2, 58],\n",
       "        [81, 12, 68, 33, 92],\n",
       "        [30, 51, 70, 99, 33],\n",
       "        [93, 48, 62, 96, 96],\n",
       "        [33, 85, 99, 85,  0],\n",
       "        [52,  5, 72, 97, 34]]),\n",
       " 'los totales de las filas son , ',\n",
       " array([206, 269, 169, 238, 149, 286, 283, 395, 302, 260]),\n",
       " 'y los totales de las columnas son ',\n",
       " array([609, 395, 466, 620, 467]))"
      ]
     },
     "execution_count": 66,
     "metadata": {},
     "output_type": "execute_result"
    }
   ],
   "source": [
    "tabla (10,5)"
   ]
  },
  {
   "cell_type": "markdown",
   "id": "bf73fc3d",
   "metadata": {},
   "source": [
    "# ejercicio 4"
   ]
  },
  {
   "cell_type": "markdown",
   "id": "d2ec081e",
   "metadata": {},
   "source": [
    "Implementa manualment una funció que calculi el coeficient de correlació. Informa-te'n sobre els seus usos i interpretació."
   ]
  },
  {
   "cell_type": "code",
   "execution_count": 93,
   "id": "9b1a7cef",
   "metadata": {},
   "outputs": [
    {
     "data": {
      "text/plain": [
       "array([[30, 74, 37],\n",
       "       [52, 56, 36],\n",
       "       [85, 23, 67]])"
      ]
     },
     "execution_count": 93,
     "metadata": {},
     "output_type": "execute_result"
    }
   ],
   "source": [
    "t = random.randint(100, size=(3,3))\n",
    "t"
   ]
  },
  {
   "cell_type": "code",
   "execution_count": 94,
   "id": "959a5405",
   "metadata": {},
   "outputs": [
    {
     "data": {
      "text/plain": [
       "array([[ 1.        ,  0.5355375 , -0.99056519],\n",
       "       [ 0.5355375 ,  1.        , -0.41475095],\n",
       "       [-0.99056519, -0.41475095,  1.        ]])"
      ]
     },
     "execution_count": 94,
     "metadata": {},
     "output_type": "execute_result"
    }
   ],
   "source": [
    "np.corrcoef(t)"
   ]
  },
  {
   "cell_type": "markdown",
   "id": "7ba45978",
   "metadata": {},
   "source": [
    "devuelve la covarianza normalizada. a=1er array b= 2d c= 3r. Matriz te muestra  a,a - a,b - a,c / b,a - b,b - b,c / c,a - c,b - c,c.  covarianza es un valor que indica el grado de variación conjunta de dos variables aleatorias respecto a sus medias."
   ]
  },
  {
   "cell_type": "code",
   "execution_count": null,
   "id": "1c43d15b",
   "metadata": {},
   "outputs": [],
   "source": []
  }
 ],
 "metadata": {
  "kernelspec": {
   "display_name": "Python 3 (ipykernel)",
   "language": "python",
   "name": "python3"
  },
  "language_info": {
   "codemirror_mode": {
    "name": "ipython",
    "version": 3
   },
   "file_extension": ".py",
   "mimetype": "text/x-python",
   "name": "python",
   "nbconvert_exporter": "python",
   "pygments_lexer": "ipython3",
   "version": "3.9.7"
  }
 },
 "nbformat": 4,
 "nbformat_minor": 5
}
