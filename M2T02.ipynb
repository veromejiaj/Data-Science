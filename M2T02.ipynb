{
 "cells": [
  {
   "cell_type": "markdown",
   "id": "6a3dc970",
   "metadata": {},
   "source": [
    "#ejercicio 1"
   ]
  },
  {
   "cell_type": "code",
   "execution_count": 1,
   "id": "69fa1f3c",
   "metadata": {},
   "outputs": [
    {
     "name": "stdout",
     "output_type": "stream",
     "text": [
      "Ingrese la nota\n"
     ]
    }
   ],
   "source": [
    "print(\"Ingrese la nota\")"
   ]
  },
  {
   "cell_type": "code",
   "execution_count": 2,
   "id": "f750008b",
   "metadata": {},
   "outputs": [
    {
     "name": "stdout",
     "output_type": "stream",
     "text": [
      "8\n"
     ]
    }
   ],
   "source": [
    "Nota=input()"
   ]
  },
  {
   "cell_type": "code",
   "execution_count": 3,
   "id": "fc64a2a5",
   "metadata": {},
   "outputs": [
    {
     "name": "stdout",
     "output_type": "stream",
     "text": [
      "8 corresponde a Notable\n"
     ]
    }
   ],
   "source": [
    "Nota=int(Nota)\n",
    "if Nota <5:\n",
    "    y=(\"Suspendido\")\n",
    "elif Nota>5 and Nota<7:\n",
    "    y=(\"Aprovado\")\n",
    "elif Nota>7 and Nota<9:\n",
    "    y=(\"Notable\")\n",
    "elif Nota > 9:\n",
    "    y=(\"Excelente\")\n",
    "print (Nota, \"corresponde a\" ,y)  "
   ]
  },
  {
   "cell_type": "markdown",
   "id": "e1c34bf6",
   "metadata": {},
   "source": [
    "#ejercicio2\n"
   ]
  },
  {
   "cell_type": "code",
   "execution_count": 8,
   "id": "f25fa10a",
   "metadata": {},
   "outputs": [
    {
     "name": "stdout",
     "output_type": "stream",
     "text": [
      "ingrese el primer numero\n",
      "5.4\n",
      "ingrese el segundo numero\n",
      "6.8\n"
     ]
    }
   ],
   "source": [
    "print(\"ingrese el primer numero\")\n",
    "Num1=float(input())\n",
    "print(\"ingrese el segundo numero\")\n",
    "Num2=float(input())"
   ]
  },
  {
   "cell_type": "code",
   "execution_count": 9,
   "id": "c485ab56",
   "metadata": {},
   "outputs": [
    {
     "name": "stdout",
     "output_type": "stream",
     "text": [
      "El segundo numero es más grande que el primero\n"
     ]
    }
   ],
   "source": [
    "if Num1 > Num2:\n",
    "    print(\"El primer numero es más grande que el segundo\")\n",
    "elif Num2 > Num1:\n",
    "    print(\"El segundo numero es más grande que el primero\")  \n",
    "else:\n",
    "    print(\"Son iguales\")\n",
    "    "
   ]
  },
  {
   "cell_type": "markdown",
   "id": "47c8ab38",
   "metadata": {},
   "source": [
    "#ejercicio 3"
   ]
  },
  {
   "cell_type": "code",
   "execution_count": 1,
   "id": "0314506c",
   "metadata": {},
   "outputs": [
    {
     "name": "stdout",
     "output_type": "stream",
     "text": [
      "Cual es tu nombre?\n",
      "vero\n",
      "Dime un numero\n",
      "5\n"
     ]
    }
   ],
   "source": [
    "print(\"Cual es tu nombre?\")\n",
    "Nombre=input()\n",
    "print(\"Dime un numero\")\n",
    "Numero=int(input())"
   ]
  },
  {
   "cell_type": "code",
   "execution_count": 2,
   "id": "29c729f4",
   "metadata": {},
   "outputs": [
    {
     "name": "stdout",
     "output_type": "stream",
     "text": [
      "vero\n",
      "vero\n",
      "vero\n",
      "vero\n",
      "vero\n"
     ]
    }
   ],
   "source": [
    "x=range(Numero)\n",
    "for n in x:\n",
    "    print(Nombre)"
   ]
  },
  {
   "cell_type": "markdown",
   "id": "4fae6804",
   "metadata": {},
   "source": [
    "#ejercicio4"
   ]
  },
  {
   "cell_type": "code",
   "execution_count": 3,
   "id": "a4d019ea",
   "metadata": {},
   "outputs": [
    {
     "name": "stdout",
     "output_type": "stream",
     "text": [
      "es simetrica y tiene  8  elementos\n"
     ]
    }
   ],
   "source": [
    "lista =[25, 50, 4, 6, 6, 4, 50, 25]\n",
    "idx=len(lista)-1\n",
    "newlist=[]\n",
    "while (idx >= 0):\n",
    "    newlist.append(lista[idx])\n",
    "    idx = idx - 1\n",
    "    \n",
    "if lista == newlist:\n",
    "    print (\"es simetrica y tiene \", (len(lista)) ,\" elementos\")\n",
    "else:\n",
    "    print (\"no es simetrica\")\n",
    " \n"
   ]
  },
  {
   "cell_type": "markdown",
   "id": "4860627a",
   "metadata": {},
   "source": [
    "#ejercicio5"
   ]
  },
  {
   "cell_type": "code",
   "execution_count": 6,
   "id": "80b148a2",
   "metadata": {},
   "outputs": [
    {
     "name": "stdout",
     "output_type": "stream",
     "text": [
      "[2, 6] estos numeros coinciden en su posicion\n"
     ]
    }
   ],
   "source": [
    "lista =[25, 50, 2, 6, 8, 7, 6, 25]\n",
    "ind= len(lista)\n",
    "nueva=[]\n",
    "indice=0\n",
    "while indice<ind:\n",
    "    item=lista[indice]\n",
    "    if item==indice:\n",
    "        nueva.append(indice)\n",
    "    indice= indice + 1    \n",
    "    \n",
    "print (nueva, \"estos numeros coinciden en su posicion\")"
   ]
  }
 ],
 "metadata": {
  "kernelspec": {
   "display_name": "Python 3 (ipykernel)",
   "language": "python",
   "name": "python3"
  },
  "language_info": {
   "codemirror_mode": {
    "name": "ipython",
    "version": 3
   },
   "file_extension": ".py",
   "mimetype": "text/x-python",
   "name": "python",
   "nbconvert_exporter": "python",
   "pygments_lexer": "ipython3",
   "version": "3.9.7"
  }
 },
 "nbformat": 4,
 "nbformat_minor": 5
}
