{
 "cells": [
  {
   "cell_type": "markdown",
   "id": "5440c5cb",
   "metadata": {},
   "source": [
    "Exercicis d'algoritmes de Classificació."
   ]
  },
  {
   "cell_type": "markdown",
   "id": "bb5fd49d",
   "metadata": {},
   "source": [
    "- Exercici 1\n",
    "\n",
    "Crea almenys dos models de classificació diferents per intentar predir el millor les classes de l'arxiu adjunt.\n",
    "\n",
    "- Exercici 2\n",
    "\n",
    "Compara els models de classificació utilitzant la precisió (accuracy), una matriu de confiança i d’altres mètriques més avançades.\n",
    "\n",
    "\n",
    "- Exercici 3\n",
    "\n",
    "Entrena’ls usant els diferents paràmetres que admeten per tal de millorar-ne la predicció.\n",
    "\n",
    "\n",
    "- Exercici 4\n",
    "\n",
    "Compara el seu rendiment fent servir l’aproximació traint/test o cross-validation.\n",
    "\n",
    "Este ejercicio no lo tengo claro. Porque para hacer el modelo ya uno el train/test. Esto quiere decir que tengo que ahora usar el cross validation. es decir que a la final uso los dos pero como el enunciado dice \"o\". debería decir use los dos. \n",
    "\n",
    "\n",
    "- Exercici 5\n",
    "\n",
    "Aplica algun procés d'enginyeria per millorar els resultats (normalització, estandardització, mostreig...)"
   ]
  },
  {
   "cell_type": "markdown",
   "id": "92f2dd9f",
   "metadata": {},
   "source": [
    "## DESARROLLO"
   ]
  },
  {
   "cell_type": "markdown",
   "id": "ccc12593",
   "metadata": {},
   "source": [
    "En cada modelo he desarrollado los ejercicios mencionado anteriormente "
   ]
  },
  {
   "cell_type": "markdown",
   "id": "f5c59c19",
   "metadata": {},
   "source": [
    "Segun la base de datos hay tres clases de vino para lo cual contamos con 13 atributos "
   ]
  },
  {
   "cell_type": "markdown",
   "id": "2ee3a51d",
   "metadata": {},
   "source": [
    " \t1) Alcohol\n",
    " \t2) Malic acid\n",
    " \t3) Ash\n",
    "\t4) Alcalinity of ash  \n",
    " \t5) Magnesium\n",
    "\t6) Total phenols\n",
    " \t7) Flavanoids\n",
    " \t8) Nonflavanoid phenols\n",
    " \t9) Proanthocyanins\n",
    "\t10)Color intensity\n",
    " \t11)Hue\n",
    " \t12)OD280/OD315 of diluted wines\n",
    " \t13)Proline  "
   ]
  },
  {
   "cell_type": "code",
   "execution_count": 2,
   "id": "697f83ae",
   "metadata": {},
   "outputs": [],
   "source": [
    "# Load libraries\n",
    "import pandas as pd\n",
    "from sklearn.tree import DecisionTreeClassifier # Import Decision Tree Classifier\n",
    "from sklearn.model_selection import train_test_split # Import train_test_split function\n",
    "from sklearn import metrics #Import scikit-learn metrics module for accuracy calculation"
   ]
  },
  {
   "cell_type": "code",
   "execution_count": 3,
   "id": "014e73c6",
   "metadata": {},
   "outputs": [],
   "source": [
    "import numpy as np"
   ]
  },
  {
   "cell_type": "code",
   "execution_count": 4,
   "id": "f298e143",
   "metadata": {},
   "outputs": [],
   "source": [
    "wine = pd.read_csv( r\"C:\\\\DataScience\\\\string7\\\\wineData.csv\",sep=\",\",header=None)"
   ]
  },
  {
   "cell_type": "code",
   "execution_count": 5,
   "id": "e185560d",
   "metadata": {},
   "outputs": [
    {
     "data": {
      "text/plain": [
       "(178, 14)"
      ]
     },
     "execution_count": 5,
     "metadata": {},
     "output_type": "execute_result"
    }
   ],
   "source": [
    "wine.shape"
   ]
  },
  {
   "cell_type": "code",
   "execution_count": 6,
   "id": "6236d06b",
   "metadata": {},
   "outputs": [],
   "source": [
    "wine.columns=[\"Class\", \"Alcohol\", \"Malic\", \"Ash\", \"Alcalinity\", \"Magnesium\", \"phenols\", \"Flavanoids\", \"Nonflavanoid\", \"Proanthocyanins\", \"Color\", \"Hue\", \"diluted\", \"Proline\"]"
   ]
  },
  {
   "cell_type": "code",
   "execution_count": 7,
   "id": "a96aaa45",
   "metadata": {},
   "outputs": [
    {
     "data": {
      "text/html": [
       "<div>\n",
       "<style scoped>\n",
       "    .dataframe tbody tr th:only-of-type {\n",
       "        vertical-align: middle;\n",
       "    }\n",
       "\n",
       "    .dataframe tbody tr th {\n",
       "        vertical-align: top;\n",
       "    }\n",
       "\n",
       "    .dataframe thead th {\n",
       "        text-align: right;\n",
       "    }\n",
       "</style>\n",
       "<table border=\"1\" class=\"dataframe\">\n",
       "  <thead>\n",
       "    <tr style=\"text-align: right;\">\n",
       "      <th></th>\n",
       "      <th>Class</th>\n",
       "      <th>Alcohol</th>\n",
       "      <th>Malic</th>\n",
       "      <th>Ash</th>\n",
       "      <th>Alcalinity</th>\n",
       "      <th>Magnesium</th>\n",
       "      <th>phenols</th>\n",
       "      <th>Flavanoids</th>\n",
       "      <th>Nonflavanoid</th>\n",
       "      <th>Proanthocyanins</th>\n",
       "      <th>Color</th>\n",
       "      <th>Hue</th>\n",
       "      <th>diluted</th>\n",
       "      <th>Proline</th>\n",
       "    </tr>\n",
       "  </thead>\n",
       "  <tbody>\n",
       "    <tr>\n",
       "      <th>0</th>\n",
       "      <td>1</td>\n",
       "      <td>14.23</td>\n",
       "      <td>1.71</td>\n",
       "      <td>2.43</td>\n",
       "      <td>15.6</td>\n",
       "      <td>127</td>\n",
       "      <td>2.80</td>\n",
       "      <td>3.06</td>\n",
       "      <td>0.28</td>\n",
       "      <td>2.29</td>\n",
       "      <td>5.64</td>\n",
       "      <td>1.04</td>\n",
       "      <td>3.92</td>\n",
       "      <td>1065</td>\n",
       "    </tr>\n",
       "    <tr>\n",
       "      <th>1</th>\n",
       "      <td>1</td>\n",
       "      <td>13.20</td>\n",
       "      <td>1.78</td>\n",
       "      <td>2.14</td>\n",
       "      <td>11.2</td>\n",
       "      <td>100</td>\n",
       "      <td>2.65</td>\n",
       "      <td>2.76</td>\n",
       "      <td>0.26</td>\n",
       "      <td>1.28</td>\n",
       "      <td>4.38</td>\n",
       "      <td>1.05</td>\n",
       "      <td>3.40</td>\n",
       "      <td>1050</td>\n",
       "    </tr>\n",
       "    <tr>\n",
       "      <th>2</th>\n",
       "      <td>1</td>\n",
       "      <td>13.16</td>\n",
       "      <td>2.36</td>\n",
       "      <td>2.67</td>\n",
       "      <td>18.6</td>\n",
       "      <td>101</td>\n",
       "      <td>2.80</td>\n",
       "      <td>3.24</td>\n",
       "      <td>0.30</td>\n",
       "      <td>2.81</td>\n",
       "      <td>5.68</td>\n",
       "      <td>1.03</td>\n",
       "      <td>3.17</td>\n",
       "      <td>1185</td>\n",
       "    </tr>\n",
       "    <tr>\n",
       "      <th>3</th>\n",
       "      <td>1</td>\n",
       "      <td>14.37</td>\n",
       "      <td>1.95</td>\n",
       "      <td>2.50</td>\n",
       "      <td>16.8</td>\n",
       "      <td>113</td>\n",
       "      <td>3.85</td>\n",
       "      <td>3.49</td>\n",
       "      <td>0.24</td>\n",
       "      <td>2.18</td>\n",
       "      <td>7.80</td>\n",
       "      <td>0.86</td>\n",
       "      <td>3.45</td>\n",
       "      <td>1480</td>\n",
       "    </tr>\n",
       "    <tr>\n",
       "      <th>4</th>\n",
       "      <td>1</td>\n",
       "      <td>13.24</td>\n",
       "      <td>2.59</td>\n",
       "      <td>2.87</td>\n",
       "      <td>21.0</td>\n",
       "      <td>118</td>\n",
       "      <td>2.80</td>\n",
       "      <td>2.69</td>\n",
       "      <td>0.39</td>\n",
       "      <td>1.82</td>\n",
       "      <td>4.32</td>\n",
       "      <td>1.04</td>\n",
       "      <td>2.93</td>\n",
       "      <td>735</td>\n",
       "    </tr>\n",
       "  </tbody>\n",
       "</table>\n",
       "</div>"
      ],
      "text/plain": [
       "   Class  Alcohol  Malic   Ash  Alcalinity  Magnesium  phenols  Flavanoids  \\\n",
       "0      1    14.23   1.71  2.43        15.6        127     2.80        3.06   \n",
       "1      1    13.20   1.78  2.14        11.2        100     2.65        2.76   \n",
       "2      1    13.16   2.36  2.67        18.6        101     2.80        3.24   \n",
       "3      1    14.37   1.95  2.50        16.8        113     3.85        3.49   \n",
       "4      1    13.24   2.59  2.87        21.0        118     2.80        2.69   \n",
       "\n",
       "   Nonflavanoid  Proanthocyanins  Color   Hue  diluted  Proline  \n",
       "0          0.28             2.29   5.64  1.04     3.92     1065  \n",
       "1          0.26             1.28   4.38  1.05     3.40     1050  \n",
       "2          0.30             2.81   5.68  1.03     3.17     1185  \n",
       "3          0.24             2.18   7.80  0.86     3.45     1480  \n",
       "4          0.39             1.82   4.32  1.04     2.93      735  "
      ]
     },
     "execution_count": 7,
     "metadata": {},
     "output_type": "execute_result"
    }
   ],
   "source": [
    "wine.head()"
   ]
  },
  {
   "cell_type": "code",
   "execution_count": 21,
   "id": "f7de2dae",
   "metadata": {},
   "outputs": [
    {
     "data": {
      "text/plain": [
       "2    71\n",
       "1    59\n",
       "3    48\n",
       "Name: Class, dtype: int64"
      ]
     },
     "execution_count": 21,
     "metadata": {},
     "output_type": "execute_result"
    }
   ],
   "source": [
    "wine[\"Class\"].value_counts()"
   ]
  },
  {
   "cell_type": "markdown",
   "id": "c36e94ab",
   "metadata": {},
   "source": [
    "## MODELO 1: DECISION TREE"
   ]
  },
  {
   "cell_type": "code",
   "execution_count": 22,
   "id": "6f7c847c",
   "metadata": {},
   "outputs": [],
   "source": [
    "Y=wine.Class\n",
    "X=wine[[\"Alcohol\", \"Malic\", \"Ash\", \"Alcalinity\", \"Magnesium\", \"phenols\", \"Flavanoids\", \"Nonflavanoid\", \"Proanthocyanins\", \"Color\", \"Hue\", \"diluted\", \"Proline\"]]"
   ]
  },
  {
   "cell_type": "code",
   "execution_count": 23,
   "id": "94b9ea0a",
   "metadata": {},
   "outputs": [],
   "source": [
    "X_train, X_test, y_train, y_test = train_test_split(X, Y, test_size=0.3, random_state=1) "
   ]
  },
  {
   "cell_type": "code",
   "execution_count": 24,
   "id": "1b9773cc",
   "metadata": {},
   "outputs": [],
   "source": [
    "# Create Decision Tree classifer object\n",
    "clf = DecisionTreeClassifier()\n",
    "\n",
    "# Train Decision Tree Classifer\n",
    "clf = clf.fit(X_train,y_train)\n",
    "\n",
    "#Predict the response for test dataset\n",
    "y_pred = clf.predict(X_test)"
   ]
  },
  {
   "cell_type": "markdown",
   "id": "689f0ef4",
   "metadata": {},
   "source": [
    "Evaluating Model\n"
   ]
  },
  {
   "cell_type": "code",
   "execution_count": 25,
   "id": "852e8209",
   "metadata": {},
   "outputs": [
    {
     "name": "stdout",
     "output_type": "stream",
     "text": [
      "Accuracy: 0.9814814814814815\n"
     ]
    }
   ],
   "source": [
    "# Model Accuracy, how often is the classifier correct?\n",
    "print(\"Accuracy:\",metrics.accuracy_score(y_test, y_pred))"
   ]
  },
  {
   "cell_type": "code",
   "execution_count": 26,
   "id": "be601e7c",
   "metadata": {},
   "outputs": [
    {
     "name": "stdout",
     "output_type": "stream",
     "text": [
      "0.9814814814814815\n"
     ]
    }
   ],
   "source": [
    "score = clf.score(X_test, y_test)\n",
    "print(score)"
   ]
  },
  {
   "cell_type": "code",
   "execution_count": 27,
   "id": "d007f380",
   "metadata": {},
   "outputs": [
    {
     "data": {
      "text/plain": [
       "array([3, 2, 1, 2, 1, 3, 2, 1, 3, 2, 1, 1, 2, 1, 2, 2, 3, 1, 2, 1, 1, 2,\n",
       "       3, 2, 1, 3, 1, 1, 1, 3, 2, 3, 3, 1, 2, 2, 2, 2, 2, 1, 1, 3, 3, 1,\n",
       "       1, 1, 2, 1, 1, 1, 2, 3, 3, 1], dtype=int64)"
      ]
     },
     "execution_count": 27,
     "metadata": {},
     "output_type": "execute_result"
    }
   ],
   "source": [
    "y_pred"
   ]
  },
  {
   "cell_type": "code",
   "execution_count": 28,
   "id": "bb6413a7",
   "metadata": {},
   "outputs": [
    {
     "data": {
      "text/plain": [
       "array([[23,  0,  0],\n",
       "       [ 0, 18,  1],\n",
       "       [ 0,  0, 12]], dtype=int64)"
      ]
     },
     "execution_count": 28,
     "metadata": {},
     "output_type": "execute_result"
    }
   ],
   "source": [
    "from sklearn import metrics\n",
    "\n",
    "cnf_matrix = metrics.confusion_matrix(y_test, y_pred)\n",
    "cnf_matrix"
   ]
  },
  {
   "cell_type": "code",
   "execution_count": 29,
   "id": "79b61f33",
   "metadata": {},
   "outputs": [
    {
     "data": {
      "text/plain": [
       "Text(0.5, 257.44, 'Predicted label')"
      ]
     },
     "execution_count": 29,
     "metadata": {},
     "output_type": "execute_result"
    },
    {
     "data": {
      "image/png": "[encoded data removed]",
      "text/plain": [
       "<Figure size 432x288 with 2 Axes>"
      ]
     },
     "metadata": {
      "needs_background": "light"
     },
     "output_type": "display_data"
    }
   ],
   "source": [
    "import matplotlib.pyplot as plt\n",
    "import seaborn as sns\n",
    "\n",
    "class_names=[0,1] # name  of classes\n",
    "fig, ax = plt.subplots()\n",
    "tick_marks = np.arange(len(class_names))\n",
    "plt.xticks(tick_marks, class_names)\n",
    "plt.yticks(tick_marks, class_names)\n",
    "# create heatmap\n",
    "sns.heatmap(pd.DataFrame(cnf_matrix), annot=True, cmap=\"YlGnBu\" ,fmt='g')\n",
    "ax.xaxis.set_label_position(\"top\")\n",
    "plt.tight_layout()\n",
    "plt.title('Confusion matrix', y=1.1)\n",
    "plt.ylabel('Actual label')\n",
    "plt.xlabel('Predicted label')\n"
   ]
  },
  {
   "cell_type": "code",
   "execution_count": 30,
   "id": "fce2689d",
   "metadata": {},
   "outputs": [
    {
     "name": "stdout",
     "output_type": "stream",
     "text": [
      "              precision    recall  f1-score   support\n",
      "\n",
      "       Class       1.00      1.00      1.00        23\n",
      "     Class 2       1.00      0.95      0.97        19\n",
      "     Class 3       0.92      1.00      0.96        12\n",
      "\n",
      "    accuracy                           0.98        54\n",
      "   macro avg       0.97      0.98      0.98        54\n",
      "weighted avg       0.98      0.98      0.98        54\n",
      "\n"
     ]
    }
   ],
   "source": [
    "from sklearn.metrics import classification_report\n",
    "target_names = ['Class',\"Class 2\",\"Class 3\"]\n",
    "print(classification_report(y_test, y_pred, target_names=target_names))"
   ]
  },
  {
   "cell_type": "markdown",
   "id": "514e1ffa",
   "metadata": {},
   "source": [
    "### cambio de parametros modelo 1"
   ]
  },
  {
   "cell_type": "code",
   "execution_count": 31,
   "id": "17690721",
   "metadata": {},
   "outputs": [],
   "source": [
    "clf = DecisionTreeClassifier(criterion=\"entropy\", max_depth=5)\n",
    "\n",
    "clf = clf.fit(X_train,y_train)\n",
    "\n",
    "y_pred = clf.predict(X_test)"
   ]
  },
  {
   "cell_type": "code",
   "execution_count": 32,
   "id": "940f5cc2",
   "metadata": {},
   "outputs": [
    {
     "name": "stdout",
     "output_type": "stream",
     "text": [
      "Accuracy: 0.9629629629629629\n"
     ]
    }
   ],
   "source": [
    "print(\"Accuracy:\",metrics.accuracy_score(y_test, y_pred))"
   ]
  },
  {
   "cell_type": "code",
   "execution_count": 33,
   "id": "9d1ce9c1",
   "metadata": {},
   "outputs": [
    {
     "data": {
      "text/plain": [
       "array([[23,  0,  0],\n",
       "       [ 2, 17,  0],\n",
       "       [ 0,  0, 12]], dtype=int64)"
      ]
     },
     "execution_count": 33,
     "metadata": {},
     "output_type": "execute_result"
    }
   ],
   "source": [
    "cnf_matrix = metrics.confusion_matrix(y_test, y_pred)\n",
    "cnf_matrix"
   ]
  },
  {
   "cell_type": "code",
   "execution_count": 36,
   "id": "3d1f19c7",
   "metadata": {},
   "outputs": [
    {
     "name": "stdout",
     "output_type": "stream",
     "text": [
      "              precision    recall  f1-score   support\n",
      "\n",
      "       Class       0.92      1.00      0.96        23\n",
      "     Class 2       1.00      0.89      0.94        19\n",
      "     Class 3       1.00      1.00      1.00        12\n",
      "\n",
      "    accuracy                           0.96        54\n",
      "   macro avg       0.97      0.96      0.97        54\n",
      "weighted avg       0.97      0.96      0.96        54\n",
      "\n"
     ]
    }
   ],
   "source": [
    "from sklearn.metrics import classification_report\n",
    "target_names = ['Class',\"Class 2\",\"Class 3\"]\n",
    "print(classification_report(y_test, y_pred, target_names=target_names))"
   ]
  },
  {
   "cell_type": "markdown",
   "id": "e2ed7392",
   "metadata": {},
   "source": [
    "### K Cross Validation"
   ]
  },
  {
   "cell_type": "code",
   "execution_count": 37,
   "id": "6647226a",
   "metadata": {},
   "outputs": [],
   "source": [
    "from sklearn.model_selection import KFold, cross_val_score"
   ]
  },
  {
   "cell_type": "code",
   "execution_count": 42,
   "id": "7a8b8f24",
   "metadata": {},
   "outputs": [
    {
     "name": "stdout",
     "output_type": "stream",
     "text": [
      "Cross Validation Scores:  [1.         0.83333333 0.88888889 0.66666667 0.77777778 1.\n",
      " 0.94444444 0.72222222 0.88235294 0.88235294]\n",
      "Average CV Score:  0.8598039215686274\n",
      "Number of CV Scores used in Average:  10\n"
     ]
    }
   ],
   "source": [
    "clf = DecisionTreeClassifier(random_state=1)\n",
    "\n",
    "k_folds = KFold(n_splits = 10)\n",
    "\n",
    "scores = cross_val_score(clf, X, Y, cv = k_folds)\n",
    "\n",
    "print(\"Cross Validation Scores: \", scores)\n",
    "print(\"Average CV Score: \", scores.mean())\n",
    "print(\"Number of CV Scores used in Average: \", len(scores)) "
   ]
  },
  {
   "cell_type": "code",
   "execution_count": 39,
   "id": "5d8085b4",
   "metadata": {},
   "outputs": [
    {
     "name": "stdout",
     "output_type": "stream",
     "text": [
      "Accuracy: 0.9629629629629629\n"
     ]
    }
   ],
   "source": [
    "print(\"Accuracy:\",metrics.accuracy_score(y_test, y_pred))"
   ]
  },
  {
   "cell_type": "markdown",
   "id": "1ecc257b",
   "metadata": {},
   "source": [
    "con el CV el modelo es menos eficiente "
   ]
  },
  {
   "cell_type": "markdown",
   "id": "b49f9935",
   "metadata": {},
   "source": [
    "### Ingenieria de datos "
   ]
  },
  {
   "cell_type": "code",
   "execution_count": 44,
   "id": "6a757768",
   "metadata": {},
   "outputs": [
    {
     "data": {
      "image/png": "[encoded data removed]",
      "text/plain": [
       "<Figure size 720x432 with 1 Axes>"
      ]
     },
     "metadata": {
      "needs_background": "light"
     },
     "output_type": "display_data"
    }
   ],
   "source": [
    "fig, ax = plt.subplots()\n",
    "ax.boxplot(wine,labels=wine.columns)\n",
    "fig.set_figwidth(10)\n",
    "fig.set_figheight(6)\n",
    "plt.show()"
   ]
  },
  {
   "cell_type": "code",
   "execution_count": 45,
   "id": "f9f69518",
   "metadata": {},
   "outputs": [
    {
     "name": "stdout",
     "output_type": "stream",
     "text": [
      "stat=0.804, p=0.000\n",
      "Class Probably not Gaussian\n",
      "stat=0.982, p=0.020\n",
      "Alcohol Probably not Gaussian\n",
      "stat=0.889, p=0.000\n",
      "Malic Probably not Gaussian\n",
      "stat=0.984, p=0.039\n",
      "Ash Probably not Gaussian\n",
      "stat=0.990, p=0.264\n",
      "Alcalinity Probably Gaussian\n",
      "stat=0.938, p=0.000\n",
      "Magnesium Probably not Gaussian\n",
      "stat=0.977, p=0.004\n",
      "phenols Probably not Gaussian\n",
      "stat=0.955, p=0.000\n",
      "Flavanoids Probably not Gaussian\n",
      "stat=0.963, p=0.000\n",
      "Nonflavanoid Probably not Gaussian\n",
      "stat=0.981, p=0.014\n",
      "Proanthocyanins Probably not Gaussian\n",
      "stat=0.940, p=0.000\n",
      "Color Probably not Gaussian\n",
      "stat=0.981, p=0.017\n",
      "Hue Probably not Gaussian\n",
      "stat=0.945, p=0.000\n",
      "diluted Probably not Gaussian\n",
      "stat=0.931, p=0.000\n",
      "Proline Probably not Gaussian\n"
     ]
    }
   ],
   "source": [
    "from scipy.stats import shapiro\n",
    "\n",
    "for i in wine.columns:\n",
    "    stat, p = shapiro(wine[i])\n",
    "    print('stat=%.3f, p=%.3f' % (stat, p))\n",
    "    if p > 0.05:\n",
    "        print(i,'Probably Gaussian')\n",
    "    else:\n",
    "        print(i,'Probably not Gaussian')"
   ]
  },
  {
   "cell_type": "code",
   "execution_count": 46,
   "id": "24320eca",
   "metadata": {},
   "outputs": [],
   "source": [
    "from sklearn import preprocessing"
   ]
  },
  {
   "cell_type": "code",
   "execution_count": 47,
   "id": "719c1891",
   "metadata": {},
   "outputs": [],
   "source": [
    "scaler = preprocessing.RobustScaler()"
   ]
  },
  {
   "cell_type": "code",
   "execution_count": 48,
   "id": "ffbadfc6",
   "metadata": {},
   "outputs": [],
   "source": [
    "norm=scaler.fit_transform(X)"
   ]
  },
  {
   "cell_type": "code",
   "execution_count": 49,
   "id": "5ba810f5",
   "metadata": {},
   "outputs": [],
   "source": [
    "X_norm=pd.DataFrame(norm, columns=X.columns,index=wine.index)"
   ]
  },
  {
   "cell_type": "code",
   "execution_count": 50,
   "id": "1236b553",
   "metadata": {},
   "outputs": [
    {
     "data": {
      "text/html": [
       "<div>\n",
       "<style scoped>\n",
       "    .dataframe tbody tr th:only-of-type {\n",
       "        vertical-align: middle;\n",
       "    }\n",
       "\n",
       "    .dataframe tbody tr th {\n",
       "        vertical-align: top;\n",
       "    }\n",
       "\n",
       "    .dataframe thead th {\n",
       "        text-align: right;\n",
       "    }\n",
       "</style>\n",
       "<table border=\"1\" class=\"dataframe\">\n",
       "  <thead>\n",
       "    <tr style=\"text-align: right;\">\n",
       "      <th></th>\n",
       "      <th>Alcohol</th>\n",
       "      <th>Malic</th>\n",
       "      <th>Ash</th>\n",
       "      <th>Alcalinity</th>\n",
       "      <th>Magnesium</th>\n",
       "      <th>phenols</th>\n",
       "      <th>Flavanoids</th>\n",
       "      <th>Nonflavanoid</th>\n",
       "      <th>Proanthocyanins</th>\n",
       "      <th>Color</th>\n",
       "      <th>Hue</th>\n",
       "      <th>diluted</th>\n",
       "      <th>Proline</th>\n",
       "    </tr>\n",
       "  </thead>\n",
       "  <tbody>\n",
       "    <tr>\n",
       "      <th>0</th>\n",
       "      <td>0.897338</td>\n",
       "      <td>-0.104730</td>\n",
       "      <td>0.201439</td>\n",
       "      <td>-0.906977</td>\n",
       "      <td>1.526316</td>\n",
       "      <td>0.420804</td>\n",
       "      <td>0.553892</td>\n",
       "      <td>-0.358209</td>\n",
       "      <td>1.050000</td>\n",
       "      <td>0.318792</td>\n",
       "      <td>0.222222</td>\n",
       "      <td>0.924949</td>\n",
       "      <td>0.808050</td>\n",
       "    </tr>\n",
       "    <tr>\n",
       "      <th>1</th>\n",
       "      <td>0.114068</td>\n",
       "      <td>-0.057432</td>\n",
       "      <td>-0.633094</td>\n",
       "      <td>-1.930233</td>\n",
       "      <td>0.105263</td>\n",
       "      <td>0.278960</td>\n",
       "      <td>0.374251</td>\n",
       "      <td>-0.477612</td>\n",
       "      <td>-0.392857</td>\n",
       "      <td>-0.104027</td>\n",
       "      <td>0.251852</td>\n",
       "      <td>0.503043</td>\n",
       "      <td>0.777090</td>\n",
       "    </tr>\n",
       "    <tr>\n",
       "      <th>2</th>\n",
       "      <td>0.083650</td>\n",
       "      <td>0.334459</td>\n",
       "      <td>0.892086</td>\n",
       "      <td>-0.209302</td>\n",
       "      <td>0.157895</td>\n",
       "      <td>0.420804</td>\n",
       "      <td>0.661677</td>\n",
       "      <td>-0.238806</td>\n",
       "      <td>1.792857</td>\n",
       "      <td>0.332215</td>\n",
       "      <td>0.192593</td>\n",
       "      <td>0.316430</td>\n",
       "      <td>1.055728</td>\n",
       "    </tr>\n",
       "    <tr>\n",
       "      <th>3</th>\n",
       "      <td>1.003802</td>\n",
       "      <td>0.057432</td>\n",
       "      <td>0.402878</td>\n",
       "      <td>-0.627907</td>\n",
       "      <td>0.789474</td>\n",
       "      <td>1.413712</td>\n",
       "      <td>0.811377</td>\n",
       "      <td>-0.597015</td>\n",
       "      <td>0.892857</td>\n",
       "      <td>1.043624</td>\n",
       "      <td>-0.311111</td>\n",
       "      <td>0.543611</td>\n",
       "      <td>1.664603</td>\n",
       "    </tr>\n",
       "    <tr>\n",
       "      <th>4</th>\n",
       "      <td>0.144487</td>\n",
       "      <td>0.489865</td>\n",
       "      <td>1.467626</td>\n",
       "      <td>0.348837</td>\n",
       "      <td>1.052632</td>\n",
       "      <td>0.420804</td>\n",
       "      <td>0.332335</td>\n",
       "      <td>0.298507</td>\n",
       "      <td>0.378571</td>\n",
       "      <td>-0.124161</td>\n",
       "      <td>0.222222</td>\n",
       "      <td>0.121704</td>\n",
       "      <td>0.126935</td>\n",
       "    </tr>\n",
       "    <tr>\n",
       "      <th>...</th>\n",
       "      <td>...</td>\n",
       "      <td>...</td>\n",
       "      <td>...</td>\n",
       "      <td>...</td>\n",
       "      <td>...</td>\n",
       "      <td>...</td>\n",
       "      <td>...</td>\n",
       "      <td>...</td>\n",
       "      <td>...</td>\n",
       "      <td>...</td>\n",
       "      <td>...</td>\n",
       "      <td>...</td>\n",
       "      <td>...</td>\n",
       "    </tr>\n",
       "    <tr>\n",
       "      <th>173</th>\n",
       "      <td>0.501901</td>\n",
       "      <td>2.557432</td>\n",
       "      <td>0.258993</td>\n",
       "      <td>0.232558</td>\n",
       "      <td>-0.157895</td>\n",
       "      <td>-0.638298</td>\n",
       "      <td>-0.913174</td>\n",
       "      <td>1.074627</td>\n",
       "      <td>-0.707143</td>\n",
       "      <td>1.010067</td>\n",
       "      <td>-0.962963</td>\n",
       "      <td>-0.843813</td>\n",
       "      <td>0.137255</td>\n",
       "    </tr>\n",
       "    <tr>\n",
       "      <th>174</th>\n",
       "      <td>0.266160</td>\n",
       "      <td>1.381757</td>\n",
       "      <td>0.345324</td>\n",
       "      <td>0.813953</td>\n",
       "      <td>0.210526</td>\n",
       "      <td>-0.524823</td>\n",
       "      <td>-0.829341</td>\n",
       "      <td>0.537313</td>\n",
       "      <td>-0.207143</td>\n",
       "      <td>0.875839</td>\n",
       "      <td>-0.785185</td>\n",
       "      <td>-0.989858</td>\n",
       "      <td>0.157895</td>\n",
       "    </tr>\n",
       "    <tr>\n",
       "      <th>175</th>\n",
       "      <td>0.167300</td>\n",
       "      <td>1.631757</td>\n",
       "      <td>-0.287770</td>\n",
       "      <td>0.116279</td>\n",
       "      <td>1.157895</td>\n",
       "      <td>-0.723404</td>\n",
       "      <td>-0.865269</td>\n",
       "      <td>0.537313</td>\n",
       "      <td>-0.292857</td>\n",
       "      <td>1.848993</td>\n",
       "      <td>-1.111111</td>\n",
       "      <td>-0.989858</td>\n",
       "      <td>0.333333</td>\n",
       "    </tr>\n",
       "    <tr>\n",
       "      <th>176</th>\n",
       "      <td>0.091255</td>\n",
       "      <td>0.489865</td>\n",
       "      <td>0.028777</td>\n",
       "      <td>0.116279</td>\n",
       "      <td>1.157895</td>\n",
       "      <td>-0.666667</td>\n",
       "      <td>-0.871257</td>\n",
       "      <td>1.134328</td>\n",
       "      <td>-0.135714</td>\n",
       "      <td>1.546980</td>\n",
       "      <td>-1.081481</td>\n",
       "      <td>-0.941176</td>\n",
       "      <td>0.343653</td>\n",
       "    </tr>\n",
       "    <tr>\n",
       "      <th>177</th>\n",
       "      <td>0.821293</td>\n",
       "      <td>1.510135</td>\n",
       "      <td>1.093525</td>\n",
       "      <td>1.162791</td>\n",
       "      <td>-0.105263</td>\n",
       "      <td>-0.288416</td>\n",
       "      <td>-0.823353</td>\n",
       "      <td>1.313433</td>\n",
       "      <td>-0.292857</td>\n",
       "      <td>1.513423</td>\n",
       "      <td>-1.051852</td>\n",
       "      <td>-0.957404</td>\n",
       "      <td>-0.234262</td>\n",
       "    </tr>\n",
       "  </tbody>\n",
       "</table>\n",
       "<p>178 rows × 13 columns</p>\n",
       "</div>"
      ],
      "text/plain": [
       "      Alcohol     Malic       Ash  Alcalinity  Magnesium   phenols  \\\n",
       "0    0.897338 -0.104730  0.201439   -0.906977   1.526316  0.420804   \n",
       "1    0.114068 -0.057432 -0.633094   -1.930233   0.105263  0.278960   \n",
       "2    0.083650  0.334459  0.892086   -0.209302   0.157895  0.420804   \n",
       "3    1.003802  0.057432  0.402878   -0.627907   0.789474  1.413712   \n",
       "4    0.144487  0.489865  1.467626    0.348837   1.052632  0.420804   \n",
       "..        ...       ...       ...         ...        ...       ...   \n",
       "173  0.501901  2.557432  0.258993    0.232558  -0.157895 -0.638298   \n",
       "174  0.266160  1.381757  0.345324    0.813953   0.210526 -0.524823   \n",
       "175  0.167300  1.631757 -0.287770    0.116279   1.157895 -0.723404   \n",
       "176  0.091255  0.489865  0.028777    0.116279   1.157895 -0.666667   \n",
       "177  0.821293  1.510135  1.093525    1.162791  -0.105263 -0.288416   \n",
       "\n",
       "     Flavanoids  Nonflavanoid  Proanthocyanins     Color       Hue   diluted  \\\n",
       "0      0.553892     -0.358209         1.050000  0.318792  0.222222  0.924949   \n",
       "1      0.374251     -0.477612        -0.392857 -0.104027  0.251852  0.503043   \n",
       "2      0.661677     -0.238806         1.792857  0.332215  0.192593  0.316430   \n",
       "3      0.811377     -0.597015         0.892857  1.043624 -0.311111  0.543611   \n",
       "4      0.332335      0.298507         0.378571 -0.124161  0.222222  0.121704   \n",
       "..          ...           ...              ...       ...       ...       ...   \n",
       "173   -0.913174      1.074627        -0.707143  1.010067 -0.962963 -0.843813   \n",
       "174   -0.829341      0.537313        -0.207143  0.875839 -0.785185 -0.989858   \n",
       "175   -0.865269      0.537313        -0.292857  1.848993 -1.111111 -0.989858   \n",
       "176   -0.871257      1.134328        -0.135714  1.546980 -1.081481 -0.941176   \n",
       "177   -0.823353      1.313433        -0.292857  1.513423 -1.051852 -0.957404   \n",
       "\n",
       "      Proline  \n",
       "0    0.808050  \n",
       "1    0.777090  \n",
       "2    1.055728  \n",
       "3    1.664603  \n",
       "4    0.126935  \n",
       "..        ...  \n",
       "173  0.137255  \n",
       "174  0.157895  \n",
       "175  0.333333  \n",
       "176  0.343653  \n",
       "177 -0.234262  \n",
       "\n",
       "[178 rows x 13 columns]"
      ]
     },
     "execution_count": 50,
     "metadata": {},
     "output_type": "execute_result"
    }
   ],
   "source": [
    "X_norm"
   ]
  },
  {
   "cell_type": "code",
   "execution_count": 51,
   "id": "f582914c",
   "metadata": {},
   "outputs": [
    {
     "data": {
      "image/png": "[encoded data removed]",
      "text/plain": [
       "<Figure size 720x432 with 1 Axes>"
      ]
     },
     "metadata": {
      "needs_background": "light"
     },
     "output_type": "display_data"
    }
   ],
   "source": [
    "fig, ax = plt.subplots()\n",
    "ax.boxplot(X_norm,labels=X_norm.columns)\n",
    "fig.set_figwidth(10)\n",
    "fig.set_figheight(6)\n",
    "plt.show()"
   ]
  },
  {
   "cell_type": "code",
   "execution_count": 52,
   "id": "9defc430",
   "metadata": {},
   "outputs": [],
   "source": [
    "Xn_train, Xn_test, yn_train, yn_test = train_test_split(X_norm, Y, test_size=0.3, random_state=1) "
   ]
  },
  {
   "cell_type": "code",
   "execution_count": 53,
   "id": "4da677ee",
   "metadata": {},
   "outputs": [],
   "source": [
    "clf = DecisionTreeClassifier(criterion=\"entropy\", max_depth=5)\n",
    "\n",
    "clf = clf.fit(Xn_train, y_train)\n",
    "\n",
    "y_pred = clf.predict(Xn_test)"
   ]
  },
  {
   "cell_type": "code",
   "execution_count": 54,
   "id": "f7d826d1",
   "metadata": {},
   "outputs": [
    {
     "name": "stdout",
     "output_type": "stream",
     "text": [
      "Accuracy: 0.9629629629629629\n"
     ]
    }
   ],
   "source": [
    "print(\"Accuracy:\",metrics.accuracy_score(y_test, y_pred))"
   ]
  },
  {
   "cell_type": "code",
   "execution_count": 55,
   "id": "d7e32e82",
   "metadata": {},
   "outputs": [
    {
     "data": {
      "text/plain": [
       "array([[22,  1,  0],\n",
       "       [ 1, 18,  0],\n",
       "       [ 0,  0, 12]], dtype=int64)"
      ]
     },
     "execution_count": 55,
     "metadata": {},
     "output_type": "execute_result"
    }
   ],
   "source": [
    "cnf_matrix = metrics.confusion_matrix(yn_test, y_pred)\n",
    "cnf_matrix"
   ]
  },
  {
   "cell_type": "markdown",
   "id": "8abd9cf3",
   "metadata": {},
   "source": [
    "no mejora el modelo "
   ]
  },
  {
   "cell_type": "markdown",
   "id": "a262cdb4",
   "metadata": {},
   "source": [
    "## MODELO 2: XGboast Classifier"
   ]
  },
  {
   "cell_type": "code",
   "execution_count": 56,
   "id": "728f5a0e",
   "metadata": {},
   "outputs": [
    {
     "name": "stdout",
     "output_type": "stream",
     "text": [
      "Requirement already satisfied: xgboost in c:\\users\\verom\\anaconda3\\lib\\site-packages (1.6.1)\n",
      "Requirement already satisfied: scipy in c:\\users\\verom\\anaconda3\\lib\\site-packages (from xgboost) (1.7.1)\n",
      "Requirement already satisfied: numpy in c:\\users\\verom\\anaconda3\\lib\\site-packages (from xgboost) (1.20.3)\n",
      "Note: you may need to restart the kernel to use updated packages.\n"
     ]
    }
   ],
   "source": [
    "pip install xgboost"
   ]
  },
  {
   "cell_type": "code",
   "execution_count": 57,
   "id": "6abce29b",
   "metadata": {},
   "outputs": [],
   "source": [
    "import xgboost as xgb\n",
    "from sklearn.metrics import mean_squared_error"
   ]
  },
  {
   "cell_type": "code",
   "execution_count": 58,
   "id": "8c120342",
   "metadata": {},
   "outputs": [],
   "source": [
    "data_dmatrix = xgb.DMatrix(data=X,label=Y)"
   ]
  },
  {
   "cell_type": "code",
   "execution_count": 59,
   "id": "c1a504ef",
   "metadata": {},
   "outputs": [],
   "source": [
    "xg_reg = xgb.XGBClassifier(objective ='reg:squarederror', colsample_bytree = 0.3, learning_rate = 0.1,\n",
    "                max_depth = 5, alpha = 10, n_estimators = 10, tree_method=\"gpu_hist\", enable_categorical=True, use_label_encoder=False)"
   ]
  },
  {
   "cell_type": "code",
   "execution_count": 60,
   "id": "d8e604ea",
   "metadata": {},
   "outputs": [],
   "source": [
    "from sklearn.preprocessing import LabelEncoder\n",
    "le = LabelEncoder()\n",
    "y_train = le.fit_transform(y_train)"
   ]
  },
  {
   "cell_type": "code",
   "execution_count": 61,
   "id": "6ecc72a8",
   "metadata": {},
   "outputs": [
    {
     "data": {
      "text/plain": [
       "XGBClassifier(alpha=10, base_score=0.5, booster='gbtree', callbacks=None,\n",
       "              colsample_bylevel=1, colsample_bynode=1, colsample_bytree=0.3,\n",
       "              early_stopping_rounds=None, enable_categorical=True,\n",
       "              eval_metric=None, gamma=0, gpu_id=0, grow_policy='depthwise',\n",
       "              importance_type=None, interaction_constraints='',\n",
       "              learning_rate=0.1, max_bin=256, max_cat_to_onehot=4,\n",
       "              max_delta_step=0, max_depth=5, max_leaves=0, min_child_weight=1,\n",
       "              missing=nan, monotone_constraints='()', n_estimators=10, n_jobs=0,\n",
       "              num_parallel_tree=1, objective='multi:softprob', predictor='auto',\n",
       "              random_state=0, ...)"
      ]
     },
     "execution_count": 61,
     "metadata": {},
     "output_type": "execute_result"
    }
   ],
   "source": [
    "xg_reg.fit(X_train,y_train)"
   ]
  },
  {
   "cell_type": "code",
   "execution_count": 62,
   "id": "266c9924",
   "metadata": {},
   "outputs": [],
   "source": [
    "preds = xg_reg.predict(X_test)"
   ]
  },
  {
   "cell_type": "code",
   "execution_count": 63,
   "id": "dcfdaf12",
   "metadata": {},
   "outputs": [],
   "source": [
    "y_test = le.fit_transform(y_test)"
   ]
  },
  {
   "cell_type": "code",
   "execution_count": 64,
   "id": "c726279f",
   "metadata": {},
   "outputs": [
    {
     "name": "stdout",
     "output_type": "stream",
     "text": [
      "Accuracy: 0.9629629629629629\n"
     ]
    }
   ],
   "source": [
    "print(\"Accuracy:\",metrics.accuracy_score(y_test, preds))"
   ]
  },
  {
   "cell_type": "code",
   "execution_count": 65,
   "id": "e9b416d1",
   "metadata": {},
   "outputs": [
    {
     "data": {
      "text/plain": [
       "array([[ 0,  0,  0,  0],\n",
       "       [23,  0,  0,  0],\n",
       "       [ 1, 18,  0,  0],\n",
       "       [ 0,  1, 11,  0]], dtype=int64)"
      ]
     },
     "execution_count": 65,
     "metadata": {},
     "output_type": "execute_result"
    }
   ],
   "source": [
    "cnf_matrix = metrics.confusion_matrix(yn_test, preds)\n",
    "cnf_matrix"
   ]
  },
  {
   "cell_type": "markdown",
   "id": "bccb108d",
   "metadata": {},
   "source": [
    "### cambio de parametros modelo 2 "
   ]
  },
  {
   "cell_type": "code",
   "execution_count": 66,
   "id": "7db985ca",
   "metadata": {},
   "outputs": [],
   "source": [
    "xg_reg = xgb.XGBClassifier(objective ='reg:squarederror', colsample_bytree = 0.3, learning_rate = 0.2,\n",
    "                max_depth = 5, alpha = 10, n_estimators = 15, tree_method=\"gpu_hist\", enable_categorical=True, use_label_encoder=False)"
   ]
  },
  {
   "cell_type": "code",
   "execution_count": 67,
   "id": "83fed863",
   "metadata": {},
   "outputs": [
    {
     "data": {
      "text/plain": [
       "XGBClassifier(alpha=10, base_score=0.5, booster='gbtree', callbacks=None,\n",
       "              colsample_bylevel=1, colsample_bynode=1, colsample_bytree=0.3,\n",
       "              early_stopping_rounds=None, enable_categorical=True,\n",
       "              eval_metric=None, gamma=0, gpu_id=0, grow_policy='depthwise',\n",
       "              importance_type=None, interaction_constraints='',\n",
       "              learning_rate=0.2, max_bin=256, max_cat_to_onehot=4,\n",
       "              max_delta_step=0, max_depth=5, max_leaves=0, min_child_weight=1,\n",
       "              missing=nan, monotone_constraints='()', n_estimators=15, n_jobs=0,\n",
       "              num_parallel_tree=1, objective='multi:softprob', predictor='auto',\n",
       "              random_state=0, ...)"
      ]
     },
     "execution_count": 67,
     "metadata": {},
     "output_type": "execute_result"
    }
   ],
   "source": [
    "xg_reg.fit(X_train,y_train)"
   ]
  },
  {
   "cell_type": "code",
   "execution_count": 68,
   "id": "fb994d1d",
   "metadata": {},
   "outputs": [],
   "source": [
    "preds = xg_reg.predict(X_test)"
   ]
  },
  {
   "cell_type": "code",
   "execution_count": 69,
   "id": "1d277bd4",
   "metadata": {},
   "outputs": [
    {
     "name": "stdout",
     "output_type": "stream",
     "text": [
      "Accuracy: 0.9814814814814815\n"
     ]
    }
   ],
   "source": [
    "print(\"Accuracy:\",metrics.accuracy_score(y_test, preds))"
   ]
  },
  {
   "cell_type": "code",
   "execution_count": 70,
   "id": "55eb73ac",
   "metadata": {},
   "outputs": [
    {
     "data": {
      "text/plain": [
       "array([[ 0,  0,  0,  0],\n",
       "       [23,  0,  0,  0],\n",
       "       [ 1, 18,  0,  0],\n",
       "       [ 0,  0, 12,  0]], dtype=int64)"
      ]
     },
     "execution_count": 70,
     "metadata": {},
     "output_type": "execute_result"
    }
   ],
   "source": [
    "cnf_matrix = metrics.confusion_matrix(yn_test, preds)\n",
    "cnf_matrix"
   ]
  },
  {
   "cell_type": "markdown",
   "id": "72a895f6",
   "metadata": {},
   "source": [
    "Con estos parametros mejora el modelo "
   ]
  },
  {
   "cell_type": "markdown",
   "id": "fd50a6f5",
   "metadata": {},
   "source": [
    "### Cross Validation"
   ]
  },
  {
   "cell_type": "code",
   "execution_count": 75,
   "id": "20457bf3",
   "metadata": {},
   "outputs": [
    {
     "name": "stdout",
     "output_type": "stream",
     "text": [
      "Cross Validation Scores:  [1.         0.72222222 0.94444444 0.88888889 0.94444444 1.\n",
      " 1.         0.66666667 0.88235294 1.        ]\n",
      "Average CV Score:  0.9049019607843137\n",
      "Number of CV Scores used in Average:  10\n"
     ]
    }
   ],
   "source": [
    "k_folds = KFold(n_splits = 10)\n",
    "Yt = le.fit_transform(Y)\n",
    "\n",
    "scores = cross_val_score(xg_reg, X, Yt, cv = k_folds)\n",
    "\n",
    "print(\"Cross Validation Scores: \", scores)\n",
    "print(\"Average CV Score: \", scores.mean())\n",
    "print(\"Number of CV Scores used in Average: \", len(scores)) "
   ]
  },
  {
   "cell_type": "markdown",
   "id": "e6e4d654",
   "metadata": {},
   "source": [
    "El indicador disminuye con la CV"
   ]
  },
  {
   "cell_type": "markdown",
   "id": "7a2b96f0",
   "metadata": {},
   "source": [
    "### datos transformados"
   ]
  },
  {
   "cell_type": "code",
   "execution_count": 76,
   "id": "9795c78f",
   "metadata": {},
   "outputs": [
    {
     "data": {
      "text/plain": [
       "XGBClassifier(alpha=10, base_score=0.5, booster='gbtree', callbacks=None,\n",
       "              colsample_bylevel=1, colsample_bynode=1, colsample_bytree=0.3,\n",
       "              early_stopping_rounds=None, enable_categorical=True,\n",
       "              eval_metric=None, gamma=0, gpu_id=0, grow_policy='depthwise',\n",
       "              importance_type=None, interaction_constraints='',\n",
       "              learning_rate=0.2, max_bin=256, max_cat_to_onehot=4,\n",
       "              max_delta_step=0, max_depth=5, max_leaves=0, min_child_weight=1,\n",
       "              missing=nan, monotone_constraints='()', n_estimators=15, n_jobs=0,\n",
       "              num_parallel_tree=1, objective='multi:softprob', predictor='auto',\n",
       "              random_state=0, ...)"
      ]
     },
     "execution_count": 76,
     "metadata": {},
     "output_type": "execute_result"
    }
   ],
   "source": [
    "xg_reg.fit(Xn_train,y_train)"
   ]
  },
  {
   "cell_type": "code",
   "execution_count": 77,
   "id": "41867b41",
   "metadata": {},
   "outputs": [],
   "source": [
    "preds = xg_reg.predict(Xn_test)"
   ]
  },
  {
   "cell_type": "code",
   "execution_count": 78,
   "id": "ccd16827",
   "metadata": {},
   "outputs": [
    {
     "name": "stdout",
     "output_type": "stream",
     "text": [
      "Accuracy: 0.9814814814814815\n"
     ]
    }
   ],
   "source": [
    "print(\"Accuracy:\",metrics.accuracy_score(y_test, preds))"
   ]
  },
  {
   "cell_type": "markdown",
   "id": "2e445461",
   "metadata": {},
   "source": [
    "añadiendo los datos transformados no mejora pero 0.98 ya es bastante alto"
   ]
  },
  {
   "cell_type": "markdown",
   "id": "0959e3ce",
   "metadata": {},
   "source": [
    "### Cross Validation con datos transformados"
   ]
  },
  {
   "cell_type": "code",
   "execution_count": 80,
   "id": "b2274ad6",
   "metadata": {},
   "outputs": [
    {
     "name": "stdout",
     "output_type": "stream",
     "text": [
      "Cross Validation Scores:  [1.         0.72222222 0.94444444 0.88888889 0.94444444 1.\n",
      " 1.         0.66666667 0.88235294 1.        ]\n",
      "Average CV Score:  0.9049019607843137\n",
      "Number of CV Scores used in Average:  10\n"
     ]
    }
   ],
   "source": [
    "k_folds = KFold(n_splits = 10)\n",
    "Yt = le.fit_transform(Y)\n",
    "\n",
    "scores = cross_val_score(xg_reg, X_norm, Yt, cv = k_folds)\n",
    "\n",
    "print(\"Cross Validation Scores: \", scores)\n",
    "print(\"Average CV Score: \", scores.mean())\n",
    "print(\"Number of CV Scores used in Average: \", len(scores)) "
   ]
  },
  {
   "cell_type": "markdown",
   "id": "bea27626",
   "metadata": {},
   "source": [
    "tampoco mejora"
   ]
  },
  {
   "cell_type": "markdown",
   "id": "88acebb1",
   "metadata": {},
   "source": [
    "## Modelo 3: Logistic regression"
   ]
  },
  {
   "cell_type": "code",
   "execution_count": 96,
   "id": "b3c8b4ed",
   "metadata": {},
   "outputs": [],
   "source": [
    "# train a logistic regression model on the training set\n",
    "from sklearn.linear_model import LogisticRegression\n",
    "\n",
    "# instantiate model\n",
    "logreg = LogisticRegression(random_state=16,solver=\"lbfgs\", max_iter=100)"
   ]
  },
  {
   "cell_type": "code",
   "execution_count": 86,
   "id": "888307d2",
   "metadata": {},
   "outputs": [
    {
     "name": "stderr",
     "output_type": "stream",
     "text": [
      "C:\\Users\\verom\\anaconda3\\lib\\site-packages\\sklearn\\linear_model\\_logistic.py:763: ConvergenceWarning: lbfgs failed to converge (status=1):\n",
      "STOP: TOTAL NO. of ITERATIONS REACHED LIMIT.\n",
      "\n",
      "Increase the number of iterations (max_iter) or scale the data as shown in:\n",
      "    https://scikit-learn.org/stable/modules/preprocessing.html\n",
      "Please also refer to the documentation for alternative solver options:\n",
      "    https://scikit-learn.org/stable/modules/linear_model.html#logistic-regression\n",
      "  n_iter_i = _check_optimize_result(\n"
     ]
    },
    {
     "data": {
      "text/plain": [
       "LogisticRegression(random_state=16)"
      ]
     },
     "execution_count": 86,
     "metadata": {},
     "output_type": "execute_result"
    }
   ],
   "source": [
    "logreg.fit(X_train, y_train)"
   ]
  },
  {
   "cell_type": "code",
   "execution_count": 87,
   "id": "641dffbf",
   "metadata": {},
   "outputs": [],
   "source": [
    "y_pred2 = logreg.predict(X_test)"
   ]
  },
  {
   "cell_type": "code",
   "execution_count": 88,
   "id": "e2bd810f",
   "metadata": {},
   "outputs": [
    {
     "name": "stdout",
     "output_type": "stream",
     "text": [
      "Accuracy: 0.9629629629629629\n"
     ]
    }
   ],
   "source": [
    "print(\"Accuracy:\",metrics.accuracy_score(y_test, y_pred2))"
   ]
  },
  {
   "cell_type": "markdown",
   "id": "5553a607",
   "metadata": {},
   "source": [
    " Confusion Matrix"
   ]
  },
  {
   "cell_type": "code",
   "execution_count": 93,
   "id": "ae3c7a13",
   "metadata": {},
   "outputs": [
    {
     "data": {
      "text/plain": [
       "array([[22,  1,  0],\n",
       "       [ 0, 19,  0],\n",
       "       [ 0,  1, 11]], dtype=int64)"
      ]
     },
     "execution_count": 93,
     "metadata": {},
     "output_type": "execute_result"
    }
   ],
   "source": [
    "cnf_matrix = metrics.confusion_matrix(y_test, y_pred2)\n",
    "cnf_matrix"
   ]
  },
  {
   "cell_type": "code",
   "execution_count": 94,
   "id": "1bc7c55f",
   "metadata": {},
   "outputs": [
    {
     "data": {
      "text/plain": [
       "Text(0.5, 257.44, 'Predicted label')"
      ]
     },
     "execution_count": 94,
     "metadata": {},
     "output_type": "execute_result"
    },
    {
     "data": {
      "image/png": "[encoded data removed]",
      "text/plain": [
       "<Figure size 432x288 with 2 Axes>"
      ]
     },
     "metadata": {
      "needs_background": "light"
     },
     "output_type": "display_data"
    }
   ],
   "source": [
    "class_names=[0,1] # name  of classes\n",
    "fig, ax = plt.subplots()\n",
    "tick_marks = np.arange(len(class_names))\n",
    "plt.xticks(tick_marks, class_names)\n",
    "plt.yticks(tick_marks, class_names)\n",
    "# create heatmap\n",
    "sns.heatmap(pd.DataFrame(cnf_matrix), annot=True, cmap=\"YlGnBu\" ,fmt='g')\n",
    "ax.xaxis.set_label_position(\"top\")\n",
    "plt.tight_layout()\n",
    "plt.title('Confusion matrix', y=1.1)\n",
    "plt.ylabel('Actual label')\n",
    "plt.xlabel('Predicted label')"
   ]
  },
  {
   "cell_type": "code",
   "execution_count": 95,
   "id": "67d13930",
   "metadata": {},
   "outputs": [
    {
     "name": "stdout",
     "output_type": "stream",
     "text": [
      "              precision    recall  f1-score   support\n",
      "\n",
      "     Class 1       1.00      0.96      0.98        23\n",
      "     Class 2       0.90      1.00      0.95        19\n",
      "     Class 3       1.00      0.92      0.96        12\n",
      "\n",
      "    accuracy                           0.96        54\n",
      "   macro avg       0.97      0.96      0.96        54\n",
      "weighted avg       0.97      0.96      0.96        54\n",
      "\n"
     ]
    }
   ],
   "source": [
    "target_names = [\"Class 1\",\"Class 2\",\"Class 3\"]\n",
    "print(classification_report(y_test, y_pred2, target_names=target_names))"
   ]
  },
  {
   "cell_type": "markdown",
   "id": "74da63fa",
   "metadata": {},
   "source": [
    "## cambio de parametros"
   ]
  },
  {
   "cell_type": "code",
   "execution_count": 100,
   "id": "ff13b57c",
   "metadata": {},
   "outputs": [],
   "source": [
    "logreg = LogisticRegression(random_state=1,solver=\"liblinear\", max_iter=150)\n",
    "logreg.fit(X_train, y_train)\n",
    "y_pred2 = logreg.predict(X_test)"
   ]
  },
  {
   "cell_type": "code",
   "execution_count": 102,
   "id": "126c2080",
   "metadata": {},
   "outputs": [
    {
     "name": "stdout",
     "output_type": "stream",
     "text": [
      "Accuracy: 0.9629629629629629\n"
     ]
    }
   ],
   "source": [
    "print(\"Accuracy:\",metrics.accuracy_score(y_test, y_pred2))"
   ]
  },
  {
   "cell_type": "code",
   "execution_count": 103,
   "id": "72723ebd",
   "metadata": {},
   "outputs": [
    {
     "data": {
      "text/plain": [
       "array([[22,  1,  0],\n",
       "       [ 0, 19,  0],\n",
       "       [ 0,  1, 11]], dtype=int64)"
      ]
     },
     "execution_count": 103,
     "metadata": {},
     "output_type": "execute_result"
    }
   ],
   "source": [
    "cnf_matrix = metrics.confusion_matrix(y_test, y_pred2)\n",
    "cnf_matrix"
   ]
  },
  {
   "cell_type": "code",
   "execution_count": 104,
   "id": "f54cf00e",
   "metadata": {},
   "outputs": [
    {
     "data": {
      "text/plain": [
       "Text(0.5, 257.44, 'Predicted label')"
      ]
     },
     "execution_count": 104,
     "metadata": {},
     "output_type": "execute_result"
    },
    {
     "data": {
      "image/png": "[encoded data removed]",
      "text/plain": [
       "<Figure size 432x288 with 2 Axes>"
      ]
     },
     "metadata": {
      "needs_background": "light"
     },
     "output_type": "display_data"
    }
   ],
   "source": [
    "class_names=[0,1] # name  of classes\n",
    "fig, ax = plt.subplots()\n",
    "tick_marks = np.arange(len(class_names))\n",
    "plt.xticks(tick_marks, class_names)\n",
    "plt.yticks(tick_marks, class_names)\n",
    "# create heatmap\n",
    "sns.heatmap(pd.DataFrame(cnf_matrix), annot=True, cmap=\"YlGnBu\" ,fmt='g')\n",
    "ax.xaxis.set_label_position(\"top\")\n",
    "plt.tight_layout()\n",
    "plt.title('Confusion matrix', y=1.1)\n",
    "plt.ylabel('Actual label')\n",
    "plt.xlabel('Predicted label')"
   ]
  },
  {
   "cell_type": "markdown",
   "id": "a2aa6cd1",
   "metadata": {},
   "source": [
    "yo creo q ahora es dificil mejorar el modelo porque tenemos indicadores bastante elevados "
   ]
  },
  {
   "cell_type": "markdown",
   "id": "00924fca",
   "metadata": {},
   "source": [
    "## Cross Validation"
   ]
  },
  {
   "cell_type": "code",
   "execution_count": 106,
   "id": "7e0f55f8",
   "metadata": {},
   "outputs": [
    {
     "name": "stdout",
     "output_type": "stream",
     "text": [
      "Cross Validation Scores:  [1.         0.94444444 1.         0.88888889 0.94444444 1.\n",
      " 1.         0.94444444 1.         1.        ]\n",
      "Average CV Score:  0.9722222222222221\n",
      "Number of CV Scores used in Average:  10\n"
     ]
    }
   ],
   "source": [
    "k_folds = KFold(n_splits = 10)\n",
    "\n",
    "scores = cross_val_score(logreg, X_norm, Yt, cv = k_folds)\n",
    "\n",
    "print(\"Cross Validation Scores: \", scores)\n",
    "print(\"Average CV Score: \", scores.mean())\n",
    "print(\"Number of CV Scores used in Average: \", len(scores)) "
   ]
  },
  {
   "cell_type": "markdown",
   "id": "8a207b34",
   "metadata": {},
   "source": [
    "yo creo que el mejor modelo es el de regresión logistica puesto que el indicador obtenido en la Cross Validation es el mas alto. Los valores de la matriz de confusion tambien son adecuados por lo que yo creo que emplearía el modelo 3"
   ]
  },
  {
   "cell_type": "code",
   "execution_count": null,
   "id": "e4d8f992",
   "metadata": {},
   "outputs": [],
   "source": []
  }
 ],
 "metadata": {
  "kernelspec": {
   "display_name": "Python 3 (ipykernel)",
   "language": "python",
   "name": "python3"
  },
  "language_info": {
   "codemirror_mode": {
    "name": "ipython",
    "version": 3
   },
   "file_extension": ".py",
   "mimetype": "text/x-python",
   "name": "python",
   "nbconvert_exporter": "python",
   "pygments_lexer": "ipython3",
   "version": "3.9.7"
  }
 },
 "nbformat": 4,
 "nbformat_minor": 5
}
