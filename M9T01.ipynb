{
 "cells": [
  {
   "cell_type": "markdown",
   "id": "512ea900",
   "metadata": {},
   "source": [
    "### Exercici 1\n",
    "\n",
    "Agafa un text en anglès que vulguis, i calcula'n la freqüència de les paraules."
   ]
  },
  {
   "cell_type": "code",
   "execution_count": 1,
   "id": "8db500d5",
   "metadata": {},
   "outputs": [],
   "source": [
    "text= \"The traditional starting point of studies of urbanization processes has been a dual vision of space with a clear differentiation between urban and non- urban spaces. Accordingly, the basic premises of urban studies consider a city as an object characterized by particular attributes of form and function that clearly set it apart from the non-city—hence the configuration of the oppositions of country–city and rural–urban that have governed the conceptual development of this branch of the social sciences for decades. This conceptual approach has given rise to countless studies seeking to establish the limits of urban and metropolitan settings on the basis of criteria related to administration, morphology, function, hierarchy of services, economic structures, and lifestyles [3,4]. These approaches have produced extremely interesting results that have often proved useful for the management and governance of a territory but have done nothing to refute the reality that nowadays a strict definition of urban limits is highly problematic in scientific terms. This reality has led, in recent years, to a growing awareness that any understanding of spatial dynamics requires an analysis of urbanization as a process, rather than attempts to define a city,metropolis or region as circumscribed artifacts or areas. This process is made up of activities and social relationships in space that give rise to a complex and constantly changing network of settlements and flows of energy, resources, people, capital, goods, and information [4–6]. This approach therefore goes beyond the analysis and demarcation of spaces characterized by features traditionally ascribed to the city—compactness, complexity, and incessant continuity—to argue that urbanization should be studied as a process that, in its present phase, has led to the overall integration of planetary space as interdependent networks and a growing subjection of resources and goods to trading relationships [1,5,7–10]. However, the urbanization of space in terms of integration and interrelationships does not in any way imply its homogenization. On the contrary: just as urban macroregions present significant social and economic differences, they also display an extremely marked diversity in the intensity of uses in their territories. This diversity is not derived so much from the percentage of surface area that is artificialized, or even from the predominance of primary, secondary or tertiary uses of the space—as suggested by the old urban/rural duality—but by the fact that, in a territory entirely dominated by uses that could be described as urban, activities and flows present various levels of density and intensity. Thus, some areas experience intensive use as both flow and permanent installation of activities and population, while others present less intensity of use, but this absolutely does not mean that they are not also integrated into—and transformed by—the process of urbanization. This article seeks to explore the dynamics of urbanization within a particular area: the eastern coast of the Iberian Peninsula and the Balearic archipelago. The territories of Catalonia, Valencian Community and the Balearic Islands form an urban macro-region with a population of almost 14 million residents, as well as 40 million international visitors per year. In fact, the Iberian Mediterranean coast constitutes an extensive urban region, which encompasses several regional metropolises—Barcelona, Tarragona, València, and Alacant-Elx—along with some of the most developed tourist areas of the Mediterranean—Costa Brava, Costa Daurada, Costa del Sol, and Mallorca—it is similar in size to the macro-regions of the Po Valley in Italy and the Randstad in the Netherlands and it is to be considered one of the main economic axes of Southern Europe. As various authors have pointed out this type of geographic areas are a particularly appropriate setting for a discussion of the intensity of urbanization, due to both the density of its urban uses and its striking seasonal variations. In order to explore this subject, our research takes advantage of a relatively new source that is particularly suited to a study of the intensity of the urbanization process: the nighttime satellite images of the Earth issued by the USA’s National Oceanic and Atmospheric Administration (NOAA). Various authors have pointed out the potential of this source. Starting from the assumption that the nighttime brightness revealed by these means is an anthropogenic phenomenon, then its analysis makes it possible to detect the presence of settlements and human activities (urban areas, communication routes and bridges, traces of fishing boats and ships, and other) and establish the relationships between the intensity of nighttime light, land use and a wide range of socioeconomic variables. The article is divided into four sections: the first focuses on methodological questions; the second shows the particularities of spatial urbanization on the IberianMediterranean coast in terms of extension and intensity, via the data derived from nighttime satellite images; there follows an exploration, by way of example, of the variations over time in these intensities on the Balearic Islands that establishes relationships with various economic indicators; finally, a few brief conclusions close the article.\""
   ]
  },
  {
   "cell_type": "code",
   "execution_count": 2,
   "id": "0361dbb9",
   "metadata": {},
   "outputs": [
    {
     "name": "stdout",
     "output_type": "stream",
     "text": [
      "Requirement already satisfied: nltk in c:\\users\\verom\\anaconda3\\lib\\site-packages (3.6.5)\n",
      "Requirement already satisfied: click in c:\\users\\verom\\anaconda3\\lib\\site-packages (from nltk) (8.0.3)\n",
      "Requirement already satisfied: joblib in c:\\users\\verom\\anaconda3\\lib\\site-packages (from nltk) (1.1.0)\n",
      "Requirement already satisfied: regex>=2021.8.3 in c:\\users\\verom\\anaconda3\\lib\\site-packages (from nltk) (2021.8.3)\n",
      "Requirement already satisfied: tqdm in c:\\users\\verom\\anaconda3\\lib\\site-packages (from nltk) (4.62.3)\n",
      "Requirement already satisfied: colorama in c:\\users\\verom\\anaconda3\\lib\\site-packages (from click->nltk) (0.4.4)\n"
     ]
    }
   ],
   "source": [
    "!pip install nltk"
   ]
  },
  {
   "cell_type": "code",
   "execution_count": 3,
   "id": "99e95007",
   "metadata": {},
   "outputs": [
    {
     "name": "stderr",
     "output_type": "stream",
     "text": [
      "[nltk_data] Downloading package punkt to\n",
      "[nltk_data]     C:\\Users\\verom\\AppData\\Roaming\\nltk_data...\n",
      "[nltk_data]   Package punkt is already up-to-date!\n"
     ]
    },
    {
     "data": {
      "text/plain": [
       "True"
      ]
     },
     "execution_count": 3,
     "metadata": {},
     "output_type": "execute_result"
    }
   ],
   "source": [
    "import nltk\n",
    "nltk.download('punkt')"
   ]
  },
  {
   "cell_type": "code",
   "execution_count": 4,
   "id": "29ff3ebf",
   "metadata": {},
   "outputs": [
    {
     "name": "stdout",
     "output_type": "stream",
     "text": [
      "['The', 'traditional', 'starting', 'point', 'of', 'studies', 'of', 'urbanization', 'processes', 'has', 'been', 'a', 'dual', 'vision', 'of', 'space', 'with', 'a', 'clear', 'differentiation', 'between', 'urban', 'and', 'non-', 'urban', 'spaces', '.', 'Accordingly', ',', 'the', 'basic', 'premises', 'of', 'urban', 'studies', 'consider', 'a', 'city', 'as', 'an', 'object', 'characterized', 'by', 'particular', 'attributes', 'of', 'form', 'and', 'function', 'that', 'clearly', 'set', 'it', 'apart', 'from', 'the', 'non-city—hence', 'the', 'configuration', 'of', 'the', 'oppositions', 'of', 'country–city', 'and', 'rural–urban', 'that', 'have', 'governed', 'the', 'conceptual', 'development', 'of', 'this', 'branch', 'of', 'the', 'social', 'sciences', 'for', 'decades', '.', 'This', 'conceptual', 'approach', 'has', 'given', 'rise', 'to', 'countless', 'studies', 'seeking', 'to', 'establish', 'the', 'limits', 'of', 'urban', 'and', 'metropolitan', 'settings', 'on', 'the', 'basis', 'of', 'criteria', 'related', 'to', 'administration', ',', 'morphology', ',', 'function', ',', 'hierarchy', 'of', 'services', ',', 'economic', 'structures', ',', 'and', 'lifestyles', '[', '3,4', ']', '.', 'These', 'approaches', 'have', 'produced', 'extremely', 'interesting', 'results', 'that', 'have', 'often', 'proved', 'useful', 'for', 'the', 'management', 'and', 'governance', 'of', 'a', 'territory', 'but', 'have', 'done', 'nothing', 'to', 'refute', 'the', 'reality', 'that', 'nowadays', 'a', 'strict', 'definition', 'of', 'urban', 'limits', 'is', 'highly', 'problematic', 'in', 'scientific', 'terms', '.', 'This', 'reality', 'has', 'led', ',', 'in', 'recent', 'years', ',', 'to', 'a', 'growing', 'awareness', 'that', 'any', 'understanding', 'of', 'spatial', 'dynamics', 'requires', 'an', 'analysis', 'of', 'urbanization', 'as', 'a', 'process', ',', 'rather', 'than', 'attempts', 'to', 'define', 'a', 'city', ',', 'metropolis', 'or', 'region', 'as', 'circumscribed', 'artifacts', 'or', 'areas', '.', 'This', 'process', 'is', 'made', 'up', 'of', 'activities', 'and', 'social', 'relationships', 'in', 'space', 'that', 'give', 'rise', 'to', 'a', 'complex', 'and', 'constantly', 'changing', 'network', 'of', 'settlements', 'and', 'flows', 'of', 'energy', ',', 'resources', ',', 'people', ',', 'capital', ',', 'goods', ',', 'and', 'information', '[', '4–6', ']', '.', 'This', 'approach', 'therefore', 'goes', 'beyond', 'the', 'analysis', 'and', 'demarcation', 'of', 'spaces', 'characterized', 'by', 'features', 'traditionally', 'ascribed', 'to', 'the', 'city—compactness', ',', 'complexity', ',', 'and', 'incessant', 'continuity—to', 'argue', 'that', 'urbanization', 'should', 'be', 'studied', 'as', 'a', 'process', 'that', ',', 'in', 'its', 'present', 'phase', ',', 'has', 'led', 'to', 'the', 'overall', 'integration', 'of', 'planetary', 'space', 'as', 'interdependent', 'networks', 'and', 'a', 'growing', 'subjection', 'of', 'resources', 'and', 'goods', 'to', 'trading', 'relationships', '[', '1,5,7–10', ']', '.', 'However', ',', 'the', 'urbanization', 'of', 'space', 'in', 'terms', 'of', 'integration', 'and', 'interrelationships', 'does', 'not', 'in', 'any', 'way', 'imply', 'its', 'homogenization', '.', 'On', 'the', 'contrary', ':', 'just', 'as', 'urban', 'macroregions', 'present', 'significant', 'social', 'and', 'economic', 'differences', ',', 'they', 'also', 'display', 'an', 'extremely', 'marked', 'diversity', 'in', 'the', 'intensity', 'of', 'uses', 'in', 'their', 'territories', '.', 'This', 'diversity', 'is', 'not', 'derived', 'so', 'much', 'from', 'the', 'percentage', 'of', 'surface', 'area', 'that', 'is', 'artificialized', ',', 'or', 'even', 'from', 'the', 'predominance', 'of', 'primary', ',', 'secondary', 'or', 'tertiary', 'uses', 'of', 'the', 'space—as', 'suggested', 'by', 'the', 'old', 'urban/rural', 'duality—but', 'by', 'the', 'fact', 'that', ',', 'in', 'a', 'territory', 'entirely', 'dominated', 'by', 'uses', 'that', 'could', 'be', 'described', 'as', 'urban', ',', 'activities', 'and', 'flows', 'present', 'various', 'levels', 'of', 'density', 'and', 'intensity', '.', 'Thus', ',', 'some', 'areas', 'experience', 'intensive', 'use', 'as', 'both', 'flow', 'and', 'permanent', 'installation', 'of', 'activities', 'and', 'population', ',', 'while', 'others', 'present', 'less', 'intensity', 'of', 'use', ',', 'but', 'this', 'absolutely', 'does', 'not', 'mean', 'that', 'they', 'are', 'not', 'also', 'integrated', 'into—and', 'transformed', 'by—the', 'process', 'of', 'urbanization', '.', 'This', 'article', 'seeks', 'to', 'explore', 'the', 'dynamics', 'of', 'urbanization', 'within', 'a', 'particular', 'area', ':', 'the', 'eastern', 'coast', 'of', 'the', 'Iberian', 'Peninsula', 'and', 'the', 'Balearic', 'archipelago', '.', 'The', 'territories', 'of', 'Catalonia', ',', 'Valencian', 'Community', 'and', 'the', 'Balearic', 'Islands', 'form', 'an', 'urban', 'macro-region', 'with', 'a', 'population', 'of', 'almost', '14', 'million', 'residents', ',', 'as', 'well', 'as', '40', 'million', 'international', 'visitors', 'per', 'year', '.', 'In', 'fact', ',', 'the', 'Iberian', 'Mediterranean', 'coast', 'constitutes', 'an', 'extensive', 'urban', 'region', ',', 'which', 'encompasses', 'several', 'regional', 'metropolises—Barcelona', ',', 'Tarragona', ',', 'València', ',', 'and', 'Alacant-Elx—along', 'with', 'some', 'of', 'the', 'most', 'developed', 'tourist', 'areas', 'of', 'the', 'Mediterranean—Costa', 'Brava', ',', 'Costa', 'Daurada', ',', 'Costa', 'del', 'Sol', ',', 'and', 'Mallorca—it', 'is', 'similar', 'in', 'size', 'to', 'the', 'macro-regions', 'of', 'the', 'Po', 'Valley', 'in', 'Italy', 'and', 'the', 'Randstad', 'in', 'the', 'Netherlands', 'and', 'it', 'is', 'to', 'be', 'considered', 'one', 'of', 'the', 'main', 'economic', 'axes', 'of', 'Southern', 'Europe', '.', 'As', 'various', 'authors', 'have', 'pointed', 'out', 'this', 'type', 'of', 'geographic', 'areas', 'are', 'a', 'particularly', 'appropriate', 'setting', 'for', 'a', 'discussion', 'of', 'the', 'intensity', 'of', 'urbanization', ',', 'due', 'to', 'both', 'the', 'density', 'of', 'its', 'urban', 'uses', 'and', 'its', 'striking', 'seasonal', 'variations', '.', 'In', 'order', 'to', 'explore', 'this', 'subject', ',', 'our', 'research', 'takes', 'advantage', 'of', 'a', 'relatively', 'new', 'source', 'that', 'is', 'particularly', 'suited', 'to', 'a', 'study', 'of', 'the', 'intensity', 'of', 'the', 'urbanization', 'process', ':', 'the', 'nighttime', 'satellite', 'images', 'of', 'the', 'Earth', 'issued', 'by', 'the', 'USA', '’', 's', 'National', 'Oceanic', 'and', 'Atmospheric', 'Administration', '(', 'NOAA', ')', '.', 'Various', 'authors', 'have', 'pointed', 'out', 'the', 'potential', 'of', 'this', 'source', '.', 'Starting', 'from', 'the', 'assumption', 'that', 'the', 'nighttime', 'brightness', 'revealed', 'by', 'these', 'means', 'is', 'an', 'anthropogenic', 'phenomenon', ',', 'then', 'its', 'analysis', 'makes', 'it', 'possible', 'to', 'detect', 'the', 'presence', 'of', 'settlements', 'and', 'human', 'activities', '(', 'urban', 'areas', ',', 'communication', 'routes', 'and', 'bridges', ',', 'traces', 'of', 'fishing', 'boats', 'and', 'ships', ',', 'and', 'other', ')', 'and', 'establish', 'the', 'relationships', 'between', 'the', 'intensity', 'of', 'nighttime', 'light', ',', 'land', 'use', 'and', 'a', 'wide', 'range', 'of', 'socioeconomic', 'variables', '.', 'The', 'article', 'is', 'divided', 'into', 'four', 'sections', ':', 'the', 'first', 'focuses', 'on', 'methodological', 'questions', ';', 'the', 'second', 'shows', 'the', 'particularities', 'of', 'spatial', 'urbanization', 'on', 'the', 'IberianMediterranean', 'coast', 'in', 'terms', 'of', 'extension', 'and', 'intensity', ',', 'via', 'the', 'data', 'derived', 'from', 'nighttime', 'satellite', 'images', ';', 'there', 'follows', 'an', 'exploration', ',', 'by', 'way', 'of', 'example', ',', 'of', 'the', 'variations', 'over', 'time', 'in', 'these', 'intensities', 'on', 'the', 'Balearic', 'Islands', 'that', 'establishes', 'relationships', 'with', 'various', 'economic', 'indicators', ';', 'finally', ',', 'a', 'few', 'brief', 'conclusions', 'close', 'the', 'article', '.']\n"
     ]
    }
   ],
   "source": [
    "from nltk.tokenize import word_tokenize\n",
    "tokenized_word=word_tokenize(text)\n",
    "print(tokenized_word)"
   ]
  },
  {
   "cell_type": "code",
   "execution_count": 5,
   "id": "a6c8a288",
   "metadata": {},
   "outputs": [
    {
     "name": "stdout",
     "output_type": "stream",
     "text": [
      "<FreqDist with 406 samples and 892 outcomes>\n"
     ]
    }
   ],
   "source": [
    "from nltk.probability import FreqDist\n",
    "fdist = FreqDist(tokenized_word)\n",
    "print(fdist)"
   ]
  },
  {
   "cell_type": "code",
   "execution_count": 6,
   "id": "da84798e",
   "metadata": {},
   "outputs": [
    {
     "data": {
      "image/png": "[encoded data removed]",
      "text/plain": [
       "<Figure size 432x288 with 1 Axes>"
      ]
     },
     "metadata": {
      "needs_background": "light"
     },
     "output_type": "display_data"
    }
   ],
   "source": [
    "import matplotlib.pyplot as plt\n",
    "fdist.plot(30,cumulative=False)\n",
    "plt.show()"
   ]
  },
  {
   "cell_type": "markdown",
   "id": "3a937086",
   "metadata": {},
   "source": [
    "### Exercici 2\n",
    "\n",
    "Treu les stopwords i realitza stemming al teu conjunt de dades."
   ]
  },
  {
   "cell_type": "code",
   "execution_count": 7,
   "id": "9b89f8fe",
   "metadata": {},
   "outputs": [
    {
     "name": "stderr",
     "output_type": "stream",
     "text": [
      "[nltk_data] Downloading package stopwords to\n",
      "[nltk_data]     C:\\Users\\verom\\AppData\\Roaming\\nltk_data...\n",
      "[nltk_data]   Package stopwords is already up-to-date!\n"
     ]
    },
    {
     "data": {
      "text/plain": [
       "True"
      ]
     },
     "execution_count": 7,
     "metadata": {},
     "output_type": "execute_result"
    }
   ],
   "source": [
    "nltk.download(\"stopwords\")"
   ]
  },
  {
   "cell_type": "code",
   "execution_count": 8,
   "id": "18805a4e",
   "metadata": {},
   "outputs": [],
   "source": [
    "from nltk.corpus import stopwords"
   ]
  },
  {
   "cell_type": "code",
   "execution_count": 9,
   "id": "73c648a8",
   "metadata": {},
   "outputs": [],
   "source": [
    "stop_words=set(stopwords.words(\"english\"))\n"
   ]
  },
  {
   "cell_type": "code",
   "execution_count": 18,
   "id": "5f972b22",
   "metadata": {},
   "outputs": [],
   "source": [
    "stop_words.update([\".\",\",\"])"
   ]
  },
  {
   "cell_type": "code",
   "execution_count": 19,
   "id": "cb421815",
   "metadata": {},
   "outputs": [
    {
     "name": "stdout",
     "output_type": "stream",
     "text": [
      "{'shouldn', 'with', 'under', 'theirs', \"you've\", 'while', 'there', 'before', 'only', 'your', 'will', 'weren', \"won't\", \"shan't\", 'into', 'myself', 'ourselves', 'o', \"doesn't\", 'not', \"mustn't\", 'because', 'out', 'until', 'his', 'off', 't', 'them', 'it', \"it's\", 'themselves', 'just', 'mustn', 'have', 'll', 'but', 'each', 'its', 'do', 'they', 'as', 'own', 's', 'this', 'don', 'in', 'being', 'am', 'other', 'yourself', 'up', 'ma', \"wouldn't\", 'been', 'i', \"hasn't\", 'against', \"didn't\", 'he', 'during', 'mightn', 'yourselves', 'is', 'couldn', 'itself', 'and', 'isn', 'for', 'through', 'where', 'again', 'their', 'hasn', 'him', 'you', 'an', \"mightn't\", 'by', ',', 'these', 'further', 'y', 'had', 'aren', 're', 'a', \"aren't\", 'hadn', 'between', 'below', 'didn', 'ours', 'to', 'herself', \"wasn't\", 'doesn', 'some', 'won', 'my', 'more', 'are', 'we', 'having', 've', 'no', \"shouldn't\", 'most', 'of', 'haven', 'here', 'her', 'needn', 'me', 'then', 'what', \"she's\", 'after', 'too', 'has', 'if', 'from', 'whom', 'so', 'wasn', 'such', 'those', 'were', 'can', 'which', 'doing', 'on', 'does', 'that', 'ain', 'any', 'now', 'was', 'nor', \"couldn't\", 'how', 'the', 'who', \"hadn't\", 'our', 'did', 'both', \"don't\", 'when', 'd', 'she', 'about', 'than', \"weren't\", \"should've\", 'wouldn', 'shan', 'same', \"you're\", 'or', \"you'll\", 'over', 'all', \"you'd\", 'very', 'be', \"needn't\", 'down', \"isn't\", 'above', 'm', 'why', 'once', 'at', 'few', \"haven't\", \"that'll\", 'should', 'himself', 'yours', 'hers', '.'}\n"
     ]
    }
   ],
   "source": [
    "print(stop_words)"
   ]
  },
  {
   "cell_type": "code",
   "execution_count": 20,
   "id": "459408b2",
   "metadata": {},
   "outputs": [
    {
     "name": "stdout",
     "output_type": "stream",
     "text": [
      "Tokenized Sentence: ['The', 'traditional', 'starting', 'point', 'of', 'studies', 'of', 'urbanization', 'processes', 'has', 'been', 'a', 'dual', 'vision', 'of', 'space', 'with', 'a', 'clear', 'differentiation', 'between', 'urban', 'and', 'non-', 'urban', 'spaces', '.', 'Accordingly', ',', 'the', 'basic', 'premises', 'of', 'urban', 'studies', 'consider', 'a', 'city', 'as', 'an', 'object', 'characterized', 'by', 'particular', 'attributes', 'of', 'form', 'and', 'function', 'that', 'clearly', 'set', 'it', 'apart', 'from', 'the', 'non-city—hence', 'the', 'configuration', 'of', 'the', 'oppositions', 'of', 'country–city', 'and', 'rural–urban', 'that', 'have', 'governed', 'the', 'conceptual', 'development', 'of', 'this', 'branch', 'of', 'the', 'social', 'sciences', 'for', 'decades', '.', 'This', 'conceptual', 'approach', 'has', 'given', 'rise', 'to', 'countless', 'studies', 'seeking', 'to', 'establish', 'the', 'limits', 'of', 'urban', 'and', 'metropolitan', 'settings', 'on', 'the', 'basis', 'of', 'criteria', 'related', 'to', 'administration', ',', 'morphology', ',', 'function', ',', 'hierarchy', 'of', 'services', ',', 'economic', 'structures', ',', 'and', 'lifestyles', '[', '3,4', ']', '.', 'These', 'approaches', 'have', 'produced', 'extremely', 'interesting', 'results', 'that', 'have', 'often', 'proved', 'useful', 'for', 'the', 'management', 'and', 'governance', 'of', 'a', 'territory', 'but', 'have', 'done', 'nothing', 'to', 'refute', 'the', 'reality', 'that', 'nowadays', 'a', 'strict', 'definition', 'of', 'urban', 'limits', 'is', 'highly', 'problematic', 'in', 'scientific', 'terms', '.', 'This', 'reality', 'has', 'led', ',', 'in', 'recent', 'years', ',', 'to', 'a', 'growing', 'awareness', 'that', 'any', 'understanding', 'of', 'spatial', 'dynamics', 'requires', 'an', 'analysis', 'of', 'urbanization', 'as', 'a', 'process', ',', 'rather', 'than', 'attempts', 'to', 'define', 'a', 'city', ',', 'metropolis', 'or', 'region', 'as', 'circumscribed', 'artifacts', 'or', 'areas', '.', 'This', 'process', 'is', 'made', 'up', 'of', 'activities', 'and', 'social', 'relationships', 'in', 'space', 'that', 'give', 'rise', 'to', 'a', 'complex', 'and', 'constantly', 'changing', 'network', 'of', 'settlements', 'and', 'flows', 'of', 'energy', ',', 'resources', ',', 'people', ',', 'capital', ',', 'goods', ',', 'and', 'information', '[', '4–6', ']', '.', 'This', 'approach', 'therefore', 'goes', 'beyond', 'the', 'analysis', 'and', 'demarcation', 'of', 'spaces', 'characterized', 'by', 'features', 'traditionally', 'ascribed', 'to', 'the', 'city—compactness', ',', 'complexity', ',', 'and', 'incessant', 'continuity—to', 'argue', 'that', 'urbanization', 'should', 'be', 'studied', 'as', 'a', 'process', 'that', ',', 'in', 'its', 'present', 'phase', ',', 'has', 'led', 'to', 'the', 'overall', 'integration', 'of', 'planetary', 'space', 'as', 'interdependent', 'networks', 'and', 'a', 'growing', 'subjection', 'of', 'resources', 'and', 'goods', 'to', 'trading', 'relationships', '[', '1,5,7–10', ']', '.', 'However', ',', 'the', 'urbanization', 'of', 'space', 'in', 'terms', 'of', 'integration', 'and', 'interrelationships', 'does', 'not', 'in', 'any', 'way', 'imply', 'its', 'homogenization', '.', 'On', 'the', 'contrary', ':', 'just', 'as', 'urban', 'macroregions', 'present', 'significant', 'social', 'and', 'economic', 'differences', ',', 'they', 'also', 'display', 'an', 'extremely', 'marked', 'diversity', 'in', 'the', 'intensity', 'of', 'uses', 'in', 'their', 'territories', '.', 'This', 'diversity', 'is', 'not', 'derived', 'so', 'much', 'from', 'the', 'percentage', 'of', 'surface', 'area', 'that', 'is', 'artificialized', ',', 'or', 'even', 'from', 'the', 'predominance', 'of', 'primary', ',', 'secondary', 'or', 'tertiary', 'uses', 'of', 'the', 'space—as', 'suggested', 'by', 'the', 'old', 'urban/rural', 'duality—but', 'by', 'the', 'fact', 'that', ',', 'in', 'a', 'territory', 'entirely', 'dominated', 'by', 'uses', 'that', 'could', 'be', 'described', 'as', 'urban', ',', 'activities', 'and', 'flows', 'present', 'various', 'levels', 'of', 'density', 'and', 'intensity', '.', 'Thus', ',', 'some', 'areas', 'experience', 'intensive', 'use', 'as', 'both', 'flow', 'and', 'permanent', 'installation', 'of', 'activities', 'and', 'population', ',', 'while', 'others', 'present', 'less', 'intensity', 'of', 'use', ',', 'but', 'this', 'absolutely', 'does', 'not', 'mean', 'that', 'they', 'are', 'not', 'also', 'integrated', 'into—and', 'transformed', 'by—the', 'process', 'of', 'urbanization', '.', 'This', 'article', 'seeks', 'to', 'explore', 'the', 'dynamics', 'of', 'urbanization', 'within', 'a', 'particular', 'area', ':', 'the', 'eastern', 'coast', 'of', 'the', 'Iberian', 'Peninsula', 'and', 'the', 'Balearic', 'archipelago', '.', 'The', 'territories', 'of', 'Catalonia', ',', 'Valencian', 'Community', 'and', 'the', 'Balearic', 'Islands', 'form', 'an', 'urban', 'macro-region', 'with', 'a', 'population', 'of', 'almost', '14', 'million', 'residents', ',', 'as', 'well', 'as', '40', 'million', 'international', 'visitors', 'per', 'year', '.', 'In', 'fact', ',', 'the', 'Iberian', 'Mediterranean', 'coast', 'constitutes', 'an', 'extensive', 'urban', 'region', ',', 'which', 'encompasses', 'several', 'regional', 'metropolises—Barcelona', ',', 'Tarragona', ',', 'València', ',', 'and', 'Alacant-Elx—along', 'with', 'some', 'of', 'the', 'most', 'developed', 'tourist', 'areas', 'of', 'the', 'Mediterranean—Costa', 'Brava', ',', 'Costa', 'Daurada', ',', 'Costa', 'del', 'Sol', ',', 'and', 'Mallorca—it', 'is', 'similar', 'in', 'size', 'to', 'the', 'macro-regions', 'of', 'the', 'Po', 'Valley', 'in', 'Italy', 'and', 'the', 'Randstad', 'in', 'the', 'Netherlands', 'and', 'it', 'is', 'to', 'be', 'considered', 'one', 'of', 'the', 'main', 'economic', 'axes', 'of', 'Southern', 'Europe', '.', 'As', 'various', 'authors', 'have', 'pointed', 'out', 'this', 'type', 'of', 'geographic', 'areas', 'are', 'a', 'particularly', 'appropriate', 'setting', 'for', 'a', 'discussion', 'of', 'the', 'intensity', 'of', 'urbanization', ',', 'due', 'to', 'both', 'the', 'density', 'of', 'its', 'urban', 'uses', 'and', 'its', 'striking', 'seasonal', 'variations', '.', 'In', 'order', 'to', 'explore', 'this', 'subject', ',', 'our', 'research', 'takes', 'advantage', 'of', 'a', 'relatively', 'new', 'source', 'that', 'is', 'particularly', 'suited', 'to', 'a', 'study', 'of', 'the', 'intensity', 'of', 'the', 'urbanization', 'process', ':', 'the', 'nighttime', 'satellite', 'images', 'of', 'the', 'Earth', 'issued', 'by', 'the', 'USA', '’', 's', 'National', 'Oceanic', 'and', 'Atmospheric', 'Administration', '(', 'NOAA', ')', '.', 'Various', 'authors', 'have', 'pointed', 'out', 'the', 'potential', 'of', 'this', 'source', '.', 'Starting', 'from', 'the', 'assumption', 'that', 'the', 'nighttime', 'brightness', 'revealed', 'by', 'these', 'means', 'is', 'an', 'anthropogenic', 'phenomenon', ',', 'then', 'its', 'analysis', 'makes', 'it', 'possible', 'to', 'detect', 'the', 'presence', 'of', 'settlements', 'and', 'human', 'activities', '(', 'urban', 'areas', ',', 'communication', 'routes', 'and', 'bridges', ',', 'traces', 'of', 'fishing', 'boats', 'and', 'ships', ',', 'and', 'other', ')', 'and', 'establish', 'the', 'relationships', 'between', 'the', 'intensity', 'of', 'nighttime', 'light', ',', 'land', 'use', 'and', 'a', 'wide', 'range', 'of', 'socioeconomic', 'variables', '.', 'The', 'article', 'is', 'divided', 'into', 'four', 'sections', ':', 'the', 'first', 'focuses', 'on', 'methodological', 'questions', ';', 'the', 'second', 'shows', 'the', 'particularities', 'of', 'spatial', 'urbanization', 'on', 'the', 'IberianMediterranean', 'coast', 'in', 'terms', 'of', 'extension', 'and', 'intensity', ',', 'via', 'the', 'data', 'derived', 'from', 'nighttime', 'satellite', 'images', ';', 'there', 'follows', 'an', 'exploration', ',', 'by', 'way', 'of', 'example', ',', 'of', 'the', 'variations', 'over', 'time', 'in', 'these', 'intensities', 'on', 'the', 'Balearic', 'Islands', 'that', 'establishes', 'relationships', 'with', 'various', 'economic', 'indicators', ';', 'finally', ',', 'a', 'few', 'brief', 'conclusions', 'close', 'the', 'article', '.']\n",
      "Filterd Sentence: ['The', 'traditional', 'starting', 'point', 'studies', 'urbanization', 'processes', 'dual', 'vision', 'space', 'clear', 'differentiation', 'urban', 'non-', 'urban', 'spaces', 'Accordingly', 'basic', 'premises', 'urban', 'studies', 'consider', 'city', 'object', 'characterized', 'particular', 'attributes', 'form', 'function', 'clearly', 'set', 'apart', 'non-city—hence', 'configuration', 'oppositions', 'country–city', 'rural–urban', 'governed', 'conceptual', 'development', 'branch', 'social', 'sciences', 'decades', 'This', 'conceptual', 'approach', 'given', 'rise', 'countless', 'studies', 'seeking', 'establish', 'limits', 'urban', 'metropolitan', 'settings', 'basis', 'criteria', 'related', 'administration', 'morphology', 'function', 'hierarchy', 'services', 'economic', 'structures', 'lifestyles', '[', '3,4', ']', 'These', 'approaches', 'produced', 'extremely', 'interesting', 'results', 'often', 'proved', 'useful', 'management', 'governance', 'territory', 'done', 'nothing', 'refute', 'reality', 'nowadays', 'strict', 'definition', 'urban', 'limits', 'highly', 'problematic', 'scientific', 'terms', 'This', 'reality', 'led', 'recent', 'years', 'growing', 'awareness', 'understanding', 'spatial', 'dynamics', 'requires', 'analysis', 'urbanization', 'process', 'rather', 'attempts', 'define', 'city', 'metropolis', 'region', 'circumscribed', 'artifacts', 'areas', 'This', 'process', 'made', 'activities', 'social', 'relationships', 'space', 'give', 'rise', 'complex', 'constantly', 'changing', 'network', 'settlements', 'flows', 'energy', 'resources', 'people', 'capital', 'goods', 'information', '[', '4–6', ']', 'This', 'approach', 'therefore', 'goes', 'beyond', 'analysis', 'demarcation', 'spaces', 'characterized', 'features', 'traditionally', 'ascribed', 'city—compactness', 'complexity', 'incessant', 'continuity—to', 'argue', 'urbanization', 'studied', 'process', 'present', 'phase', 'led', 'overall', 'integration', 'planetary', 'space', 'interdependent', 'networks', 'growing', 'subjection', 'resources', 'goods', 'trading', 'relationships', '[', '1,5,7–10', ']', 'However', 'urbanization', 'space', 'terms', 'integration', 'interrelationships', 'way', 'imply', 'homogenization', 'On', 'contrary', ':', 'urban', 'macroregions', 'present', 'significant', 'social', 'economic', 'differences', 'also', 'display', 'extremely', 'marked', 'diversity', 'intensity', 'uses', 'territories', 'This', 'diversity', 'derived', 'much', 'percentage', 'surface', 'area', 'artificialized', 'even', 'predominance', 'primary', 'secondary', 'tertiary', 'uses', 'space—as', 'suggested', 'old', 'urban/rural', 'duality—but', 'fact', 'territory', 'entirely', 'dominated', 'uses', 'could', 'described', 'urban', 'activities', 'flows', 'present', 'various', 'levels', 'density', 'intensity', 'Thus', 'areas', 'experience', 'intensive', 'use', 'flow', 'permanent', 'installation', 'activities', 'population', 'others', 'present', 'less', 'intensity', 'use', 'absolutely', 'mean', 'also', 'integrated', 'into—and', 'transformed', 'by—the', 'process', 'urbanization', 'This', 'article', 'seeks', 'explore', 'dynamics', 'urbanization', 'within', 'particular', 'area', ':', 'eastern', 'coast', 'Iberian', 'Peninsula', 'Balearic', 'archipelago', 'The', 'territories', 'Catalonia', 'Valencian', 'Community', 'Balearic', 'Islands', 'form', 'urban', 'macro-region', 'population', 'almost', '14', 'million', 'residents', 'well', '40', 'million', 'international', 'visitors', 'per', 'year', 'In', 'fact', 'Iberian', 'Mediterranean', 'coast', 'constitutes', 'extensive', 'urban', 'region', 'encompasses', 'several', 'regional', 'metropolises—Barcelona', 'Tarragona', 'València', 'Alacant-Elx—along', 'developed', 'tourist', 'areas', 'Mediterranean—Costa', 'Brava', 'Costa', 'Daurada', 'Costa', 'del', 'Sol', 'Mallorca—it', 'similar', 'size', 'macro-regions', 'Po', 'Valley', 'Italy', 'Randstad', 'Netherlands', 'considered', 'one', 'main', 'economic', 'axes', 'Southern', 'Europe', 'As', 'various', 'authors', 'pointed', 'type', 'geographic', 'areas', 'particularly', 'appropriate', 'setting', 'discussion', 'intensity', 'urbanization', 'due', 'density', 'urban', 'uses', 'striking', 'seasonal', 'variations', 'In', 'order', 'explore', 'subject', 'research', 'takes', 'advantage', 'relatively', 'new', 'source', 'particularly', 'suited', 'study', 'intensity', 'urbanization', 'process', ':', 'nighttime', 'satellite', 'images', 'Earth', 'issued', 'USA', '’', 'National', 'Oceanic', 'Atmospheric', 'Administration', '(', 'NOAA', ')', 'Various', 'authors', 'pointed', 'potential', 'source', 'Starting', 'assumption', 'nighttime', 'brightness', 'revealed', 'means', 'anthropogenic', 'phenomenon', 'analysis', 'makes', 'possible', 'detect', 'presence', 'settlements', 'human', 'activities', '(', 'urban', 'areas', 'communication', 'routes', 'bridges', 'traces', 'fishing', 'boats', 'ships', ')', 'establish', 'relationships', 'intensity', 'nighttime', 'light', 'land', 'use', 'wide', 'range', 'socioeconomic', 'variables', 'The', 'article', 'divided', 'four', 'sections', ':', 'first', 'focuses', 'methodological', 'questions', ';', 'second', 'shows', 'particularities', 'spatial', 'urbanization', 'IberianMediterranean', 'coast', 'terms', 'extension', 'intensity', 'via', 'data', 'derived', 'nighttime', 'satellite', 'images', ';', 'follows', 'exploration', 'way', 'example', 'variations', 'time', 'intensities', 'Balearic', 'Islands', 'establishes', 'relationships', 'various', 'economic', 'indicators', ';', 'finally', 'brief', 'conclusions', 'close', 'article']\n"
     ]
    }
   ],
   "source": [
    "filtered_sent=[]\n",
    "for w in tokenized_word:\n",
    "    if w not in stop_words:\n",
    "        filtered_sent.append(w)\n",
    "print(\"Tokenized Sentence:\",tokenized_word)\n",
    "print(\"Filterd Sentence:\",filtered_sent)"
   ]
  },
  {
   "cell_type": "code",
   "execution_count": 21,
   "id": "5787165c",
   "metadata": {},
   "outputs": [],
   "source": [
    "fdistf = FreqDist(filtered_sent)\n"
   ]
  },
  {
   "cell_type": "code",
   "execution_count": 22,
   "id": "a7bd4b63",
   "metadata": {},
   "outputs": [
    {
     "data": {
      "text/plain": [
       "[('urban', 11), ('urbanization', 9)]"
      ]
     },
     "execution_count": 22,
     "metadata": {},
     "output_type": "execute_result"
    }
   ],
   "source": [
    "fdistf.most_common(2)"
   ]
  },
  {
   "cell_type": "code",
   "execution_count": 23,
   "id": "01201602",
   "metadata": {},
   "outputs": [
    {
     "data": {
      "image/png": "[encoded data removed]",
      "text/plain": [
       "<Figure size 432x288 with 1 Axes>"
      ]
     },
     "metadata": {
      "needs_background": "light"
     },
     "output_type": "display_data"
    }
   ],
   "source": [
    "fdistf.plot(30,cumulative=False)\n",
    "plt.show()"
   ]
  },
  {
   "cell_type": "markdown",
   "id": "9548b036",
   "metadata": {},
   "source": [
    "#### Steaming"
   ]
  },
  {
   "cell_type": "code",
   "execution_count": 24,
   "id": "e6d41427",
   "metadata": {},
   "outputs": [
    {
     "name": "stdout",
     "output_type": "stream",
     "text": [
      "Stemmed Sentence: ['the', 'tradit', 'start', 'point', 'studi', 'urban', 'process', 'dual', 'vision', 'space', 'clear', 'differenti', 'urban', 'non-', 'urban', 'space', 'accordingli', 'basic', 'premis', 'urban', 'studi', 'consid', 'citi', 'object', 'character', 'particular', 'attribut', 'form', 'function', 'clearli', 'set', 'apart', 'non-city—h', 'configur', 'opposit', 'country–c', 'rural–urban', 'govern', 'conceptu', 'develop', 'branch', 'social', 'scienc', 'decad', 'thi', 'conceptu', 'approach', 'given', 'rise', 'countless', 'studi', 'seek', 'establish', 'limit', 'urban', 'metropolitan', 'set', 'basi', 'criteria', 'relat', 'administr', 'morpholog', 'function', 'hierarchi', 'servic', 'econom', 'structur', 'lifestyl', '[', '3,4', ']', 'these', 'approach', 'produc', 'extrem', 'interest', 'result', 'often', 'prove', 'use', 'manag', 'govern', 'territori', 'done', 'noth', 'refut', 'realiti', 'nowaday', 'strict', 'definit', 'urban', 'limit', 'highli', 'problemat', 'scientif', 'term', 'thi', 'realiti', 'led', 'recent', 'year', 'grow', 'awar', 'understand', 'spatial', 'dynam', 'requir', 'analysi', 'urban', 'process', 'rather', 'attempt', 'defin', 'citi', 'metropoli', 'region', 'circumscrib', 'artifact', 'area', 'thi', 'process', 'made', 'activ', 'social', 'relationship', 'space', 'give', 'rise', 'complex', 'constantli', 'chang', 'network', 'settlement', 'flow', 'energi', 'resourc', 'peopl', 'capit', 'good', 'inform', '[', '4–6', ']', 'thi', 'approach', 'therefor', 'goe', 'beyond', 'analysi', 'demarc', 'space', 'character', 'featur', 'tradit', 'ascrib', 'city—compact', 'complex', 'incess', 'continuity—to', 'argu', 'urban', 'studi', 'process', 'present', 'phase', 'led', 'overal', 'integr', 'planetari', 'space', 'interdepend', 'network', 'grow', 'subject', 'resourc', 'good', 'trade', 'relationship', '[', '1,5,7–10', ']', 'howev', 'urban', 'space', 'term', 'integr', 'interrelationship', 'way', 'impli', 'homogen', 'on', 'contrari', ':', 'urban', 'macroregion', 'present', 'signific', 'social', 'econom', 'differ', 'also', 'display', 'extrem', 'mark', 'divers', 'intens', 'use', 'territori', 'thi', 'divers', 'deriv', 'much', 'percentag', 'surfac', 'area', 'artifici', 'even', 'predomin', 'primari', 'secondari', 'tertiari', 'use', 'space—a', 'suggest', 'old', 'urban/rur', 'duality—but', 'fact', 'territori', 'entir', 'domin', 'use', 'could', 'describ', 'urban', 'activ', 'flow', 'present', 'variou', 'level', 'densiti', 'intens', 'thu', 'area', 'experi', 'intens', 'use', 'flow', 'perman', 'instal', 'activ', 'popul', 'other', 'present', 'less', 'intens', 'use', 'absolut', 'mean', 'also', 'integr', 'into—and', 'transform', 'by—th', 'process', 'urban', 'thi', 'articl', 'seek', 'explor', 'dynam', 'urban', 'within', 'particular', 'area', ':', 'eastern', 'coast', 'iberian', 'peninsula', 'balear', 'archipelago', 'the', 'territori', 'catalonia', 'valencian', 'commun', 'balear', 'island', 'form', 'urban', 'macro-region', 'popul', 'almost', '14', 'million', 'resid', 'well', '40', 'million', 'intern', 'visitor', 'per', 'year', 'in', 'fact', 'iberian', 'mediterranean', 'coast', 'constitut', 'extens', 'urban', 'region', 'encompass', 'sever', 'region', 'metropolises—barcelona', 'tarragona', 'valència', 'alacant-elx—along', 'develop', 'tourist', 'area', 'mediterranean—costa', 'brava', 'costa', 'daurada', 'costa', 'del', 'sol', 'mallorca—it', 'similar', 'size', 'macro-region', 'po', 'valley', 'itali', 'randstad', 'netherland', 'consid', 'one', 'main', 'econom', 'axe', 'southern', 'europ', 'as', 'variou', 'author', 'point', 'type', 'geograph', 'area', 'particularli', 'appropri', 'set', 'discuss', 'intens', 'urban', 'due', 'densiti', 'urban', 'use', 'strike', 'season', 'variat', 'in', 'order', 'explor', 'subject', 'research', 'take', 'advantag', 'rel', 'new', 'sourc', 'particularli', 'suit', 'studi', 'intens', 'urban', 'process', ':', 'nighttim', 'satellit', 'imag', 'earth', 'issu', 'usa', '’', 'nation', 'ocean', 'atmospher', 'administr', '(', 'noaa', ')', 'variou', 'author', 'point', 'potenti', 'sourc', 'start', 'assumpt', 'nighttim', 'bright', 'reveal', 'mean', 'anthropogen', 'phenomenon', 'analysi', 'make', 'possibl', 'detect', 'presenc', 'settlement', 'human', 'activ', '(', 'urban', 'area', 'commun', 'rout', 'bridg', 'trace', 'fish', 'boat', 'ship', ')', 'establish', 'relationship', 'intens', 'nighttim', 'light', 'land', 'use', 'wide', 'rang', 'socioeconom', 'variabl', 'the', 'articl', 'divid', 'four', 'section', ':', 'first', 'focus', 'methodolog', 'question', ';', 'second', 'show', 'particular', 'spatial', 'urban', 'iberianmediterranean', 'coast', 'term', 'extens', 'intens', 'via', 'data', 'deriv', 'nighttim', 'satellit', 'imag', ';', 'follow', 'explor', 'way', 'exampl', 'variat', 'time', 'intens', 'balear', 'island', 'establish', 'relationship', 'variou', 'econom', 'indic', ';', 'final', 'brief', 'conclus', 'close', 'articl']\n"
     ]
    }
   ],
   "source": [
    "# Stemming\n",
    "from nltk.stem import PorterStemmer\n",
    "from nltk.tokenize import sent_tokenize, word_tokenize\n",
    "\n",
    "ps = PorterStemmer()\n",
    "\n",
    "stemmed_words=[]\n",
    "for w in filtered_sent:\n",
    "    stemmed_words.append(ps.stem(w))\n",
    "\n",
    "\n",
    "print(\"Stemmed Sentence:\",stemmed_words)"
   ]
  },
  {
   "cell_type": "markdown",
   "id": "5a387309",
   "metadata": {},
   "source": [
    "### Exercici 3\n",
    "\n",
    "Realitza sentiment analysis al teu conjunt de dades."
   ]
  },
  {
   "cell_type": "code",
   "execution_count": 26,
   "id": "f8e6eef4",
   "metadata": {},
   "outputs": [
    {
     "name": "stderr",
     "output_type": "stream",
     "text": [
      "[nltk_data] Downloading package vader_lexicon to\n",
      "[nltk_data]     C:\\Users\\verom\\AppData\\Roaming\\nltk_data...\n"
     ]
    },
    {
     "data": {
      "text/plain": [
       "True"
      ]
     },
     "execution_count": 26,
     "metadata": {},
     "output_type": "execute_result"
    }
   ],
   "source": [
    "nltk.download('vader_lexicon')"
   ]
  },
  {
   "cell_type": "code",
   "execution_count": 27,
   "id": "1d80a7a9",
   "metadata": {},
   "outputs": [
    {
     "data": {
      "text/plain": [
       "{'neg': 0.015, 'neu': 0.943, 'pos': 0.042, 'compound': 0.932}"
      ]
     },
     "execution_count": 27,
     "metadata": {},
     "output_type": "execute_result"
    }
   ],
   "source": [
    "\n",
    "\n",
    "from nltk.sentiment.vader import SentimentIntensityAnalyzer\n",
    "\n",
    "# we use the original text\n",
    "sentiment = SentimentIntensityAnalyzer()\n",
    "sentiment.polarity_scores(text)\n",
    "\n"
   ]
  },
  {
   "cell_type": "markdown",
   "id": "523b8fb6",
   "metadata": {},
   "source": [
    "https://analyticsindiamag.com/sentiment-analysis-made-easy-using-vader/"
   ]
  },
  {
   "cell_type": "code",
   "execution_count": 30,
   "id": "18017d89",
   "metadata": {},
   "outputs": [],
   "source": [
    "sent_dict = sentiment.polarity_scores(text)\n"
   ]
  },
  {
   "cell_type": "code",
   "execution_count": 31,
   "id": "af8297ca",
   "metadata": {},
   "outputs": [
    {
     "name": "stdout",
     "output_type": "stream",
     "text": [
      "Overall text is :  {'neg': 0.015, 'neu': 0.943, 'pos': 0.042, 'compound': 0.932}\n",
      "Text was rated as  1.5 % Negative\n",
      "Text was rated as  94.3 % Neutral\n",
      "Text was rated as  4.2 % Positive\n",
      "The overall text was rated as Positive with a score of 0.932 .\n"
     ]
    }
   ],
   "source": [
    "def sent_score(): \n",
    "    \n",
    "    if sent_dict['compound'] >= 0.05 :\n",
    "        return 'Positive'\n",
    "    elif sent_dict['compound'] <= - 0.05 :\n",
    "        return 'Negative'\n",
    "    else :\n",
    "        return 'Neutral'\n",
    "\n",
    "result = sent_score()\n",
    "\n",
    "print(\"Overall text is : \", sent_dict)\n",
    "print(\"Text was rated as \", sent_dict['neg']*100, \"% Negative\")\n",
    "print(\"Text was rated as \", sent_dict['neu']*100, \"% Neutral\")\n",
    "print(\"Text was rated as \", sent_dict['pos']*100, \"% Positive\")\n",
    "\n",
    "print(\"The overall text was rated as\",result, \"with a score of\", sent_dict['compound'], \".\")"
   ]
  },
  {
   "cell_type": "code",
   "execution_count": 47,
   "id": "809bb134",
   "metadata": {},
   "outputs": [
    {
     "name": "stdout",
     "output_type": "stream",
     "text": [
      "Positive\n"
     ]
    }
   ],
   "source": [
    "print (result)"
   ]
  },
  {
   "cell_type": "markdown",
   "id": "69c91bc8",
   "metadata": {},
   "source": [
    "#### Analisis por oraciones\n"
   ]
  },
  {
   "cell_type": "code",
   "execution_count": 32,
   "id": "2ec890dc",
   "metadata": {},
   "outputs": [
    {
     "data": {
      "text/plain": [
       "['The traditional starting point of studies of urbanization processes has been a dual vision of space with a clear differentiation between urban and non- urban spaces.',\n",
       " 'Accordingly, the basic premises of urban studies consider a city as an object characterized by particular attributes of form and function that clearly set it apart from the non-city—hence the configuration of the oppositions of country–city and rural–urban that have governed the conceptual development of this branch of the social sciences for decades.',\n",
       " 'This conceptual approach has given rise to countless studies seeking to establish the limits of urban and metropolitan settings on the basis of criteria related to administration, morphology, function, hierarchy of services, economic structures, and lifestyles [3,4].',\n",
       " 'These approaches have produced extremely interesting results that have often proved useful for the management and governance of a territory but have done nothing to refute the reality that nowadays a strict definition of urban limits is highly problematic in scientific terms.',\n",
       " 'This reality has led, in recent years, to a growing awareness that any understanding of spatial dynamics requires an analysis of urbanization as a process, rather than attempts to define a city,metropolis or region as circumscribed artifacts or areas.',\n",
       " 'This process is made up of activities and social relationships in space that give rise to a complex and constantly changing network of settlements and flows of energy, resources, people, capital, goods, and information [4–6].',\n",
       " 'This approach therefore goes beyond the analysis and demarcation of spaces characterized by features traditionally ascribed to the city—compactness, complexity, and incessant continuity—to argue that urbanization should be studied as a process that, in its present phase, has led to the overall integration of planetary space as interdependent networks and a growing subjection of resources and goods to trading relationships [1,5,7–10].',\n",
       " 'However, the urbanization of space in terms of integration and interrelationships does not in any way imply its homogenization.',\n",
       " 'On the contrary: just as urban macroregions present significant social and economic differences, they also display an extremely marked diversity in the intensity of uses in their territories.',\n",
       " 'This diversity is not derived so much from the percentage of surface area that is artificialized, or even from the predominance of primary, secondary or tertiary uses of the space—as suggested by the old urban/rural duality—but by the fact that, in a territory entirely dominated by uses that could be described as urban, activities and flows present various levels of density and intensity.',\n",
       " 'Thus, some areas experience intensive use as both flow and permanent installation of activities and population, while others present less intensity of use, but this absolutely does not mean that they are not also integrated into—and transformed by—the process of urbanization.',\n",
       " 'This article seeks to explore the dynamics of urbanization within a particular area: the eastern coast of the Iberian Peninsula and the Balearic archipelago.',\n",
       " 'The territories of Catalonia, Valencian Community and the Balearic Islands form an urban macro-region with a population of almost 14 million residents, as well as 40 million international visitors per year.',\n",
       " 'In fact, the Iberian Mediterranean coast constitutes an extensive urban region, which encompasses several regional metropolises—Barcelona, Tarragona, València, and Alacant-Elx—along with some of the most developed tourist areas of the Mediterranean—Costa Brava, Costa Daurada, Costa del Sol, and Mallorca—it is similar in size to the macro-regions of the Po Valley in Italy and the Randstad in the Netherlands and it is to be considered one of the main economic axes of Southern Europe.',\n",
       " 'As various authors have pointed out this type of geographic areas are a particularly appropriate setting for a discussion of the intensity of urbanization, due to both the density of its urban uses and its striking seasonal variations.',\n",
       " 'In order to explore this subject, our research takes advantage of a relatively new source that is particularly suited to a study of the intensity of the urbanization process: the nighttime satellite images of the Earth issued by the USA’s National Oceanic and Atmospheric Administration (NOAA).',\n",
       " 'Various authors have pointed out the potential of this source.',\n",
       " 'Starting from the assumption that the nighttime brightness revealed by these means is an anthropogenic phenomenon, then its analysis makes it possible to detect the presence of settlements and human activities (urban areas, communication routes and bridges, traces of fishing boats and ships, and other) and establish the relationships between the intensity of nighttime light, land use and a wide range of socioeconomic variables.',\n",
       " 'The article is divided into four sections: the first focuses on methodological questions; the second shows the particularities of spatial urbanization on the IberianMediterranean coast in terms of extension and intensity, via the data derived from nighttime satellite images; there follows an exploration, by way of example, of the variations over time in these intensities on the Balearic Islands that establishes relationships with various economic indicators; finally, a few brief conclusions close the article.']"
      ]
     },
     "execution_count": 32,
     "metadata": {},
     "output_type": "execute_result"
    }
   ],
   "source": [
    "\n",
    "\n",
    "# first we split the text into sentences \n",
    "sentences = nltk.sent_tokenize(text)\n",
    "sentences\n",
    "\n"
   ]
  },
  {
   "cell_type": "code",
   "execution_count": 38,
   "id": "3a8c2847",
   "metadata": {},
   "outputs": [
    {
     "name": "stdout",
     "output_type": "stream",
     "text": [
      "The traditional starting point of studies of urbanization processes has been a dual vision of space with a clear differentiation between urban and non- urban spaces.\n",
      "-----------\n",
      "compound: 0.5574, \n",
      "neg: 0.0, \n",
      "neu: 0.827, \n",
      "pos: 0.173, \n",
      "\n",
      "------------------------------------------------------------------------------\n",
      "\n",
      "\n",
      "Accordingly, the basic premises of urban studies consider a city as an object characterized by particular attributes of form and function that clearly set it apart from the non-city—hence the configuration of the oppositions of country–city and rural–urban that have governed the conceptual development of this branch of the social sciences for decades.\n",
      "-----------\n",
      "compound: 0.4019, \n",
      "neg: 0.0, \n",
      "neu: 0.95, \n",
      "pos: 0.05, \n",
      "\n",
      "------------------------------------------------------------------------------\n",
      "\n",
      "\n",
      "This conceptual approach has given rise to countless studies seeking to establish the limits of urban and metropolitan settings on the basis of criteria related to administration, morphology, function, hierarchy of services, economic structures, and lifestyles [3,4].\n",
      "-----------\n",
      "compound: 0.0, \n",
      "neg: 0.0, \n",
      "neu: 1.0, \n",
      "pos: 0.0, \n",
      "\n",
      "------------------------------------------------------------------------------\n",
      "\n",
      "\n",
      "These approaches have produced extremely interesting results that have often proved useful for the management and governance of a territory but have done nothing to refute the reality that nowadays a strict definition of urban limits is highly problematic in scientific terms.\n",
      "-----------\n",
      "compound: -0.3276, \n",
      "neg: 0.095, \n",
      "neu: 0.818, \n",
      "pos: 0.087, \n",
      "\n",
      "------------------------------------------------------------------------------\n",
      "\n",
      "\n",
      "This reality has led, in recent years, to a growing awareness that any understanding of spatial dynamics requires an analysis of urbanization as a process, rather than attempts to define a city,metropolis or region as circumscribed artifacts or areas.\n",
      "-----------\n",
      "compound: 0.4215, \n",
      "neg: 0.0, \n",
      "neu: 0.899, \n",
      "pos: 0.101, \n",
      "\n",
      "------------------------------------------------------------------------------\n",
      "\n",
      "\n",
      "This process is made up of activities and social relationships in space that give rise to a complex and constantly changing network of settlements and flows of energy, resources, people, capital, goods, and information [4–6].\n",
      "-----------\n",
      "compound: 0.2732, \n",
      "neg: 0.0, \n",
      "neu: 0.94, \n",
      "pos: 0.06, \n",
      "\n",
      "------------------------------------------------------------------------------\n",
      "\n",
      "\n",
      "This approach therefore goes beyond the analysis and demarcation of spaces characterized by features traditionally ascribed to the city—compactness, complexity, and incessant continuity—to argue that urbanization should be studied as a process that, in its present phase, has led to the overall integration of planetary space as interdependent networks and a growing subjection of resources and goods to trading relationships [1,5,7–10].\n",
      "-----------\n",
      "compound: -0.1779, \n",
      "neg: 0.039, \n",
      "neu: 0.933, \n",
      "pos: 0.028, \n",
      "\n",
      "------------------------------------------------------------------------------\n",
      "\n",
      "\n",
      "However, the urbanization of space in terms of integration and interrelationships does not in any way imply its homogenization.\n",
      "-----------\n",
      "compound: 0.0, \n",
      "neg: 0.0, \n",
      "neu: 1.0, \n",
      "pos: 0.0, \n",
      "\n",
      "------------------------------------------------------------------------------\n",
      "\n",
      "\n",
      "On the contrary: just as urban macroregions present significant social and economic differences, they also display an extremely marked diversity in the intensity of uses in their territories.\n",
      "-----------\n",
      "compound: 0.2023, \n",
      "neg: 0.0, \n",
      "neu: 0.938, \n",
      "pos: 0.062, \n",
      "\n",
      "------------------------------------------------------------------------------\n",
      "\n",
      "\n",
      "This diversity is not derived so much from the percentage of surface area that is artificialized, or even from the predominance of primary, secondary or tertiary uses of the space—as suggested by the old urban/rural duality—but by the fact that, in a territory entirely dominated by uses that could be described as urban, activities and flows present various levels of density and intensity.\n",
      "-----------\n",
      "compound: 0.0, \n",
      "neg: 0.0, \n",
      "neu: 1.0, \n",
      "pos: 0.0, \n",
      "\n",
      "------------------------------------------------------------------------------\n",
      "\n",
      "\n",
      "Thus, some areas experience intensive use as both flow and permanent installation of activities and population, while others present less intensity of use, but this absolutely does not mean that they are not also integrated into—and transformed by—the process of urbanization.\n",
      "-----------\n",
      "compound: 0.0, \n",
      "neg: 0.0, \n",
      "neu: 1.0, \n",
      "pos: 0.0, \n",
      "\n",
      "------------------------------------------------------------------------------\n",
      "\n",
      "\n",
      "This article seeks to explore the dynamics of urbanization within a particular area: the eastern coast of the Iberian Peninsula and the Balearic archipelago.\n",
      "-----------\n",
      "compound: 0.2732, \n",
      "neg: 0.0, \n",
      "neu: 0.913, \n",
      "pos: 0.087, \n",
      "\n",
      "------------------------------------------------------------------------------\n",
      "\n",
      "\n",
      "The territories of Catalonia, Valencian Community and the Balearic Islands form an urban macro-region with a population of almost 14 million residents, as well as 40 million international visitors per year.\n",
      "-----------\n",
      "compound: 0.2732, \n",
      "neg: 0.0, \n",
      "neu: 0.932, \n",
      "pos: 0.068, \n",
      "\n",
      "------------------------------------------------------------------------------\n",
      "\n",
      "\n",
      "In fact, the Iberian Mediterranean coast constitutes an extensive urban region, which encompasses several regional metropolises—Barcelona, Tarragona, València, and Alacant-Elx—along with some of the most developed tourist areas of the Mediterranean—Costa Brava, Costa Daurada, Costa del Sol, and Mallorca—it is similar in size to the macro-regions of the Po Valley in Italy and the Randstad in the Netherlands and it is to be considered one of the main economic axes of Southern Europe.\n",
      "-----------\n",
      "compound: -0.5574, \n",
      "neg: 0.048, \n",
      "neu: 0.952, \n",
      "pos: 0.0, \n",
      "\n",
      "------------------------------------------------------------------------------\n",
      "\n",
      "\n",
      "As various authors have pointed out this type of geographic areas are a particularly appropriate setting for a discussion of the intensity of urbanization, due to both the density of its urban uses and its striking seasonal variations.\n",
      "-----------\n",
      "compound: 0.0, \n",
      "neg: 0.0, \n",
      "neu: 1.0, \n",
      "pos: 0.0, \n",
      "\n",
      "------------------------------------------------------------------------------\n",
      "\n",
      "\n",
      "In order to explore this subject, our research takes advantage of a relatively new source that is particularly suited to a study of the intensity of the urbanization process: the nighttime satellite images of the Earth issued by the USA’s National Oceanic and Atmospheric Administration (NOAA).\n",
      "-----------\n",
      "compound: 0.25, \n",
      "neg: 0.0, \n",
      "neu: 0.956, \n",
      "pos: 0.044, \n",
      "\n",
      "------------------------------------------------------------------------------\n",
      "\n",
      "\n",
      "Various authors have pointed out the potential of this source.\n",
      "-----------\n",
      "compound: 0.0, \n",
      "neg: 0.0, \n",
      "neu: 1.0, \n",
      "pos: 0.0, \n",
      "\n",
      "------------------------------------------------------------------------------\n",
      "\n",
      "\n",
      "Starting from the assumption that the nighttime brightness revealed by these means is an anthropogenic phenomenon, then its analysis makes it possible to detect the presence of settlements and human activities (urban areas, communication routes and bridges, traces of fishing boats and ships, and other) and establish the relationships between the intensity of nighttime light, land use and a wide range of socioeconomic variables.\n",
      "-----------\n",
      "compound: 0.3818, \n",
      "neg: 0.0, \n",
      "neu: 0.96, \n",
      "pos: 0.04, \n",
      "\n",
      "------------------------------------------------------------------------------\n",
      "\n",
      "\n",
      "The article is divided into four sections: the first focuses on methodological questions; the second shows the particularities of spatial urbanization on the IberianMediterranean coast in terms of extension and intensity, via the data derived from nighttime satellite images; there follows an exploration, by way of example, of the variations over time in these intensities on the Balearic Islands that establishes relationships with various economic indicators; finally, a few brief conclusions close the article.\n",
      "-----------\n",
      "compound: 0.2263, \n",
      "neg: 0.0, \n",
      "neu: 0.974, \n",
      "pos: 0.026, \n",
      "\n",
      "------------------------------------------------------------------------------\n",
      "\n",
      "\n"
     ]
    }
   ],
   "source": [
    "# we apply Sentiment analysis individually on each sentence of the text \n",
    "for sentence in sentences: \n",
    "    sentiment = SentimentIntensityAnalyzer()\n",
    "    print(sentence)\n",
    "    print('-----------')\n",
    "    scores = sentiment.polarity_scores(sentence)\n",
    "    for i in sorted (scores): \n",
    "        print('{0}: {1}, '.format(i, scores[i]), end='\\n')\n",
    "    print('')\n",
    "    print('------------------------------------------------------------------------------')\n",
    "    print('\\n')\n",
    "\n"
   ]
  },
  {
   "cell_type": "markdown",
   "id": "343baffb",
   "metadata": {},
   "source": [
    "### Usando Textblob"
   ]
  },
  {
   "cell_type": "code",
   "execution_count": 48,
   "id": "19372047",
   "metadata": {},
   "outputs": [
    {
     "name": "stdout",
     "output_type": "stream",
     "text": [
      "Requirement already satisfied: textblob in c:\\users\\verom\\anaconda3\\lib\\site-packages (0.17.1)\n",
      "Requirement already satisfied: nltk>=3.1 in c:\\users\\verom\\anaconda3\\lib\\site-packages (from textblob) (3.6.5)\n",
      "Requirement already satisfied: click in c:\\users\\verom\\anaconda3\\lib\\site-packages (from nltk>=3.1->textblob) (8.0.3)\n",
      "Requirement already satisfied: joblib in c:\\users\\verom\\anaconda3\\lib\\site-packages (from nltk>=3.1->textblob) (1.1.0)\n",
      "Requirement already satisfied: regex>=2021.8.3 in c:\\users\\verom\\anaconda3\\lib\\site-packages (from nltk>=3.1->textblob) (2021.8.3)\n",
      "Requirement already satisfied: tqdm in c:\\users\\verom\\anaconda3\\lib\\site-packages (from nltk>=3.1->textblob) (4.62.3)\n",
      "Requirement already satisfied: colorama in c:\\users\\verom\\anaconda3\\lib\\site-packages (from click->nltk>=3.1->textblob) (0.4.4)\n",
      "Note: you may need to restart the kernel to use updated packages.\n"
     ]
    }
   ],
   "source": [
    "pip install -U textblob"
   ]
  },
  {
   "cell_type": "code",
   "execution_count": 49,
   "id": "82f9dff4",
   "metadata": {},
   "outputs": [],
   "source": [
    "from textblob import TextBlob"
   ]
  },
  {
   "cell_type": "code",
   "execution_count": 50,
   "id": "b77a8e77",
   "metadata": {},
   "outputs": [
    {
     "name": "stdout",
     "output_type": "stream",
     "text": [
      "Sentiment(polarity=0.06532844265439204, subjectivity=0.29544783275795927)\n"
     ]
    }
   ],
   "source": [
    "sent = TextBlob(text)\n",
    "print(sent.sentiment)\n"
   ]
  },
  {
   "cell_type": "markdown",
   "id": "b0621c1a",
   "metadata": {},
   "source": [
    "La subjetividad es una métrica que va de 0 a 1, donde 0 es muy objetivo y 1 es muy subjetivo. En este ejemplo esta mas cerca del 0 que del 1 por lo que se pensaría que el texto tiende a ser principalmente objetivo"
   ]
  }
 ],
 "metadata": {
  "kernelspec": {
   "display_name": "Python 3 (ipykernel)",
   "language": "python",
   "name": "python3"
  },
  "language_info": {
   "codemirror_mode": {
    "name": "ipython",
    "version": 3
   },
   "file_extension": ".py",
   "mimetype": "text/x-python",
   "name": "python",
   "nbconvert_exporter": "python",
   "pygments_lexer": "ipython3",
   "version": "3.9.7"
  }
 },
 "nbformat": 4,
 "nbformat_minor": 5
}
