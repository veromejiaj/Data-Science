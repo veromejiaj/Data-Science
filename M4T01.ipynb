{
 "cells": [
  {
   "cell_type": "code",
   "execution_count": 3,
   "id": "22bf0583",
   "metadata": {},
   "outputs": [],
   "source": [
    "import matplotlib.pyplot as plt\n",
    "import pandas as pd"
   ]
  },
  {
   "cell_type": "code",
   "execution_count": 4,
   "id": "4c47d8ae",
   "metadata": {},
   "outputs": [
    {
     "data": {
      "text/html": [
       "<div>\n",
       "<style scoped>\n",
       "    .dataframe tbody tr th:only-of-type {\n",
       "        vertical-align: middle;\n",
       "    }\n",
       "\n",
       "    .dataframe tbody tr th {\n",
       "        vertical-align: top;\n",
       "    }\n",
       "\n",
       "    .dataframe thead th {\n",
       "        text-align: right;\n",
       "    }\n",
       "</style>\n",
       "<table border=\"1\" class=\"dataframe\">\n",
       "  <thead>\n",
       "    <tr style=\"text-align: right;\">\n",
       "      <th></th>\n",
       "      <th>Any</th>\n",
       "      <th>Trimestre</th>\n",
       "      <th>Codi_Districte</th>\n",
       "      <th>Nom_Districte</th>\n",
       "      <th>Codi_Barri</th>\n",
       "      <th>Nom_Barri</th>\n",
       "      <th>Lloguer_mitja</th>\n",
       "      <th>Preu</th>\n",
       "    </tr>\n",
       "  </thead>\n",
       "  <tbody>\n",
       "    <tr>\n",
       "      <th>0</th>\n",
       "      <td>2021</td>\n",
       "      <td>1</td>\n",
       "      <td>1</td>\n",
       "      <td>Ciutat Vella</td>\n",
       "      <td>1</td>\n",
       "      <td>el Raval</td>\n",
       "      <td>Lloguer mitjà mensual (Euros/mes)</td>\n",
       "      <td>759.2</td>\n",
       "    </tr>\n",
       "    <tr>\n",
       "      <th>1</th>\n",
       "      <td>2021</td>\n",
       "      <td>1</td>\n",
       "      <td>1</td>\n",
       "      <td>Ciutat Vella</td>\n",
       "      <td>2</td>\n",
       "      <td>el Barri Gòtic</td>\n",
       "      <td>Lloguer mitjà mensual (Euros/mes)</td>\n",
       "      <td>929.6</td>\n",
       "    </tr>\n",
       "    <tr>\n",
       "      <th>2</th>\n",
       "      <td>2021</td>\n",
       "      <td>1</td>\n",
       "      <td>1</td>\n",
       "      <td>Ciutat Vella</td>\n",
       "      <td>3</td>\n",
       "      <td>la Barceloneta</td>\n",
       "      <td>Lloguer mitjà mensual (Euros/mes)</td>\n",
       "      <td>808.9</td>\n",
       "    </tr>\n",
       "    <tr>\n",
       "      <th>3</th>\n",
       "      <td>2021</td>\n",
       "      <td>1</td>\n",
       "      <td>1</td>\n",
       "      <td>Ciutat Vella</td>\n",
       "      <td>4</td>\n",
       "      <td>Sant Pere, Santa Caterina i la Ribera</td>\n",
       "      <td>Lloguer mitjà mensual (Euros/mes)</td>\n",
       "      <td>879.4</td>\n",
       "    </tr>\n",
       "    <tr>\n",
       "      <th>4</th>\n",
       "      <td>2021</td>\n",
       "      <td>1</td>\n",
       "      <td>2</td>\n",
       "      <td>Eixample</td>\n",
       "      <td>5</td>\n",
       "      <td>el Fort Pienc</td>\n",
       "      <td>Lloguer mitjà mensual (Euros/mes)</td>\n",
       "      <td>918.0</td>\n",
       "    </tr>\n",
       "    <tr>\n",
       "      <th>5</th>\n",
       "      <td>2021</td>\n",
       "      <td>1</td>\n",
       "      <td>2</td>\n",
       "      <td>Eixample</td>\n",
       "      <td>6</td>\n",
       "      <td>la Sagrada Família</td>\n",
       "      <td>Lloguer mitjà mensual (Euros/mes)</td>\n",
       "      <td>887.1</td>\n",
       "    </tr>\n",
       "    <tr>\n",
       "      <th>6</th>\n",
       "      <td>2021</td>\n",
       "      <td>1</td>\n",
       "      <td>2</td>\n",
       "      <td>Eixample</td>\n",
       "      <td>7</td>\n",
       "      <td>la Dreta de l'Eixample</td>\n",
       "      <td>Lloguer mitjà mensual (Euros/mes)</td>\n",
       "      <td>1176.7</td>\n",
       "    </tr>\n",
       "    <tr>\n",
       "      <th>7</th>\n",
       "      <td>2021</td>\n",
       "      <td>1</td>\n",
       "      <td>2</td>\n",
       "      <td>Eixample</td>\n",
       "      <td>8</td>\n",
       "      <td>l'Antiga Esquerra de l'Eixample</td>\n",
       "      <td>Lloguer mitjà mensual (Euros/mes)</td>\n",
       "      <td>1040.2</td>\n",
       "    </tr>\n",
       "    <tr>\n",
       "      <th>8</th>\n",
       "      <td>2021</td>\n",
       "      <td>1</td>\n",
       "      <td>2</td>\n",
       "      <td>Eixample</td>\n",
       "      <td>9</td>\n",
       "      <td>la Nova Esquerra de l'Eixample</td>\n",
       "      <td>Lloguer mitjà mensual (Euros/mes)</td>\n",
       "      <td>964.0</td>\n",
       "    </tr>\n",
       "    <tr>\n",
       "      <th>9</th>\n",
       "      <td>2021</td>\n",
       "      <td>1</td>\n",
       "      <td>2</td>\n",
       "      <td>Eixample</td>\n",
       "      <td>10</td>\n",
       "      <td>Sant Antoni</td>\n",
       "      <td>Lloguer mitjà mensual (Euros/mes)</td>\n",
       "      <td>898.7</td>\n",
       "    </tr>\n",
       "    <tr>\n",
       "      <th>10</th>\n",
       "      <td>2021</td>\n",
       "      <td>1</td>\n",
       "      <td>3</td>\n",
       "      <td>Sants-Montjuïc</td>\n",
       "      <td>11</td>\n",
       "      <td>el Poble Sec</td>\n",
       "      <td>Lloguer mitjà mensual (Euros/mes)</td>\n",
       "      <td>781.6</td>\n",
       "    </tr>\n",
       "    <tr>\n",
       "      <th>11</th>\n",
       "      <td>2021</td>\n",
       "      <td>1</td>\n",
       "      <td>3</td>\n",
       "      <td>Sants-Montjuïc</td>\n",
       "      <td>12</td>\n",
       "      <td>la Marina del Prat Vermell</td>\n",
       "      <td>Lloguer mitjà mensual (Euros/mes)</td>\n",
       "      <td>--</td>\n",
       "    </tr>\n",
       "    <tr>\n",
       "      <th>12</th>\n",
       "      <td>2021</td>\n",
       "      <td>1</td>\n",
       "      <td>3</td>\n",
       "      <td>Sants-Montjuïc</td>\n",
       "      <td>13</td>\n",
       "      <td>la Marina de Port</td>\n",
       "      <td>Lloguer mitjà mensual (Euros/mes)</td>\n",
       "      <td>810.6</td>\n",
       "    </tr>\n",
       "    <tr>\n",
       "      <th>13</th>\n",
       "      <td>2021</td>\n",
       "      <td>1</td>\n",
       "      <td>3</td>\n",
       "      <td>Sants-Montjuïc</td>\n",
       "      <td>14</td>\n",
       "      <td>la Font de la Guatlla</td>\n",
       "      <td>Lloguer mitjà mensual (Euros/mes)</td>\n",
       "      <td>799.5</td>\n",
       "    </tr>\n",
       "    <tr>\n",
       "      <th>14</th>\n",
       "      <td>2021</td>\n",
       "      <td>1</td>\n",
       "      <td>3</td>\n",
       "      <td>Sants-Montjuïc</td>\n",
       "      <td>15</td>\n",
       "      <td>Hostafrancs</td>\n",
       "      <td>Lloguer mitjà mensual (Euros/mes)</td>\n",
       "      <td>778.4</td>\n",
       "    </tr>\n",
       "  </tbody>\n",
       "</table>\n",
       "</div>"
      ],
      "text/plain": [
       "     Any  Trimestre  Codi_Districte   Nom_Districte  Codi_Barri  \\\n",
       "0   2021          1               1    Ciutat Vella           1   \n",
       "1   2021          1               1    Ciutat Vella           2   \n",
       "2   2021          1               1    Ciutat Vella           3   \n",
       "3   2021          1               1    Ciutat Vella           4   \n",
       "4   2021          1               2        Eixample           5   \n",
       "5   2021          1               2        Eixample           6   \n",
       "6   2021          1               2        Eixample           7   \n",
       "7   2021          1               2        Eixample           8   \n",
       "8   2021          1               2        Eixample           9   \n",
       "9   2021          1               2        Eixample          10   \n",
       "10  2021          1               3  Sants-Montjuïc          11   \n",
       "11  2021          1               3  Sants-Montjuïc          12   \n",
       "12  2021          1               3  Sants-Montjuïc          13   \n",
       "13  2021          1               3  Sants-Montjuïc          14   \n",
       "14  2021          1               3  Sants-Montjuïc          15   \n",
       "\n",
       "                                Nom_Barri                      Lloguer_mitja  \\\n",
       "0                                el Raval  Lloguer mitjà mensual (Euros/mes)   \n",
       "1                          el Barri Gòtic  Lloguer mitjà mensual (Euros/mes)   \n",
       "2                          la Barceloneta  Lloguer mitjà mensual (Euros/mes)   \n",
       "3   Sant Pere, Santa Caterina i la Ribera  Lloguer mitjà mensual (Euros/mes)   \n",
       "4                           el Fort Pienc  Lloguer mitjà mensual (Euros/mes)   \n",
       "5                      la Sagrada Família  Lloguer mitjà mensual (Euros/mes)   \n",
       "6                  la Dreta de l'Eixample  Lloguer mitjà mensual (Euros/mes)   \n",
       "7         l'Antiga Esquerra de l'Eixample  Lloguer mitjà mensual (Euros/mes)   \n",
       "8          la Nova Esquerra de l'Eixample  Lloguer mitjà mensual (Euros/mes)   \n",
       "9                             Sant Antoni  Lloguer mitjà mensual (Euros/mes)   \n",
       "10                           el Poble Sec  Lloguer mitjà mensual (Euros/mes)   \n",
       "11             la Marina del Prat Vermell  Lloguer mitjà mensual (Euros/mes)   \n",
       "12                      la Marina de Port  Lloguer mitjà mensual (Euros/mes)   \n",
       "13                  la Font de la Guatlla  Lloguer mitjà mensual (Euros/mes)   \n",
       "14                            Hostafrancs  Lloguer mitjà mensual (Euros/mes)   \n",
       "\n",
       "      Preu  \n",
       "0    759.2  \n",
       "1    929.6  \n",
       "2    808.9  \n",
       "3    879.4  \n",
       "4    918.0  \n",
       "5    887.1  \n",
       "6   1176.7  \n",
       "7   1040.2  \n",
       "8    964.0  \n",
       "9    898.7  \n",
       "10   781.6  \n",
       "11      --  \n",
       "12   810.6  \n",
       "13   799.5  \n",
       "14   778.4  "
      ]
     },
     "execution_count": 4,
     "metadata": {},
     "output_type": "execute_result"
    }
   ],
   "source": [
    "barris = pd.read_csv(r\"C:\\\\DataScience\\\\string4\\\\preu lloguer per trimestre i barri.csv\")\n",
    "barris[:15]"
   ]
  },
  {
   "cell_type": "markdown",
   "id": "088706f0",
   "metadata": {},
   "source": [
    "# Exercici 1\n",
    "\n",
    "Descarrega el dataset adjunt preu lloguer per trimestre i barri.csv extret de la web OpenDataBCN i resumeix-lo estadísticament i gràficament."
   ]
  },
  {
   "cell_type": "markdown",
   "id": "bd2136b3",
   "metadata": {},
   "source": [
    "Crea almenys una visualització per:\n",
    "\n",
    "    Una variable categòrica (Districte o Barri)"
   ]
  },
  {
   "cell_type": "code",
   "execution_count": 137,
   "id": "d49ea31c",
   "metadata": {},
   "outputs": [
    {
     "data": {
      "text/plain": [
       "Nom_Districte        Codi_Barri\n",
       "Ciutat Vella         1             8\n",
       "                     2             8\n",
       "                     3             8\n",
       "                     4             8\n",
       "Eixample             5             8\n",
       "                                  ..\n",
       "Sarrià-Sant Gervasi  23            8\n",
       "                     24            8\n",
       "                     25            8\n",
       "                     26            8\n",
       "                     27            8\n",
       "Name: Codi_Barri, Length: 73, dtype: int64"
      ]
     },
     "execution_count": 137,
     "metadata": {},
     "output_type": "execute_result"
    }
   ],
   "source": [
    "barris.groupby([\"Nom_Districte\"])[\"Codi_Barri\"].value_counts()"
   ]
  },
  {
   "cell_type": "code",
   "execution_count": 138,
   "id": "3c18f700",
   "metadata": {},
   "outputs": [
    {
     "data": {
      "text/plain": [
       "Nom_Districte\n",
       "Ciutat Vella            32\n",
       "Eixample                48\n",
       "Gràcia                  40\n",
       "Horta-Guinardó          88\n",
       "Les Corts               24\n",
       "Nou Barris             104\n",
       "Sant Andreu             56\n",
       "Sant Martí              80\n",
       "Sants-Montjuïc          64\n",
       "Sarrià-Sant Gervasi     48\n",
       "Name: Codi_Barri, dtype: int64"
      ]
     },
     "execution_count": 138,
     "metadata": {},
     "output_type": "execute_result"
    }
   ],
   "source": [
    "barris.groupby([\"Nom_Districte\"])[\"Codi_Barri\"].size()"
   ]
  },
  {
   "cell_type": "code",
   "execution_count": 139,
   "id": "85b5254a",
   "metadata": {},
   "outputs": [
    {
     "data": {
      "text/plain": [
       "el Raval                                 8\n",
       "la Teixonera                             8\n",
       "Torre Baró                               8\n",
       "la Trinitat Nova                         8\n",
       "la Prosperitat                           8\n",
       "                                        ..\n",
       "Sant Gervasi - la Bonanova               8\n",
       "les Tres Torres                          8\n",
       "Sarrià                                   8\n",
       "Vallvidrera, el Tibidabo i les Planes    8\n",
       "la Verneda i la Pau                      8\n",
       "Name: Nom_Barri, Length: 73, dtype: int64"
      ]
     },
     "execution_count": 139,
     "metadata": {},
     "output_type": "execute_result"
    }
   ],
   "source": [
    "barris[\"Nom_Barri\"].value_counts()"
   ]
  },
  {
   "cell_type": "code",
   "execution_count": 5,
   "id": "2a8b3ca3",
   "metadata": {},
   "outputs": [
    {
     "data": {
      "text/html": [
       "<div>\n",
       "<style scoped>\n",
       "    .dataframe tbody tr th:only-of-type {\n",
       "        vertical-align: middle;\n",
       "    }\n",
       "\n",
       "    .dataframe tbody tr th {\n",
       "        vertical-align: top;\n",
       "    }\n",
       "\n",
       "    .dataframe thead th {\n",
       "        text-align: right;\n",
       "    }\n",
       "</style>\n",
       "<table border=\"1\" class=\"dataframe\">\n",
       "  <thead>\n",
       "    <tr style=\"text-align: right;\">\n",
       "      <th></th>\n",
       "      <th></th>\n",
       "      <th>Any</th>\n",
       "      <th>Trimestre</th>\n",
       "      <th>Codi_Districte</th>\n",
       "      <th>Codi_Barri</th>\n",
       "    </tr>\n",
       "    <tr>\n",
       "      <th>Nom_Districte</th>\n",
       "      <th>Nom_Barri</th>\n",
       "      <th></th>\n",
       "      <th></th>\n",
       "      <th></th>\n",
       "      <th></th>\n",
       "    </tr>\n",
       "  </thead>\n",
       "  <tbody>\n",
       "    <tr>\n",
       "      <th rowspan=\"4\" valign=\"top\">Ciutat Vella</th>\n",
       "      <th>Sant Pere, Santa Caterina i la Ribera</th>\n",
       "      <td>16168</td>\n",
       "      <td>20</td>\n",
       "      <td>8</td>\n",
       "      <td>32</td>\n",
       "    </tr>\n",
       "    <tr>\n",
       "      <th>el Barri Gòtic</th>\n",
       "      <td>16168</td>\n",
       "      <td>20</td>\n",
       "      <td>8</td>\n",
       "      <td>16</td>\n",
       "    </tr>\n",
       "    <tr>\n",
       "      <th>el Raval</th>\n",
       "      <td>16168</td>\n",
       "      <td>20</td>\n",
       "      <td>8</td>\n",
       "      <td>8</td>\n",
       "    </tr>\n",
       "    <tr>\n",
       "      <th>la Barceloneta</th>\n",
       "      <td>16168</td>\n",
       "      <td>20</td>\n",
       "      <td>8</td>\n",
       "      <td>24</td>\n",
       "    </tr>\n",
       "    <tr>\n",
       "      <th>Eixample</th>\n",
       "      <th>Sant Antoni</th>\n",
       "      <td>16168</td>\n",
       "      <td>20</td>\n",
       "      <td>16</td>\n",
       "      <td>80</td>\n",
       "    </tr>\n",
       "    <tr>\n",
       "      <th>...</th>\n",
       "      <th>...</th>\n",
       "      <td>...</td>\n",
       "      <td>...</td>\n",
       "      <td>...</td>\n",
       "      <td>...</td>\n",
       "    </tr>\n",
       "    <tr>\n",
       "      <th rowspan=\"5\" valign=\"top\">Sarrià-Sant Gervasi</th>\n",
       "      <th>Sant Gervasi - la Bonanova</th>\n",
       "      <td>16168</td>\n",
       "      <td>20</td>\n",
       "      <td>40</td>\n",
       "      <td>200</td>\n",
       "    </tr>\n",
       "    <tr>\n",
       "      <th>Sarrià</th>\n",
       "      <td>16168</td>\n",
       "      <td>20</td>\n",
       "      <td>40</td>\n",
       "      <td>184</td>\n",
       "    </tr>\n",
       "    <tr>\n",
       "      <th>Vallvidrera, el Tibidabo i les Planes</th>\n",
       "      <td>16168</td>\n",
       "      <td>20</td>\n",
       "      <td>40</td>\n",
       "      <td>176</td>\n",
       "    </tr>\n",
       "    <tr>\n",
       "      <th>el Putxet i el Farró</th>\n",
       "      <td>16168</td>\n",
       "      <td>20</td>\n",
       "      <td>40</td>\n",
       "      <td>216</td>\n",
       "    </tr>\n",
       "    <tr>\n",
       "      <th>les Tres Torres</th>\n",
       "      <td>16168</td>\n",
       "      <td>20</td>\n",
       "      <td>40</td>\n",
       "      <td>192</td>\n",
       "    </tr>\n",
       "  </tbody>\n",
       "</table>\n",
       "<p>73 rows × 4 columns</p>\n",
       "</div>"
      ],
      "text/plain": [
       "                                                             Any  Trimestre  \\\n",
       "Nom_Districte       Nom_Barri                                                 \n",
       "Ciutat Vella        Sant Pere, Santa Caterina i la Ribera  16168         20   \n",
       "                    el Barri Gòtic                         16168         20   \n",
       "                    el Raval                               16168         20   \n",
       "                    la Barceloneta                         16168         20   \n",
       "Eixample            Sant Antoni                            16168         20   \n",
       "...                                                          ...        ...   \n",
       "Sarrià-Sant Gervasi Sant Gervasi - la Bonanova             16168         20   \n",
       "                    Sarrià                                 16168         20   \n",
       "                    Vallvidrera, el Tibidabo i les Planes  16168         20   \n",
       "                    el Putxet i el Farró                   16168         20   \n",
       "                    les Tres Torres                        16168         20   \n",
       "\n",
       "                                                           Codi_Districte  \\\n",
       "Nom_Districte       Nom_Barri                                               \n",
       "Ciutat Vella        Sant Pere, Santa Caterina i la Ribera               8   \n",
       "                    el Barri Gòtic                                      8   \n",
       "                    el Raval                                            8   \n",
       "                    la Barceloneta                                      8   \n",
       "Eixample            Sant Antoni                                        16   \n",
       "...                                                                   ...   \n",
       "Sarrià-Sant Gervasi Sant Gervasi - la Bonanova                         40   \n",
       "                    Sarrià                                             40   \n",
       "                    Vallvidrera, el Tibidabo i les Planes              40   \n",
       "                    el Putxet i el Farró                               40   \n",
       "                    les Tres Torres                                    40   \n",
       "\n",
       "                                                           Codi_Barri  \n",
       "Nom_Districte       Nom_Barri                                          \n",
       "Ciutat Vella        Sant Pere, Santa Caterina i la Ribera          32  \n",
       "                    el Barri Gòtic                                 16  \n",
       "                    el Raval                                        8  \n",
       "                    la Barceloneta                                 24  \n",
       "Eixample            Sant Antoni                                    80  \n",
       "...                                                               ...  \n",
       "Sarrià-Sant Gervasi Sant Gervasi - la Bonanova                    200  \n",
       "                    Sarrià                                        184  \n",
       "                    Vallvidrera, el Tibidabo i les Planes         176  \n",
       "                    el Putxet i el Farró                          216  \n",
       "                    les Tres Torres                               192  \n",
       "\n",
       "[73 rows x 4 columns]"
      ]
     },
     "execution_count": 5,
     "metadata": {},
     "output_type": "execute_result"
    }
   ],
   "source": [
    "barris.groupby([\"Nom_Districte\",\"Nom_Barri\"]).sum()"
   ]
  },
  {
   "cell_type": "code",
   "execution_count": 6,
   "id": "dffd4072",
   "metadata": {},
   "outputs": [
    {
     "data": {
      "text/plain": [
       "Text(0, 0.5, 'Num. de barrios')"
      ]
     },
     "execution_count": 6,
     "metadata": {},
     "output_type": "execute_result"
    },
    {
     "data": {
      "image/png": "[encoded data removed]",
      "text/plain": [
       "<Figure size 432x288 with 1 Axes>"
      ]
     },
     "metadata": {
      "needs_background": "light"
     },
     "output_type": "display_data"
    }
   ],
   "source": [
    "barris.groupby([\"Nom_Districte\"])[\"Nom_Barri\"].nunique().plot(kind='bar')\n",
    "plt.title(\"Numero de barrios por  distritos\")\n",
    "plt.xlabel(\"Distritos\")\n",
    "plt.ylabel(\"Num. de barrios\")"
   ]
  },
  {
   "cell_type": "markdown",
   "id": "3d2c8d4e",
   "metadata": {},
   "source": [
    "numero de barrios por distritos. Aqui vemos que nou barris contiene el mayor numero de barrios, miestras que el distrito de les corts se subdivide en un menor numero de barrios "
   ]
  },
  {
   "cell_type": "markdown",
   "id": "22e55639",
   "metadata": {},
   "source": [
    "Una variable numèrica (Preu)"
   ]
  },
  {
   "cell_type": "code",
   "execution_count": 24,
   "id": "8b70a4f0",
   "metadata": {},
   "outputs": [
    {
     "data": {
      "text/plain": [
       "dtype('O')"
      ]
     },
     "execution_count": 24,
     "metadata": {},
     "output_type": "execute_result"
    }
   ],
   "source": [
    "barris[\"Preu\"].dtype"
   ]
  },
  {
   "cell_type": "code",
   "execution_count": 81,
   "id": "594aa29e",
   "metadata": {},
   "outputs": [
    {
     "data": {
      "text/plain": [
       "--       44\n",
       "13.0     13\n",
       "12.7     11\n",
       "12.9     10\n",
       "13.6      9\n",
       "         ..\n",
       "773.5     1\n",
       "818.2     1\n",
       "817.7     1\n",
       "667.6     1\n",
       "14.9      1\n",
       "Name: Preu, Length: 331, dtype: int64"
      ]
     },
     "execution_count": 81,
     "metadata": {},
     "output_type": "execute_result"
    }
   ],
   "source": [
    "barris[\"Preu\"].value_counts()"
   ]
  },
  {
   "cell_type": "code",
   "execution_count": 72,
   "id": "089b2873",
   "metadata": {},
   "outputs": [
    {
     "data": {
      "text/plain": [
       "2021    584\n",
       "Name: Any, dtype: int64"
      ]
     },
     "execution_count": 72,
     "metadata": {},
     "output_type": "execute_result"
    }
   ],
   "source": [
    "barris[\"Any\"].value_counts()"
   ]
  },
  {
   "cell_type": "code",
   "execution_count": 7,
   "id": "44d811b8",
   "metadata": {},
   "outputs": [],
   "source": [
    "barris[\"Preu\"]=barris[\"Preu\"].replace([\"--\"],[None]) "
   ]
  },
  {
   "cell_type": "code",
   "execution_count": 8,
   "id": "2d4e12d5",
   "metadata": {},
   "outputs": [
    {
     "data": {
      "text/html": [
       "<div>\n",
       "<style scoped>\n",
       "    .dataframe tbody tr th:only-of-type {\n",
       "        vertical-align: middle;\n",
       "    }\n",
       "\n",
       "    .dataframe tbody tr th {\n",
       "        vertical-align: top;\n",
       "    }\n",
       "\n",
       "    .dataframe thead th {\n",
       "        text-align: right;\n",
       "    }\n",
       "</style>\n",
       "<table border=\"1\" class=\"dataframe\">\n",
       "  <thead>\n",
       "    <tr style=\"text-align: right;\">\n",
       "      <th></th>\n",
       "      <th>Any</th>\n",
       "      <th>Trimestre</th>\n",
       "      <th>Codi_Districte</th>\n",
       "      <th>Nom_Districte</th>\n",
       "      <th>Codi_Barri</th>\n",
       "      <th>Nom_Barri</th>\n",
       "      <th>Lloguer_mitja</th>\n",
       "      <th>Preu</th>\n",
       "    </tr>\n",
       "  </thead>\n",
       "  <tbody>\n",
       "    <tr>\n",
       "      <th>0</th>\n",
       "      <td>2021</td>\n",
       "      <td>1</td>\n",
       "      <td>1</td>\n",
       "      <td>Ciutat Vella</td>\n",
       "      <td>1</td>\n",
       "      <td>el Raval</td>\n",
       "      <td>Lloguer mitjà mensual (Euros/mes)</td>\n",
       "      <td>759.2</td>\n",
       "    </tr>\n",
       "    <tr>\n",
       "      <th>1</th>\n",
       "      <td>2021</td>\n",
       "      <td>1</td>\n",
       "      <td>1</td>\n",
       "      <td>Ciutat Vella</td>\n",
       "      <td>2</td>\n",
       "      <td>el Barri Gòtic</td>\n",
       "      <td>Lloguer mitjà mensual (Euros/mes)</td>\n",
       "      <td>929.6</td>\n",
       "    </tr>\n",
       "    <tr>\n",
       "      <th>2</th>\n",
       "      <td>2021</td>\n",
       "      <td>1</td>\n",
       "      <td>1</td>\n",
       "      <td>Ciutat Vella</td>\n",
       "      <td>3</td>\n",
       "      <td>la Barceloneta</td>\n",
       "      <td>Lloguer mitjà mensual (Euros/mes)</td>\n",
       "      <td>808.9</td>\n",
       "    </tr>\n",
       "    <tr>\n",
       "      <th>3</th>\n",
       "      <td>2021</td>\n",
       "      <td>1</td>\n",
       "      <td>1</td>\n",
       "      <td>Ciutat Vella</td>\n",
       "      <td>4</td>\n",
       "      <td>Sant Pere, Santa Caterina i la Ribera</td>\n",
       "      <td>Lloguer mitjà mensual (Euros/mes)</td>\n",
       "      <td>879.4</td>\n",
       "    </tr>\n",
       "    <tr>\n",
       "      <th>4</th>\n",
       "      <td>2021</td>\n",
       "      <td>1</td>\n",
       "      <td>2</td>\n",
       "      <td>Eixample</td>\n",
       "      <td>5</td>\n",
       "      <td>el Fort Pienc</td>\n",
       "      <td>Lloguer mitjà mensual (Euros/mes)</td>\n",
       "      <td>918.0</td>\n",
       "    </tr>\n",
       "    <tr>\n",
       "      <th>5</th>\n",
       "      <td>2021</td>\n",
       "      <td>1</td>\n",
       "      <td>2</td>\n",
       "      <td>Eixample</td>\n",
       "      <td>6</td>\n",
       "      <td>la Sagrada Família</td>\n",
       "      <td>Lloguer mitjà mensual (Euros/mes)</td>\n",
       "      <td>887.1</td>\n",
       "    </tr>\n",
       "    <tr>\n",
       "      <th>6</th>\n",
       "      <td>2021</td>\n",
       "      <td>1</td>\n",
       "      <td>2</td>\n",
       "      <td>Eixample</td>\n",
       "      <td>7</td>\n",
       "      <td>la Dreta de l'Eixample</td>\n",
       "      <td>Lloguer mitjà mensual (Euros/mes)</td>\n",
       "      <td>1176.7</td>\n",
       "    </tr>\n",
       "    <tr>\n",
       "      <th>7</th>\n",
       "      <td>2021</td>\n",
       "      <td>1</td>\n",
       "      <td>2</td>\n",
       "      <td>Eixample</td>\n",
       "      <td>8</td>\n",
       "      <td>l'Antiga Esquerra de l'Eixample</td>\n",
       "      <td>Lloguer mitjà mensual (Euros/mes)</td>\n",
       "      <td>1040.2</td>\n",
       "    </tr>\n",
       "    <tr>\n",
       "      <th>8</th>\n",
       "      <td>2021</td>\n",
       "      <td>1</td>\n",
       "      <td>2</td>\n",
       "      <td>Eixample</td>\n",
       "      <td>9</td>\n",
       "      <td>la Nova Esquerra de l'Eixample</td>\n",
       "      <td>Lloguer mitjà mensual (Euros/mes)</td>\n",
       "      <td>964.0</td>\n",
       "    </tr>\n",
       "    <tr>\n",
       "      <th>9</th>\n",
       "      <td>2021</td>\n",
       "      <td>1</td>\n",
       "      <td>2</td>\n",
       "      <td>Eixample</td>\n",
       "      <td>10</td>\n",
       "      <td>Sant Antoni</td>\n",
       "      <td>Lloguer mitjà mensual (Euros/mes)</td>\n",
       "      <td>898.7</td>\n",
       "    </tr>\n",
       "    <tr>\n",
       "      <th>10</th>\n",
       "      <td>2021</td>\n",
       "      <td>1</td>\n",
       "      <td>3</td>\n",
       "      <td>Sants-Montjuïc</td>\n",
       "      <td>11</td>\n",
       "      <td>el Poble Sec</td>\n",
       "      <td>Lloguer mitjà mensual (Euros/mes)</td>\n",
       "      <td>781.6</td>\n",
       "    </tr>\n",
       "    <tr>\n",
       "      <th>11</th>\n",
       "      <td>2021</td>\n",
       "      <td>1</td>\n",
       "      <td>3</td>\n",
       "      <td>Sants-Montjuïc</td>\n",
       "      <td>12</td>\n",
       "      <td>la Marina del Prat Vermell</td>\n",
       "      <td>Lloguer mitjà mensual (Euros/mes)</td>\n",
       "      <td>None</td>\n",
       "    </tr>\n",
       "    <tr>\n",
       "      <th>12</th>\n",
       "      <td>2021</td>\n",
       "      <td>1</td>\n",
       "      <td>3</td>\n",
       "      <td>Sants-Montjuïc</td>\n",
       "      <td>13</td>\n",
       "      <td>la Marina de Port</td>\n",
       "      <td>Lloguer mitjà mensual (Euros/mes)</td>\n",
       "      <td>810.6</td>\n",
       "    </tr>\n",
       "    <tr>\n",
       "      <th>13</th>\n",
       "      <td>2021</td>\n",
       "      <td>1</td>\n",
       "      <td>3</td>\n",
       "      <td>Sants-Montjuïc</td>\n",
       "      <td>14</td>\n",
       "      <td>la Font de la Guatlla</td>\n",
       "      <td>Lloguer mitjà mensual (Euros/mes)</td>\n",
       "      <td>799.5</td>\n",
       "    </tr>\n",
       "    <tr>\n",
       "      <th>14</th>\n",
       "      <td>2021</td>\n",
       "      <td>1</td>\n",
       "      <td>3</td>\n",
       "      <td>Sants-Montjuïc</td>\n",
       "      <td>15</td>\n",
       "      <td>Hostafrancs</td>\n",
       "      <td>Lloguer mitjà mensual (Euros/mes)</td>\n",
       "      <td>778.4</td>\n",
       "    </tr>\n",
       "  </tbody>\n",
       "</table>\n",
       "</div>"
      ],
      "text/plain": [
       "     Any  Trimestre  Codi_Districte   Nom_Districte  Codi_Barri  \\\n",
       "0   2021          1               1    Ciutat Vella           1   \n",
       "1   2021          1               1    Ciutat Vella           2   \n",
       "2   2021          1               1    Ciutat Vella           3   \n",
       "3   2021          1               1    Ciutat Vella           4   \n",
       "4   2021          1               2        Eixample           5   \n",
       "5   2021          1               2        Eixample           6   \n",
       "6   2021          1               2        Eixample           7   \n",
       "7   2021          1               2        Eixample           8   \n",
       "8   2021          1               2        Eixample           9   \n",
       "9   2021          1               2        Eixample          10   \n",
       "10  2021          1               3  Sants-Montjuïc          11   \n",
       "11  2021          1               3  Sants-Montjuïc          12   \n",
       "12  2021          1               3  Sants-Montjuïc          13   \n",
       "13  2021          1               3  Sants-Montjuïc          14   \n",
       "14  2021          1               3  Sants-Montjuïc          15   \n",
       "\n",
       "                                Nom_Barri                      Lloguer_mitja  \\\n",
       "0                                el Raval  Lloguer mitjà mensual (Euros/mes)   \n",
       "1                          el Barri Gòtic  Lloguer mitjà mensual (Euros/mes)   \n",
       "2                          la Barceloneta  Lloguer mitjà mensual (Euros/mes)   \n",
       "3   Sant Pere, Santa Caterina i la Ribera  Lloguer mitjà mensual (Euros/mes)   \n",
       "4                           el Fort Pienc  Lloguer mitjà mensual (Euros/mes)   \n",
       "5                      la Sagrada Família  Lloguer mitjà mensual (Euros/mes)   \n",
       "6                  la Dreta de l'Eixample  Lloguer mitjà mensual (Euros/mes)   \n",
       "7         l'Antiga Esquerra de l'Eixample  Lloguer mitjà mensual (Euros/mes)   \n",
       "8          la Nova Esquerra de l'Eixample  Lloguer mitjà mensual (Euros/mes)   \n",
       "9                             Sant Antoni  Lloguer mitjà mensual (Euros/mes)   \n",
       "10                           el Poble Sec  Lloguer mitjà mensual (Euros/mes)   \n",
       "11             la Marina del Prat Vermell  Lloguer mitjà mensual (Euros/mes)   \n",
       "12                      la Marina de Port  Lloguer mitjà mensual (Euros/mes)   \n",
       "13                  la Font de la Guatlla  Lloguer mitjà mensual (Euros/mes)   \n",
       "14                            Hostafrancs  Lloguer mitjà mensual (Euros/mes)   \n",
       "\n",
       "      Preu  \n",
       "0    759.2  \n",
       "1    929.6  \n",
       "2    808.9  \n",
       "3    879.4  \n",
       "4    918.0  \n",
       "5    887.1  \n",
       "6   1176.7  \n",
       "7   1040.2  \n",
       "8    964.0  \n",
       "9    898.7  \n",
       "10   781.6  \n",
       "11    None  \n",
       "12   810.6  \n",
       "13   799.5  \n",
       "14   778.4  "
      ]
     },
     "execution_count": 8,
     "metadata": {},
     "output_type": "execute_result"
    }
   ],
   "source": [
    "barris[:15]"
   ]
  },
  {
   "cell_type": "code",
   "execution_count": 10,
   "id": "058dd245",
   "metadata": {},
   "outputs": [
    {
     "name": "stdout",
     "output_type": "stream",
     "text": [
      "<class 'pandas.core.frame.DataFrame'>\n",
      "RangeIndex: 584 entries, 0 to 583\n",
      "Data columns (total 8 columns):\n",
      " #   Column          Non-Null Count  Dtype  \n",
      "---  ------          --------------  -----  \n",
      " 0   Any             584 non-null    int64  \n",
      " 1   Trimestre       584 non-null    int64  \n",
      " 2   Codi_Districte  584 non-null    int64  \n",
      " 3   Nom_Districte   584 non-null    object \n",
      " 4   Codi_Barri      584 non-null    int64  \n",
      " 5   Nom_Barri       584 non-null    object \n",
      " 6   Lloguer_mitja   584 non-null    object \n",
      " 7   Preu            540 non-null    float64\n",
      "dtypes: float64(1), int64(4), object(3)\n",
      "memory usage: 36.6+ KB\n",
      "None\n"
     ]
    }
   ],
   "source": [
    "barris[\"Preu\"]=barris[\"Preu\"].astype(float, errors = 'raise')\n",
    "print(barris.info())"
   ]
  },
  {
   "cell_type": "code",
   "execution_count": 12,
   "id": "701adc49",
   "metadata": {},
   "outputs": [],
   "source": [
    "import numpy as np"
   ]
  },
  {
   "cell_type": "code",
   "execution_count": 13,
   "id": "359ddea1",
   "metadata": {},
   "outputs": [
    {
     "data": {
      "text/plain": [
       "Nom_Districte        Lloguer_mitja                              \n",
       "Ciutat Vella         Lloguer mitjà mensual (Euros/mes)               858.925000\n",
       "                     Lloguer mitjà per superfície (Euros/m2 mes)      13.775000\n",
       "Eixample             Lloguer mitjà mensual (Euros/mes)              1000.545833\n",
       "                     Lloguer mitjà per superfície (Euros/m2 mes)      13.300000\n",
       "Gràcia               Lloguer mitjà mensual (Euros/mes)               877.265000\n",
       "                     Lloguer mitjà per superfície (Euros/m2 mes)      13.380000\n",
       "Horta-Guinardó       Lloguer mitjà mensual (Euros/mes)               765.007500\n",
       "                     Lloguer mitjà per superfície (Euros/m2 mes)      11.987500\n",
       "Les Corts            Lloguer mitjà mensual (Euros/mes)              1214.066667\n",
       "                     Lloguer mitjà per superfície (Euros/m2 mes)      14.008333\n",
       "Nou Barris           Lloguer mitjà mensual (Euros/mes)               664.292500\n",
       "                     Lloguer mitjà per superfície (Euros/m2 mes)      10.922500\n",
       "Sant Andreu          Lloguer mitjà mensual (Euros/mes)               721.196154\n",
       "                     Lloguer mitjà per superfície (Euros/m2 mes)      11.153846\n",
       "Sant Martí           Lloguer mitjà mensual (Euros/mes)               916.450000\n",
       "                     Lloguer mitjà per superfície (Euros/m2 mes)      13.440000\n",
       "Sants-Montjuïc       Lloguer mitjà mensual (Euros/mes)               798.932143\n",
       "                     Lloguer mitjà per superfície (Euros/m2 mes)      12.678571\n",
       "Sarrià-Sant Gervasi  Lloguer mitjà mensual (Euros/mes)              1271.212500\n",
       "                     Lloguer mitjà per superfície (Euros/m2 mes)      15.012500\n",
       "Name: Preu, dtype: float64"
      ]
     },
     "execution_count": 13,
     "metadata": {},
     "output_type": "execute_result"
    }
   ],
   "source": [
    "barris.groupby([\"Nom_Districte\",\"Lloguer_mitja\"])[\"Preu\"].mean()"
   ]
  },
  {
   "cell_type": "code",
   "execution_count": 14,
   "id": "88962d66",
   "metadata": {},
   "outputs": [
    {
     "data": {
      "text/html": [
       "<div>\n",
       "<style scoped>\n",
       "    .dataframe tbody tr th:only-of-type {\n",
       "        vertical-align: middle;\n",
       "    }\n",
       "\n",
       "    .dataframe tbody tr th {\n",
       "        vertical-align: top;\n",
       "    }\n",
       "\n",
       "    .dataframe thead th {\n",
       "        text-align: right;\n",
       "    }\n",
       "</style>\n",
       "<table border=\"1\" class=\"dataframe\">\n",
       "  <thead>\n",
       "    <tr style=\"text-align: right;\">\n",
       "      <th></th>\n",
       "      <th>Any</th>\n",
       "      <th>Trimestre</th>\n",
       "      <th>Codi_Districte</th>\n",
       "      <th>Nom_Districte</th>\n",
       "      <th>Codi_Barri</th>\n",
       "      <th>Nom_Barri</th>\n",
       "      <th>Lloguer_mitja</th>\n",
       "      <th>Preu</th>\n",
       "    </tr>\n",
       "  </thead>\n",
       "  <tbody>\n",
       "    <tr>\n",
       "      <th>0</th>\n",
       "      <td>2021</td>\n",
       "      <td>1</td>\n",
       "      <td>1</td>\n",
       "      <td>Ciutat Vella</td>\n",
       "      <td>1</td>\n",
       "      <td>el Raval</td>\n",
       "      <td>Lloguer mitjà mensual (Euros/mes)</td>\n",
       "      <td>759.2</td>\n",
       "    </tr>\n",
       "    <tr>\n",
       "      <th>1</th>\n",
       "      <td>2021</td>\n",
       "      <td>1</td>\n",
       "      <td>1</td>\n",
       "      <td>Ciutat Vella</td>\n",
       "      <td>2</td>\n",
       "      <td>el Barri Gòtic</td>\n",
       "      <td>Lloguer mitjà mensual (Euros/mes)</td>\n",
       "      <td>929.6</td>\n",
       "    </tr>\n",
       "    <tr>\n",
       "      <th>2</th>\n",
       "      <td>2021</td>\n",
       "      <td>1</td>\n",
       "      <td>1</td>\n",
       "      <td>Ciutat Vella</td>\n",
       "      <td>3</td>\n",
       "      <td>la Barceloneta</td>\n",
       "      <td>Lloguer mitjà mensual (Euros/mes)</td>\n",
       "      <td>808.9</td>\n",
       "    </tr>\n",
       "    <tr>\n",
       "      <th>3</th>\n",
       "      <td>2021</td>\n",
       "      <td>1</td>\n",
       "      <td>1</td>\n",
       "      <td>Ciutat Vella</td>\n",
       "      <td>4</td>\n",
       "      <td>Sant Pere, Santa Caterina i la Ribera</td>\n",
       "      <td>Lloguer mitjà mensual (Euros/mes)</td>\n",
       "      <td>879.4</td>\n",
       "    </tr>\n",
       "    <tr>\n",
       "      <th>4</th>\n",
       "      <td>2021</td>\n",
       "      <td>1</td>\n",
       "      <td>2</td>\n",
       "      <td>Eixample</td>\n",
       "      <td>5</td>\n",
       "      <td>el Fort Pienc</td>\n",
       "      <td>Lloguer mitjà mensual (Euros/mes)</td>\n",
       "      <td>918.0</td>\n",
       "    </tr>\n",
       "    <tr>\n",
       "      <th>...</th>\n",
       "      <td>...</td>\n",
       "      <td>...</td>\n",
       "      <td>...</td>\n",
       "      <td>...</td>\n",
       "      <td>...</td>\n",
       "      <td>...</td>\n",
       "      <td>...</td>\n",
       "      <td>...</td>\n",
       "    </tr>\n",
       "    <tr>\n",
       "      <th>506</th>\n",
       "      <td>2021</td>\n",
       "      <td>4</td>\n",
       "      <td>10</td>\n",
       "      <td>Sant Martí</td>\n",
       "      <td>69</td>\n",
       "      <td>Diagonal Mar i el Front Marítim del Poblenou</td>\n",
       "      <td>Lloguer mitjà mensual (Euros/mes)</td>\n",
       "      <td>1205.3</td>\n",
       "    </tr>\n",
       "    <tr>\n",
       "      <th>507</th>\n",
       "      <td>2021</td>\n",
       "      <td>4</td>\n",
       "      <td>10</td>\n",
       "      <td>Sant Martí</td>\n",
       "      <td>70</td>\n",
       "      <td>el Besòs i el Maresme</td>\n",
       "      <td>Lloguer mitjà mensual (Euros/mes)</td>\n",
       "      <td>700.5</td>\n",
       "    </tr>\n",
       "    <tr>\n",
       "      <th>508</th>\n",
       "      <td>2021</td>\n",
       "      <td>4</td>\n",
       "      <td>10</td>\n",
       "      <td>Sant Martí</td>\n",
       "      <td>71</td>\n",
       "      <td>Provençals del Poblenou</td>\n",
       "      <td>Lloguer mitjà mensual (Euros/mes)</td>\n",
       "      <td>977.8</td>\n",
       "    </tr>\n",
       "    <tr>\n",
       "      <th>509</th>\n",
       "      <td>2021</td>\n",
       "      <td>4</td>\n",
       "      <td>10</td>\n",
       "      <td>Sant Martí</td>\n",
       "      <td>72</td>\n",
       "      <td>Sant Martí de Provençals</td>\n",
       "      <td>Lloguer mitjà mensual (Euros/mes)</td>\n",
       "      <td>826.2</td>\n",
       "    </tr>\n",
       "    <tr>\n",
       "      <th>510</th>\n",
       "      <td>2021</td>\n",
       "      <td>4</td>\n",
       "      <td>10</td>\n",
       "      <td>Sant Martí</td>\n",
       "      <td>73</td>\n",
       "      <td>la Verneda i la Pau</td>\n",
       "      <td>Lloguer mitjà mensual (Euros/mes)</td>\n",
       "      <td>752.0</td>\n",
       "    </tr>\n",
       "  </tbody>\n",
       "</table>\n",
       "<p>292 rows × 8 columns</p>\n",
       "</div>"
      ],
      "text/plain": [
       "      Any  Trimestre  Codi_Districte Nom_Districte  Codi_Barri  \\\n",
       "0    2021          1               1  Ciutat Vella           1   \n",
       "1    2021          1               1  Ciutat Vella           2   \n",
       "2    2021          1               1  Ciutat Vella           3   \n",
       "3    2021          1               1  Ciutat Vella           4   \n",
       "4    2021          1               2      Eixample           5   \n",
       "..    ...        ...             ...           ...         ...   \n",
       "506  2021          4              10    Sant Martí          69   \n",
       "507  2021          4              10    Sant Martí          70   \n",
       "508  2021          4              10    Sant Martí          71   \n",
       "509  2021          4              10    Sant Martí          72   \n",
       "510  2021          4              10    Sant Martí          73   \n",
       "\n",
       "                                        Nom_Barri  \\\n",
       "0                                        el Raval   \n",
       "1                                  el Barri Gòtic   \n",
       "2                                  la Barceloneta   \n",
       "3           Sant Pere, Santa Caterina i la Ribera   \n",
       "4                                   el Fort Pienc   \n",
       "..                                            ...   \n",
       "506  Diagonal Mar i el Front Marítim del Poblenou   \n",
       "507                         el Besòs i el Maresme   \n",
       "508                       Provençals del Poblenou   \n",
       "509                      Sant Martí de Provençals   \n",
       "510                           la Verneda i la Pau   \n",
       "\n",
       "                         Lloguer_mitja    Preu  \n",
       "0    Lloguer mitjà mensual (Euros/mes)   759.2  \n",
       "1    Lloguer mitjà mensual (Euros/mes)   929.6  \n",
       "2    Lloguer mitjà mensual (Euros/mes)   808.9  \n",
       "3    Lloguer mitjà mensual (Euros/mes)   879.4  \n",
       "4    Lloguer mitjà mensual (Euros/mes)   918.0  \n",
       "..                                 ...     ...  \n",
       "506  Lloguer mitjà mensual (Euros/mes)  1205.3  \n",
       "507  Lloguer mitjà mensual (Euros/mes)   700.5  \n",
       "508  Lloguer mitjà mensual (Euros/mes)   977.8  \n",
       "509  Lloguer mitjà mensual (Euros/mes)   826.2  \n",
       "510  Lloguer mitjà mensual (Euros/mes)   752.0  \n",
       "\n",
       "[292 rows x 8 columns]"
      ]
     },
     "execution_count": 14,
     "metadata": {},
     "output_type": "execute_result"
    }
   ],
   "source": [
    "mensual= barris.loc[barris.Lloguer_mitja==\"Lloguer mitjà mensual (Euros/mes)\"]\n",
    "mensual"
   ]
  },
  {
   "cell_type": "code",
   "execution_count": 15,
   "id": "05d0febd",
   "metadata": {},
   "outputs": [
    {
     "data": {
      "text/plain": [
       "Nom_Districte\n",
       "Ciutat Vella            858.925000\n",
       "Eixample               1000.545833\n",
       "Gràcia                  877.265000\n",
       "Horta-Guinardó          765.007500\n",
       "Les Corts              1214.066667\n",
       "Nou Barris              664.292500\n",
       "Sant Andreu             721.196154\n",
       "Sant Martí              916.450000\n",
       "Sants-Montjuïc          798.932143\n",
       "Sarrià-Sant Gervasi    1271.212500\n",
       "Name: Preu, dtype: float64"
      ]
     },
     "execution_count": 15,
     "metadata": {},
     "output_type": "execute_result"
    }
   ],
   "source": [
    "mensual.groupby([\"Nom_Districte\"])[\"Preu\"].mean()"
   ]
  },
  {
   "cell_type": "code",
   "execution_count": 16,
   "id": "d92da6ab",
   "metadata": {},
   "outputs": [
    {
     "data": {
      "text/plain": [
       "Text(0, 0.5, 'Precio mensual')"
      ]
     },
     "execution_count": 16,
     "metadata": {},
     "output_type": "execute_result"
    },
    {
     "data": {
      "image/png": "[encoded data removed]",
      "text/plain": [
       "<Figure size 432x288 with 1 Axes>"
      ]
     },
     "metadata": {
      "needs_background": "light"
     },
     "output_type": "display_data"
    }
   ],
   "source": [
    "mensual.groupby([\"Nom_Districte\"])[\"Preu\"].mean().plot(kind='bar')\n",
    "\n",
    "plt.title(\"Precios medios de alquiler\")\n",
    "plt.xlabel(\"Distritos\")\n",
    "plt.ylabel(\"Precio mensual\")"
   ]
  },
  {
   "cell_type": "markdown",
   "id": "1cf9572a",
   "metadata": {},
   "source": [
    "Esta grafica nos muestra el valor medio de alquiler por distritos de Barcelona para el año 2021"
   ]
  },
  {
   "cell_type": "markdown",
   "id": "797cf98e",
   "metadata": {},
   "source": [
    "   3. Una variable numèrica i una categòrica (Districte i Preu)\n",
    "   \n",
    "   "
   ]
  },
  {
   "cell_type": "code",
   "execution_count": 17,
   "id": "e63c89d8",
   "metadata": {},
   "outputs": [
    {
     "data": {
      "image/png": "[encoded data removed]",
      "text/plain": [
       "<Figure size 720x194.4 with 2 Axes>"
      ]
     },
     "metadata": {
      "needs_background": "light"
     },
     "output_type": "display_data"
    }
   ],
   "source": [
    "fig, ax = plt.subplots(figsize=(10, 2.7))\n",
    "\n",
    "#plot 1:\n",
    "\n",
    "\n",
    "\n",
    "plt.subplot(1, 2, 1)\n",
    "mensual.groupby([\"Nom_Districte\"])[\"Preu\"].mean().plot(kind='bar')\n",
    "\n",
    "plt.title(\"Precios medios de alquiler\")\n",
    "plt.xlabel(\"Distritos\")\n",
    "plt.ylabel(\"Precio mensual\")\n",
    "\n",
    "#plot 2:\n",
    "\n",
    "\n",
    "\n",
    "\n",
    "plt.subplot(1, 2, 2)\n",
    "barris.groupby([\"Nom_Districte\"])[\"Nom_Barri\"].nunique().plot(kind='bar')\n",
    "plt.title(\"Numero de barrios por  distritos\")\n",
    "plt.xlabel(\"Distritos\")\n",
    "plt.ylabel(\"Num. de barrios\")\n",
    "\n",
    "plt.show()"
   ]
  },
  {
   "cell_type": "markdown",
   "id": "1ba163ab",
   "metadata": {},
   "source": [
    "    4. Dues variables numèriques (Any o Trimestre i Preu)"
   ]
  },
  {
   "cell_type": "code",
   "execution_count": 18,
   "id": "5b99a450",
   "metadata": {},
   "outputs": [
    {
     "data": {
      "text/plain": [
       "Text(0, 0.5, 'Precio mensual')"
      ]
     },
     "execution_count": 18,
     "metadata": {},
     "output_type": "execute_result"
    },
    {
     "data": {
      "image/png": "[encoded data removed]",
      "text/plain": [
       "<Figure size 432x288 with 1 Axes>"
      ]
     },
     "metadata": {
      "needs_background": "light"
     },
     "output_type": "display_data"
    }
   ],
   "source": [
    "mensual.groupby([\"Trimestre\"])[\"Preu\"].mean().plot(kind='bar')\n",
    "\n",
    "plt.title(\"Precios medios de alquiler\")\n",
    "plt.xlabel(\"Trimestres\")\n",
    "plt.ylabel(\"Precio mensual\")"
   ]
  },
  {
   "cell_type": "markdown",
   "id": "3e6953dd",
   "metadata": {},
   "source": [
    "el grafico me muestra que el segundo trimestre baja ligeramente los precios de alquiler"
   ]
  },
  {
   "cell_type": "markdown",
   "id": "8701bd5a",
   "metadata": {},
   "source": [
    " 5. Tres variables (Barri o Districte, Trimestre i Preu)"
   ]
  },
  {
   "cell_type": "code",
   "execution_count": 19,
   "id": "66cabb1c",
   "metadata": {},
   "outputs": [
    {
     "data": {
      "text/plain": [
       "Nom_Districte        Trimestre\n",
       "Ciutat Vella         1             844.275000\n",
       "                     2             846.300000\n",
       "                     3             863.500000\n",
       "                     4             881.625000\n",
       "Eixample             1             980.783333\n",
       "                     2             990.500000\n",
       "                     3            1004.466667\n",
       "                     4            1026.433333\n",
       "Gràcia               1             867.880000\n",
       "                     2             868.320000\n",
       "                     3             888.480000\n",
       "                     4             884.380000\n",
       "Horta-Guinardó       1             754.630000\n",
       "                     2             761.350000\n",
       "                     3             776.100000\n",
       "                     4             767.950000\n",
       "Les Corts            1            1171.933333\n",
       "                     2            1194.633333\n",
       "                     3            1272.133333\n",
       "                     4            1217.566667\n",
       "Nou Barris           1             665.720000\n",
       "                     2             652.200000\n",
       "                     3             668.810000\n",
       "                     4             670.440000\n",
       "Sant Andreu          1             731.150000\n",
       "                     2             699.271429\n",
       "                     3             725.333333\n",
       "                     4             731.042857\n",
       "Sant Martí           1             901.770000\n",
       "                     2             871.590000\n",
       "                     3             941.060000\n",
       "                     4             951.380000\n",
       "Sants-Montjuïc       1             799.271429\n",
       "                     2             791.228571\n",
       "                     3             803.414286\n",
       "                     4             801.814286\n",
       "Sarrià-Sant Gervasi  1            1320.566667\n",
       "                     2            1231.883333\n",
       "                     3            1239.666667\n",
       "                     4            1292.733333\n",
       "Name: Preu, dtype: float64"
      ]
     },
     "execution_count": 19,
     "metadata": {},
     "output_type": "execute_result"
    }
   ],
   "source": [
    "mensual.groupby([\"Nom_Districte\",\"Trimestre\"])[\"Preu\"].mean()"
   ]
  },
  {
   "cell_type": "code",
   "execution_count": 38,
   "id": "58d00bc3",
   "metadata": {},
   "outputs": [
    {
     "data": {
      "text/plain": [
       "Trimestre  Nom_Districte      \n",
       "1          Ciutat Vella            844.275000\n",
       "           Eixample                980.783333\n",
       "           Gràcia                  867.880000\n",
       "           Horta-Guinardó          754.630000\n",
       "           Les Corts              1171.933333\n",
       "           Nou Barris              665.720000\n",
       "           Sant Andreu             731.150000\n",
       "           Sant Martí              901.770000\n",
       "           Sants-Montjuïc          799.271429\n",
       "           Sarrià-Sant Gervasi    1320.566667\n",
       "2          Ciutat Vella            846.300000\n",
       "           Eixample                990.500000\n",
       "           Gràcia                  868.320000\n",
       "           Horta-Guinardó          761.350000\n",
       "           Les Corts              1194.633333\n",
       "           Nou Barris              652.200000\n",
       "           Sant Andreu             699.271429\n",
       "           Sant Martí              871.590000\n",
       "           Sants-Montjuïc          791.228571\n",
       "           Sarrià-Sant Gervasi    1231.883333\n",
       "3          Ciutat Vella            863.500000\n",
       "           Eixample               1004.466667\n",
       "           Gràcia                  888.480000\n",
       "           Horta-Guinardó          776.100000\n",
       "           Les Corts              1272.133333\n",
       "           Nou Barris              668.810000\n",
       "           Sant Andreu             725.333333\n",
       "           Sant Martí              941.060000\n",
       "           Sants-Montjuïc          803.414286\n",
       "           Sarrià-Sant Gervasi    1239.666667\n",
       "4          Ciutat Vella            881.625000\n",
       "           Eixample               1026.433333\n",
       "           Gràcia                  884.380000\n",
       "           Horta-Guinardó          767.950000\n",
       "           Les Corts              1217.566667\n",
       "           Nou Barris              670.440000\n",
       "           Sant Andreu             731.042857\n",
       "           Sant Martí              951.380000\n",
       "           Sants-Montjuïc          801.814286\n",
       "           Sarrià-Sant Gervasi    1292.733333\n",
       "Name: Preu, dtype: float64"
      ]
     },
     "execution_count": 38,
     "metadata": {},
     "output_type": "execute_result"
    }
   ],
   "source": [
    "values= mensual.groupby([\"Trimestre\",\"Nom_Districte\"])[\"Preu\"].mean()\n",
    "trimestre=mensual[\"Trimestre\"]\n",
    "data=pd.DataFrame(values,trimestre, mensual[\"Nom_Districte\"] )\n",
    "values"
   ]
  },
  {
   "cell_type": "code",
   "execution_count": 26,
   "id": "ae15acfd",
   "metadata": {},
   "outputs": [],
   "source": [
    "import seaborn as sns"
   ]
  },
  {
   "cell_type": "code",
   "execution_count": 39,
   "id": "3ffe9479",
   "metadata": {},
   "outputs": [
    {
     "data": {
      "text/plain": [
       "<AxesSubplot:>"
      ]
     },
     "execution_count": 39,
     "metadata": {},
     "output_type": "execute_result"
    },
    {
     "data": {
      "image/png": "[encoded data removed]",
      "text/plain": [
       "<Figure size 432x288 with 1 Axes>"
      ]
     },
     "metadata": {
      "needs_background": "light"
     },
     "output_type": "display_data"
    }
   ],
   "source": [
    "sns.lineplot(data=mensual) "
   ]
  },
  {
   "cell_type": "code",
   "execution_count": 95,
   "id": "ab95132c",
   "metadata": {},
   "outputs": [
    {
     "data": {
      "text/html": [
       "<div>\n",
       "<style scoped>\n",
       "    .dataframe tbody tr th:only-of-type {\n",
       "        vertical-align: middle;\n",
       "    }\n",
       "\n",
       "    .dataframe tbody tr th {\n",
       "        vertical-align: top;\n",
       "    }\n",
       "\n",
       "    .dataframe thead tr th {\n",
       "        text-align: left;\n",
       "    }\n",
       "\n",
       "    .dataframe thead tr:last-of-type th {\n",
       "        text-align: right;\n",
       "    }\n",
       "</style>\n",
       "<table border=\"1\" class=\"dataframe\">\n",
       "  <thead>\n",
       "    <tr>\n",
       "      <th></th>\n",
       "      <th colspan=\"10\" halign=\"left\">Preu</th>\n",
       "    </tr>\n",
       "    <tr>\n",
       "      <th>Nom_Districte</th>\n",
       "      <th>Ciutat Vella</th>\n",
       "      <th>Eixample</th>\n",
       "      <th>Gràcia</th>\n",
       "      <th>Horta-Guinardó</th>\n",
       "      <th>Les Corts</th>\n",
       "      <th>Nou Barris</th>\n",
       "      <th>Sant Andreu</th>\n",
       "      <th>Sant Martí</th>\n",
       "      <th>Sants-Montjuïc</th>\n",
       "      <th>Sarrià-Sant Gervasi</th>\n",
       "    </tr>\n",
       "    <tr>\n",
       "      <th>Trimestre</th>\n",
       "      <th></th>\n",
       "      <th></th>\n",
       "      <th></th>\n",
       "      <th></th>\n",
       "      <th></th>\n",
       "      <th></th>\n",
       "      <th></th>\n",
       "      <th></th>\n",
       "      <th></th>\n",
       "      <th></th>\n",
       "    </tr>\n",
       "  </thead>\n",
       "  <tbody>\n",
       "    <tr>\n",
       "      <th>1</th>\n",
       "      <td>844.275</td>\n",
       "      <td>980.783333</td>\n",
       "      <td>867.88</td>\n",
       "      <td>754.63</td>\n",
       "      <td>1171.933333</td>\n",
       "      <td>665.72</td>\n",
       "      <td>731.150000</td>\n",
       "      <td>901.77</td>\n",
       "      <td>799.271429</td>\n",
       "      <td>1320.566667</td>\n",
       "    </tr>\n",
       "    <tr>\n",
       "      <th>2</th>\n",
       "      <td>846.300</td>\n",
       "      <td>990.500000</td>\n",
       "      <td>868.32</td>\n",
       "      <td>761.35</td>\n",
       "      <td>1194.633333</td>\n",
       "      <td>652.20</td>\n",
       "      <td>699.271429</td>\n",
       "      <td>871.59</td>\n",
       "      <td>791.228571</td>\n",
       "      <td>1231.883333</td>\n",
       "    </tr>\n",
       "    <tr>\n",
       "      <th>3</th>\n",
       "      <td>863.500</td>\n",
       "      <td>1004.466667</td>\n",
       "      <td>888.48</td>\n",
       "      <td>776.10</td>\n",
       "      <td>1272.133333</td>\n",
       "      <td>668.81</td>\n",
       "      <td>725.333333</td>\n",
       "      <td>941.06</td>\n",
       "      <td>803.414286</td>\n",
       "      <td>1239.666667</td>\n",
       "    </tr>\n",
       "    <tr>\n",
       "      <th>4</th>\n",
       "      <td>881.625</td>\n",
       "      <td>1026.433333</td>\n",
       "      <td>884.38</td>\n",
       "      <td>767.95</td>\n",
       "      <td>1217.566667</td>\n",
       "      <td>670.44</td>\n",
       "      <td>731.042857</td>\n",
       "      <td>951.38</td>\n",
       "      <td>801.814286</td>\n",
       "      <td>1292.733333</td>\n",
       "    </tr>\n",
       "  </tbody>\n",
       "</table>\n",
       "</div>"
      ],
      "text/plain": [
       "                      Preu                                                   \\\n",
       "Nom_Districte Ciutat Vella     Eixample  Gràcia Horta-Guinardó    Les Corts   \n",
       "Trimestre                                                                     \n",
       "1                  844.275   980.783333  867.88         754.63  1171.933333   \n",
       "2                  846.300   990.500000  868.32         761.35  1194.633333   \n",
       "3                  863.500  1004.466667  888.48         776.10  1272.133333   \n",
       "4                  881.625  1026.433333  884.38         767.95  1217.566667   \n",
       "\n",
       "                                                                \\\n",
       "Nom_Districte Nou Barris Sant Andreu Sant Martí Sants-Montjuïc   \n",
       "Trimestre                                                        \n",
       "1                 665.72  731.150000     901.77     799.271429   \n",
       "2                 652.20  699.271429     871.59     791.228571   \n",
       "3                 668.81  725.333333     941.06     803.414286   \n",
       "4                 670.44  731.042857     951.38     801.814286   \n",
       "\n",
       "                                   \n",
       "Nom_Districte Sarrià-Sant Gervasi  \n",
       "Trimestre                          \n",
       "1                     1320.566667  \n",
       "2                     1231.883333  \n",
       "3                     1239.666667  \n",
       "4                     1292.733333  "
      ]
     },
     "execution_count": 95,
     "metadata": {},
     "output_type": "execute_result"
    }
   ],
   "source": [
    "trimestre=mensual.pivot_table(index=\"Trimestre\", columns=\"Nom_Districte\",aggfunc={\"Preu\":np.mean})\n",
    "trimestre"
   ]
  },
  {
   "cell_type": "code",
   "execution_count": 102,
   "id": "3fa7fb15",
   "metadata": {},
   "outputs": [],
   "source": [
    "tri=trimestre.droplevel(0, axis=1)"
   ]
  },
  {
   "cell_type": "code",
   "execution_count": 104,
   "id": "ef5dc08e",
   "metadata": {},
   "outputs": [
    {
     "data": {
      "text/html": [
       "<div>\n",
       "<style scoped>\n",
       "    .dataframe tbody tr th:only-of-type {\n",
       "        vertical-align: middle;\n",
       "    }\n",
       "\n",
       "    .dataframe tbody tr th {\n",
       "        vertical-align: top;\n",
       "    }\n",
       "\n",
       "    .dataframe thead th {\n",
       "        text-align: right;\n",
       "    }\n",
       "</style>\n",
       "<table border=\"1\" class=\"dataframe\">\n",
       "  <thead>\n",
       "    <tr style=\"text-align: right;\">\n",
       "      <th>Nom_Districte</th>\n",
       "      <th>Ciutat Vella</th>\n",
       "      <th>Eixample</th>\n",
       "      <th>Gràcia</th>\n",
       "      <th>Horta-Guinardó</th>\n",
       "      <th>Les Corts</th>\n",
       "      <th>Nou Barris</th>\n",
       "      <th>Sant Andreu</th>\n",
       "      <th>Sant Martí</th>\n",
       "      <th>Sants-Montjuïc</th>\n",
       "      <th>Sarrià-Sant Gervasi</th>\n",
       "    </tr>\n",
       "    <tr>\n",
       "      <th>Trimestre</th>\n",
       "      <th></th>\n",
       "      <th></th>\n",
       "      <th></th>\n",
       "      <th></th>\n",
       "      <th></th>\n",
       "      <th></th>\n",
       "      <th></th>\n",
       "      <th></th>\n",
       "      <th></th>\n",
       "      <th></th>\n",
       "    </tr>\n",
       "  </thead>\n",
       "  <tbody>\n",
       "    <tr>\n",
       "      <th>1</th>\n",
       "      <td>844.275</td>\n",
       "      <td>980.783333</td>\n",
       "      <td>867.88</td>\n",
       "      <td>754.63</td>\n",
       "      <td>1171.933333</td>\n",
       "      <td>665.72</td>\n",
       "      <td>731.150000</td>\n",
       "      <td>901.77</td>\n",
       "      <td>799.271429</td>\n",
       "      <td>1320.566667</td>\n",
       "    </tr>\n",
       "    <tr>\n",
       "      <th>2</th>\n",
       "      <td>846.300</td>\n",
       "      <td>990.500000</td>\n",
       "      <td>868.32</td>\n",
       "      <td>761.35</td>\n",
       "      <td>1194.633333</td>\n",
       "      <td>652.20</td>\n",
       "      <td>699.271429</td>\n",
       "      <td>871.59</td>\n",
       "      <td>791.228571</td>\n",
       "      <td>1231.883333</td>\n",
       "    </tr>\n",
       "    <tr>\n",
       "      <th>3</th>\n",
       "      <td>863.500</td>\n",
       "      <td>1004.466667</td>\n",
       "      <td>888.48</td>\n",
       "      <td>776.10</td>\n",
       "      <td>1272.133333</td>\n",
       "      <td>668.81</td>\n",
       "      <td>725.333333</td>\n",
       "      <td>941.06</td>\n",
       "      <td>803.414286</td>\n",
       "      <td>1239.666667</td>\n",
       "    </tr>\n",
       "    <tr>\n",
       "      <th>4</th>\n",
       "      <td>881.625</td>\n",
       "      <td>1026.433333</td>\n",
       "      <td>884.38</td>\n",
       "      <td>767.95</td>\n",
       "      <td>1217.566667</td>\n",
       "      <td>670.44</td>\n",
       "      <td>731.042857</td>\n",
       "      <td>951.38</td>\n",
       "      <td>801.814286</td>\n",
       "      <td>1292.733333</td>\n",
       "    </tr>\n",
       "  </tbody>\n",
       "</table>\n",
       "</div>"
      ],
      "text/plain": [
       "Nom_Districte  Ciutat Vella     Eixample  Gràcia  Horta-Guinardó    Les Corts  \\\n",
       "Trimestre                                                                       \n",
       "1                   844.275   980.783333  867.88          754.63  1171.933333   \n",
       "2                   846.300   990.500000  868.32          761.35  1194.633333   \n",
       "3                   863.500  1004.466667  888.48          776.10  1272.133333   \n",
       "4                   881.625  1026.433333  884.38          767.95  1217.566667   \n",
       "\n",
       "Nom_Districte  Nou Barris  Sant Andreu  Sant Martí  Sants-Montjuïc  \\\n",
       "Trimestre                                                            \n",
       "1                  665.72   731.150000      901.77      799.271429   \n",
       "2                  652.20   699.271429      871.59      791.228571   \n",
       "3                  668.81   725.333333      941.06      803.414286   \n",
       "4                  670.44   731.042857      951.38      801.814286   \n",
       "\n",
       "Nom_Districte  Sarrià-Sant Gervasi  \n",
       "Trimestre                           \n",
       "1                      1320.566667  \n",
       "2                      1231.883333  \n",
       "3                      1239.666667  \n",
       "4                      1292.733333  "
      ]
     },
     "execution_count": 104,
     "metadata": {},
     "output_type": "execute_result"
    }
   ],
   "source": [
    "tri"
   ]
  },
  {
   "cell_type": "code",
   "execution_count": 109,
   "id": "ea049ac1",
   "metadata": {
    "scrolled": true
   },
   "outputs": [
    {
     "data": {
      "text/plain": [
       "Text(0, 0.5, 'Precio mensual')"
      ]
     },
     "execution_count": 109,
     "metadata": {},
     "output_type": "execute_result"
    },
    {
     "data": {
      "image/png": "[encoded data removed]",
      "text/plain": [
       "<Figure size 432x288 with 1 Axes>"
      ]
     },
     "metadata": {
      "needs_background": "light"
     },
     "output_type": "display_data"
    }
   ],
   "source": [
    "tri.plot()\n",
    "plt.title(\"Evolución de los precios medios de alquiler por trimestres\")\n",
    "plt.xlabel(\"Trimestres\")\n",
    "plt.ylabel(\"Precio mensual\")"
   ]
  },
  {
   "cell_type": "markdown",
   "id": "c34e4cb1",
   "metadata": {},
   "source": [
    "# Exercici 2"
   ]
  },
  {
   "cell_type": "code",
   "execution_count": null,
   "id": "065b778a",
   "metadata": {},
   "outputs": [],
   "source": [
    "Exporta els gràfics com imatges o com HTML."
   ]
  },
  {
   "cell_type": "code",
   "execution_count": 137,
   "id": "0dcd9452",
   "metadata": {},
   "outputs": [
    {
     "data": {
      "image/png": "[encoded data removed]",
      "text/plain": [
       "<Figure size 432x288 with 1 Axes>"
      ]
     },
     "metadata": {
      "needs_background": "light"
     },
     "output_type": "display_data"
    }
   ],
   "source": [
    "barris.groupby([\"Nom_Districte\"])[\"Nom_Barri\"].nunique().plot(kind='bar')\n",
    "plt.title(\"Numero de barrios por  distritos\")\n",
    "plt.xlabel(\"Distritos\")\n",
    "plt.ylabel(\"Num. de barrios\")\n",
    "plt.savefig(\"Numero de Barrios\")"
   ]
  },
  {
   "cell_type": "code",
   "execution_count": 132,
   "id": "88612855",
   "metadata": {},
   "outputs": [],
   "source": [
    "from matplotlib import pyplot as plt\n",
    "from matplotlib.backends.backend_pdf import PdfPages"
   ]
  },
  {
   "cell_type": "code",
   "execution_count": 146,
   "id": "f23db445",
   "metadata": {},
   "outputs": [
    {
     "data": {
      "image/png": "[encoded data removed]",
      "text/plain": [
       "<Figure size 720x216 with 2 Axes>"
      ]
     },
     "metadata": {
      "needs_background": "light"
     },
     "output_type": "display_data"
    }
   ],
   "source": [
    "fig, ax = plt.subplots(figsize=(10, 3))\n",
    "\n",
    "#plot 1:\n",
    "plt.subplot(1, 2, 1)\n",
    "mensual.groupby([\"Nom_Districte\"])[\"Preu\"].mean().plot(kind='bar')\n",
    "\n",
    "plt.title(\"Precios medios de alquiler\")\n",
    "plt.xlabel(\"Distritos\")\n",
    "plt.ylabel(\"Precio mensual\")\n",
    "\n",
    "#plot 2:\n",
    "plt.subplot(1, 2, 2)\n",
    "barris.groupby([\"Nom_Districte\"])[\"Nom_Barri\"].nunique().plot(kind='bar')\n",
    "plt.title(\"Numero de barrios por  distritos\")\n",
    "plt.xlabel(\"Distritos\")\n",
    "plt.ylabel(\"Num. de barrios\")\n",
    "\n",
    "plt.savefig(\"dos graficos\",bbox_inches='tight')"
   ]
  },
  {
   "cell_type": "code",
   "execution_count": 135,
   "id": "12129287",
   "metadata": {},
   "outputs": [
    {
     "data": {
      "image/png": "[encoded data removed]",
      "text/plain": [
       "<Figure size 720x360 with 2 Axes>"
      ]
     },
     "metadata": {
      "needs_background": "light"
     },
     "output_type": "display_data"
    }
   ],
   "source": [
    "fig, ax = plt.subplots(figsize=(10, 5))\n",
    "\n",
    "#plot 1:\n",
    "plt.subplot(1, 2, 1)\n",
    "mensual.groupby([\"Nom_Districte\"])[\"Preu\"].mean().plot(kind='bar')\n",
    "\n",
    "plt.title(\"Precios medios de alquiler\")\n",
    "plt.xlabel(\"Distritos\")\n",
    "plt.ylabel(\"Precio mensual\")\n",
    "\n",
    "#plot 2:\n",
    "plt.subplot(1, 2, 2)\n",
    "barris.groupby([\"Nom_Districte\"])[\"Nom_Barri\"].nunique().plot(kind='bar')\n",
    "plt.title(\"Numero de barrios por  distritos\")\n",
    "plt.xlabel(\"Distritos\")\n",
    "plt.ylabel(\"Num. de barrios\")\n",
    "\n",
    "def save_multi_image(filename):\n",
    "    pp = PdfPages(filename)\n",
    "    fig_nums = plt.get_fignums()\n",
    "    figs = [plt.figure(n) for n in fig_nums]\n",
    "    for fig in figs:\n",
    "        fig.savefig(pp, format='pdf')\n",
    "    pp.close()\n",
    "\n",
    "filename = \"multi.pdf\"\n",
    "save_multi_image(filename)\n",
    "\n"
   ]
  },
  {
   "cell_type": "code",
   "execution_count": 127,
   "id": "c1b0dd3d",
   "metadata": {},
   "outputs": [
    {
     "data": {
      "image/png": "[encoded data removed]",
      "text/plain": [
       "<Figure size 432x288 with 1 Axes>"
      ]
     },
     "metadata": {
      "needs_background": "light"
     },
     "output_type": "display_data"
    }
   ],
   "source": [
    "mensual.groupby([\"Trimestre\"])[\"Preu\"].mean().plot(kind='bar')\n",
    "\n",
    "plt.title(\"Precios medios de alquiler\")\n",
    "plt.xlabel(\"Trimestres\")\n",
    "plt.ylabel(\"Precio mensual\")\n",
    "\n",
    "plt.savefig(\"Precio_medios\")\n",
    "\n",
    "html = 'Some html head' + '<img src=\\'Precios_medios.png\\'>' + 'Some more html'\n",
    "\n",
    "with open('Precios_medios.html','w') as f:\n",
    "    f.write(html)"
   ]
  },
  {
   "cell_type": "code",
   "execution_count": 116,
   "id": "515f4008",
   "metadata": {},
   "outputs": [
    {
     "data": {
      "image/png": "[encoded data removed]",
      "text/plain": [
       "<Figure size 432x288 with 1 Axes>"
      ]
     },
     "metadata": {
      "needs_background": "light"
     },
     "output_type": "display_data"
    }
   ],
   "source": [
    "tri.plot()\n",
    "plt.title(\"Evolución de los precios medios de alquiler por trimestres\")\n",
    "plt.xlabel(\"Trimestres\")\n",
    "plt.ylabel(\"Precio mensual\")\n",
    "plt.close(fig)\n",
    "plt.savefig(\"Precios trimestrales.pdf\",dpi=300, bbox_inches='tight')"
   ]
  }
 ],
 "metadata": {
  "kernelspec": {
   "display_name": "Python 3 (ipykernel)",
   "language": "python",
   "name": "python3"
  },
  "language_info": {
   "codemirror_mode": {
    "name": "ipython",
    "version": 3
   },
   "file_extension": ".py",
   "mimetype": "text/x-python",
   "name": "python",
   "nbconvert_exporter": "python",
   "pygments_lexer": "ipython3",
   "version": "3.9.7"
  }
 },
 "nbformat": 4,
 "nbformat_minor": 5
}
